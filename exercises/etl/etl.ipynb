{
    "cells": [
        {
            "cell_type": "markdown",
            "metadata": {},
            "source": ["# ETL\n", "\n", "We are going to do the `Transform` step of an Extract-Transform-Load.\n", "\n", "### ETL\n", "\n", "Extract-Transform-Load (ETL) is a fancy way of saying, \"We have some crufty, legacy data over in this system, and now we need it in this shiny new system over here, so\n", "we're going to migrate this.\"\n", "\n", "(Typically, this is followed by, \"We're only going to need to run this\n", "once.\" That's then typically followed by much forehead slapping and\n", "moaning about how stupid we could possibly be.)\n", "\n", "### The goal\n", "\n", "We're going to extract some Scrabble scores from a legacy system.\n", "\n", "The old system stored a list of letters per score:\n", "\n", "- 1 point: \"A\", \"E\", \"I\", \"O\", \"U\", \"L\", \"N\", \"R\", \"S\", \"T\",\n", "- 2 points: \"D\", \"G\",\n", "- 3 points: \"B\", \"C\", \"M\", \"P\",\n", "- 4 points: \"F\", \"H\", \"V\", \"W\", \"Y\",\n", "- 5 points: \"K\",\n", "- 8 points: \"J\", \"X\",\n", "- 10 points: \"Q\", \"Z\",\n", "\n", "The shiny new Scrabble system instead stores the score per letter, which\n", "makes it much faster and easier to calculate the score for a word. It\n", "also stores the letters in lower-case regardless of the case of the\n", "input letters:\n", "\n", "- \"a\" is worth 1 point.\n", "- \"b\" is worth 3 points.\n", "- \"c\" is worth 3 points.\n", "- \"d\" is worth 2 points.\n", "- Etc.\n", "\n", "Your mission, should you choose to accept it, is to transform the legacy data\n", "format to the shiny new format.\n", "\n", "### Notes\n", "\n", "A final note about scoring, Scrabble is played around the world in a\n", "variety of languages, each with its own unique scoring table. For\n", "example, an \"E\" is scored at 2 in the Māori-language version of the\n", "game while being scored at 4 in the Hawaiian-language version.\n", "\n", "## Source\n", "\n", "The Jumpstart Lab team [http://jumpstartlab.com](http://jumpstartlab.com)\n", "\n", "## Version compatibility\n", "This exercise has been tested on Julia versions >=1.0.\n", "\n", "## Submitting Incomplete Solutions\n", "It's possible to submit an incomplete solution so you can see how others have completed the exercise."]
        },
        {
            "cell_type": "markdown",
            "metadata": {},
            "source": ["## Your solution"]
        },
        {
            "cell_type": "code",
            "execution_count": null,
            "metadata": {},
            "outputs": [],
            "source": ["# submit\n", "function transform(input::AbstractDict)\n", "\n", "end\n", ""]
        },
        {
            "cell_type": "markdown",
            "metadata": {},
            "source": ["## Test suite"]
        },
        {
            "cell_type": "code",
            "execution_count": null,
            "metadata": {},
            "outputs": [],
            "source": ["using Test\n", "\n", "# include(\"etl.jl\")\n", "\n", "@testset \"single letter\" begin\n", "    input = Dict(1=>['A'])\n", "    output = Dict('a'=>1)\n", "    @test transform(input) == output\n", "end\n", "\n", "@testset \"single score with multiple letters\" begin\n", "    input = Dict(1=>['A', 'E', 'I', 'O', 'U'])\n", "    output = Dict('a'=>1, 'e'=>1, 'i'=>1, 'o'=>1, 'u'=>1)\n", "    @test transform(input) == output\n", "end\n", "\n", "@testset \"multiple scores with multiple letters\" begin\n", "    input = Dict(1=>['A', 'E'], 2=>['D', 'G'])\n", "    output = Dict('g'=>2, 'e'=>1, 'a'=>1, 'd'=>2)\n", "    @test transform(input) == output\n", "end\n", "\n", "@testset \"multiple scores with differing numbers of letters\" begin\n", "    input = Dict(1=>[ 'A', 'E', 'I', 'O', 'U', 'L', 'N', 'R', 'S', 'T' ],\n", "                 2=>[ 'D', 'G' ], 3=>[ 'B', 'C', 'M', 'P' ],\n", "                 4=>[ 'F', 'H', 'V', 'W', 'Y' ], 5=>[ 'K' ],\n", "                 8=>[ 'J', 'X' ], 10=>[ 'Q', 'Z' ])\n", "    output = Dict('a'=>1, 'b'=>3,  'c'=>3, 'd'=>2, 'e'=>1,\n", "                  'f'=>4, 'g'=>2,  'h'=>4, 'i'=>1, 'j'=>8,\n", "                  'k'=>5, 'l'=>1,  'm'=>3, 'n'=>1, 'o'=>1,\n", "                  'p'=>3, 'q'=>10, 'r'=>1, 's'=>1, 't'=>1,\n", "                  'u'=>1, 'v'=>4,  'w'=>4, 'x'=>8, 'y'=>4,\n", "                  'z'=>10)\n", "    @test transform(input) == output\n", "end\n", ""]
        },
        {
            "cell_type": "markdown",
            "metadata": {},
            "source": [
                "## Prepare submission\n",
                "To submit your exercise, you need to save your solution in a file called `etl.jl` before using the CLI.\n",
                "You can either create it manually or use the following functions, which will automatically write every notebook cell that starts with `# submit` to the file `etl.jl`.\n"
            ]
        },
        {
            "cell_type": "code",
            "execution_count": null,
            "metadata": {},
            "outputs": [],
            "source": [
                "# using Pkg; Pkg.add(\"Exercism\")\n",
                "# using Exercism\n",
                "# Exercism.create_submission(\"etl\")"
            ]
        }
    ],
    "metadata": {
        "kernelspec": {
            "display_name": "Julia 1.3.0",
            "language": "julia",
            "name": "julia-1.3"
        },
        "language_info": {
            "file_extension": ".jl",
            "mimetype": "application/julia",
            "name": "julia",
            "version": "1.3.0"
        }
    },
    "nbformat": 4,
    "nbformat_minor": 2
}
