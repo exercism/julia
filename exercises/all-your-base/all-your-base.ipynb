{
    "cells": [
        {
            "cell_type": "markdown",
            "metadata": {},
            "source": ["# All Your Base\n", "\n", "Convert a number, represented as a sequence of digits in one base, to any other base.\n", "\n", "Implement general base conversion. Given a number in base **a**,\n", "represented as a sequence of digits, convert it to base **b**.\n", "\n", "## Note\n", "\n", "- Try to implement the conversion yourself.\n", "  Do not use something else to perform the conversion for you.\n", "\n", "## About [Positional Notation](https://en.wikipedia.org/wiki/Positional_notation)\n", "\n", "In positional notation, a number in base **b** can be understood as a linear\n", "combination of powers of **b**.\n", "\n", "The number 42, *in base 10*, means:\n", "\n", "(4 * 10^1) + (2 * 10^0)\n", "\n", "The number 101010, *in base 2*, means:\n", "\n", "(1 * 2^5) + (0 * 2^4) + (1 * 2^3) + (0 * 2^2) + (1 * 2^1) + (0 * 2^0)\n", "\n", "The number 1120, *in base 3*, means:\n", "\n", "(1 * 3^3) + (1 * 3^2) + (2 * 3^1) + (0 * 3^0)\n", "\n", "I think you got the idea!\n", "\n", "*Yes. Those three numbers above are exactly the same. Congratulations!*\n", "\n", "## Version compatibility\n", "This exercise has been tested on Julia versions >=1.0.\n", "\n", "## Submitting Incomplete Solutions\n", "It's possible to submit an incomplete solution so you can see how others have completed the exercise."]
        },
        {
            "cell_type": "markdown",
            "metadata": {},
            "source": ["## Your solution"]
        },
        {
            "cell_type": "code",
            "execution_count": null,
            "metadata": {},
            "outputs": [],
            "source": ["# submit\n", "# Implement number base conversion\n", "\n", "function all_your_base(digits, base_in, base_out)\n", "\n", "end"]
        },
        {
            "cell_type": "markdown",
            "metadata": {},
            "source": ["## Test suite"]
        },
        {
            "cell_type": "code",
            "execution_count": null,
            "metadata": {},
            "outputs": [],
            "source": ["using Test\n", "\n", "# include(\"all-your-base.jl\")\n", "\n", "@testset \"single bit one to decimal\" begin\n", "    @test all_your_base([1], 2, 10) == [1]\n", "end\n", "\n", "@testset \"binary to single decimal\" begin\n", "    @test all_your_base([1, 0, 1], 2, 10) == [5]\n", "end\n", "\n", "@testset \"single decimal to binary\" begin\n", "    @test all_your_base([5], 10, 2) == [1, 0, 1]\n", "end\n", "\n", "@testset \"binary to multiple decimal\" begin\n", "    @test all_your_base([1, 0, 1, 0, 1, 0], 2, 10) == [4, 2]\n", "end\n", "\n", "@testset \"decimal to binary\" begin\n", "    @test all_your_base([4, 2], 10, 2) == [1, 0, 1, 0, 1, 0]\n", "end\n", "\n", "@testset \"trinary to hexadecimal\" begin\n", "    @test all_your_base([1, 1, 2, 0], 3, 16) == [2, 10]\n", "end\n", "\n", "@testset \"hexadecimal to trinary\" begin\n", "    @test all_your_base([2, 10], 16, 3) == [1, 1, 2, 0]\n", "end\n", "\n", "@testset \"15-bit integer\" begin\n", "    @test all_your_base([3, 46, 60], 97, 73) == [6, 10, 45]\n", "end\n", "\n", "@testset \"empty list\" begin\n", "    @test all_your_base([], 2, 10) == [0]\n", "end\n", "\n", "@testset \"single zero\" begin\n", "    @test all_your_base([0], 10, 2) == [0]\n", "end\n", "\n", "@testset \"multiple zeros\" begin\n", "    @test all_your_base([0, 0, 0], 10, 2) == [0]\n", "end\n", "\n", "@testset \"leading zeros\" begin\n", "    @test all_your_base([0, 6, 0], 7, 10) == [4, 2]\n", "end\n", "\n", "@testset \"input base is one\" begin\n", "    @test_throws DomainError all_your_base([0], 1, 10)\n", "end\n", "\n", "@testset \"input base is zero\" begin\n", "    @test_throws DomainError all_your_base([], 0, 10)\n", "end\n", "\n", "@testset \"input base is negative\" begin\n", "    @test_throws DomainError all_your_base([1], -2, 10)\n", "end\n", "\n", "@testset \"negative digit\" begin\n", "    @test_throws DomainError all_your_base([1, -1, 1, 0, 1, 0], 2, 10)\n", "end\n", "\n", "@testset \"invalid positive digit\" begin\n", "    @test_throws DomainError all_your_base([1, 2, 1, 0, 1, 0], 2, 10)\n", "end\n", "\n", "@testset \"output base is one\" begin\n", "    @test_throws DomainError all_your_base([1, 0, 1, 0, 1, 0], 2, 1)\n", "end\n", "\n", "@testset \"output base is zero\" begin\n", "    @test_throws DomainError all_your_base([7], 10, 0)\n", "end\n", "\n", "@testset \"output base is negative\" begin\n", "    @test_throws DomainError all_your_base([1], 2, -7)\n", "end\n", "\n", "@testset \"both bases are negative\" begin\n", "    @test_throws DomainError all_your_base([1], -2, -7)\n", "end"]
        },
        {
            "cell_type": "markdown",
            "metadata": {},
            "source": [
                "## Prepare submission\n",
                "To submit your exercise, you need to save your solution in a file called `all-your-base.jl` before using the CLI.\n",
                "You can either create it manually or use the following functions, which will automatically write every notebook cell that starts with `# submit` to the file `all-your-base.jl`.\n"
            ]
        },
        {
            "cell_type": "code",
            "execution_count": null,
            "metadata": {},
            "outputs": [],
            "source": [
                "# using Pkg; Pkg.add(\"Exercism\")\n",
                "# using Exercism\n",
                "# Exercism.create_submission(\"all-your-base\")"
            ]
        }
    ],
    "metadata": {
        "kernelspec": {
            "display_name": "Julia 1.3.0",
            "language": "julia",
            "name": "julia-1.3"
        },
        "language_info": {
            "file_extension": ".jl",
            "mimetype": "application/julia",
            "name": "julia",
            "version": "1.3.0"
        }
    },
    "nbformat": 4,
    "nbformat_minor": 2
}
