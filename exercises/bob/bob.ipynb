{
    "cells": [
        {
            "cell_type": "markdown",
            "metadata": {},
            "source": ["# Bob\n", "\n", "Bob is a lackadaisical teenager. In conversation, his responses are very limited.\n", "\n", "Bob answers 'Sure.' if you ask him a question.\n", "\n", "He answers 'Whoa, chill out!' if you yell at him.\n", "\n", "He answers 'Calm down, I know what I'm doing!' if you yell a question at him.\n", "\n", "He says 'Fine. Be that way!' if you address him without actually saying\n", "anything.\n", "\n", "He answers 'Whatever.' to anything else.\n", "\n", "Bob's conversational partner is a purist when it comes to written communication and always follows normal rules regarding sentence punctuation in English.\n", "\n", "## Source\n", "\n", "Inspired by the 'Deaf Grandma' exercise in Chris Pine's Learn to Program tutorial. [http://pine.fm/LearnToProgram/?Chapter=06](http://pine.fm/LearnToProgram/?Chapter=06)\n", "\n", "## Version compatibility\n", "This exercise has been tested on Julia versions >=1.0.\n", "\n", "## Submitting Incomplete Solutions\n", "It's possible to submit an incomplete solution so you can see how others have completed the exercise."]
        },
        {
            "cell_type": "markdown",
            "metadata": {},
            "source": ["## Your solution"]
        },
        {
            "cell_type": "code",
            "execution_count": null,
            "metadata": {},
            "outputs": [],
            "source": ["# submit\n", "function bob(stimulus::AbstractString)\n", "\n", "end"]
        },
        {
            "cell_type": "markdown",
            "metadata": {},
            "source": ["## Test suite"]
        },
        {
            "cell_type": "code",
            "execution_count": null,
            "metadata": {},
            "outputs": [],
            "source": ["# canonical data version: 1.4.0\n", "\n", "using Test\n", "\n", "# include(\"bob.jl\")\n", "\n", "questions = (\n", "        \"Does this cryogenic chamber make me look fat?\",\n", "        \"You are, what, like 15?\",\n", "        \"fffbbcbeab?\",\n", "        \"4?\", \":) ?\",\n", "        \"Wait! Hang on. Are you going to be OK?\",\n", "        \"Okay if like my  spacebar  quite a bit?   \",\n", ")\n", "\n", "yells = (\n", "        \"WATCH OUT!\",\n", "        \"FCECDFCAAB\",\n", "        \"1, 2, 3 GO!\",\n", "        \"ZOMG THE %^*@#\\\$(*^ ZOMBIES ARE COMING!!11!!1!\",\n", "        \"I HATE YOU\",\n", ")\n", "\n", "silences = (\n", "        \"\",\n", "        \"          \",\n", "        \"\\t\\t\\t\\t\\t\\t\\t\\t\\t\\t\",\n", "        \"\\n\\r \\t\",\n", ")\n", "\n", "miscs = (\n", "        \"Tom-ay-to, tom-aaaah-to.\",\n", "        \"Let's go make out behind the gym!\",\n", "        \"It's OK if you don't want to go to the DMV.\",\n", "        \"1, 2, 3\",\n", "        \"Ending with ? means a question.\",\n", "        \"\\nDoes this cryogenic chamber make me look fat?\\nno\",\n", "        \"         hmmmmmmm...\",\n", "        \"This is a statement ending with whitespace      \",\n", ")\n", "\n", "response = Dict(\n", "        :question => \"Sure.\",\n", "        :yelling => \"Whoa, chill out!\",\n", "        :silence => \"Fine. Be that way!\",\n", "        :misc => \"Whatever.\"\n", ")\n", "\n", "@testset \"questions\" begin\n", "    @testset \"\$question\" for question in questions\n", "        @test bob(question) == response[:question]\n", "    end\n", "end\n", "\n", "@testset \"yelling\" begin\n", "    @testset \"\$yell\" for yell in yells\n", "        @test bob(yell) == response[:yelling]\n", "    end\n", "end\n", "\n", "@testset \"silence\" begin\n", "    @testset \"\$silence\" for silence in silences\n", "        @test bob(silence) == response[:silence]\n", "    end\n", "end\n", "\n", "@testset \"misc\" begin\n", "    @testset \"\$misc\" for misc in miscs\n", "        @test bob(misc) == response[:misc]\n", "    end\n", "end\n", "\n", "@testset \"forceful question\" begin\n", "    @test bob(\"WHAT THE HELL WERE YOU THINKING?\") == \"Calm down, I know what I'm doing!\"\n", "end"]
        },
        {
            "cell_type": "markdown",
            "metadata": {},
            "source": [
                "## Prepare submission\n",
                "To submit your exercise, you need to save your solution in a file called `bob.jl` before using the CLI.\n",
                "You can either create it manually or use the following functions, which will automatically write every notebook cell that starts with `# submit` to the file `bob.jl`.\n"
            ]
        },
        {
            "cell_type": "code",
            "execution_count": null,
            "metadata": {},
            "outputs": [],
            "source": [
                "# using Pkg; Pkg.add(\"Exercism\")\n",
                "# using Exercism\n",
                "# Exercism.create_submission(\"bob\")"
            ]
        }
    ],
    "metadata": {
        "kernelspec": {
            "display_name": "Julia 1.3.0",
            "language": "julia",
            "name": "julia-1.3"
        },
        "language_info": {
            "file_extension": ".jl",
            "mimetype": "application/julia",
            "name": "julia",
            "version": "1.3.0"
        }
    },
    "nbformat": 4,
    "nbformat_minor": 2
}
