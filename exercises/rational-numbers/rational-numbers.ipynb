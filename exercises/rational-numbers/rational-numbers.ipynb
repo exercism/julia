{
    "cells": [
        {
            "cell_type": "markdown",
            "metadata": {},
            "source": ["# Rational Numbers\n", "\n", "A rational number is defined as the quotient of two integers `a` and `b`, called the numerator and denominator, respectively, where `b != 0`.\n", "\n", "The absolute value `|r|` of the rational number `r = a/b` is equal to `|a|/|b|`.\n", "\n", "The sum of two rational numbers `r₁ = a₁/b₁` and `r₂ = a₂/b₂` is `r₁ + r₂ = a₁/b₁ + a₂/b₂ = (a₁ * b₂ + a₂ * b₁) / (b₁ * b₂)`.\n", "\n", "The difference of two rational numbers `r₁ = a₁/b₁` and `r₂ = a₂/b₂` is `r₁ - r₂ = a₁/b₁ - a₂/b₂ = (a₁ * b₂ - a₂ * b₁) / (b₁ * b₂)`.\n", "\n", "The product (multiplication) of two rational numbers `r₁ = a₁/b₁` and `r₂ = a₂/b₂` is `r₁ * r₂ = (a₁ * a₂) / (b₁ * b₂)`.\n", "\n", "Dividing a rational number `r₁ = a₁/b₁` by another `r₂ = a₂/b₂` is `r₁ / r₂ = (a₁ * b₂) / (a₂ * b₁)` if `a₂` is not zero.\n", "\n", "Exponentiation of a rational number `r = a/b` to a non-negative integer power `n` is `r^n = (a^n)/(b^n)`.\n", "\n", "Exponentiation of a rational number `r = a/b` to a negative integer power `n` is `r^n = (b^m)/(a^m)`, where `m = |n|`.\n", "\n", "Exponentiation of a rational number `r = a/b` to a real (floating-point) number `x` is the quotient `(a^x)/(b^x)`, which is a real number.\n", "\n", "Exponentiation of a real number `x` to a rational number `r = a/b` is `x^(a/b) = root(x^a, b)`, where `root(p, q)` is the `q`th root of `p`.\n", "\n", "Implement the following operations:\n", " - addition, subtraction, multiplication and division of two rational numbers,\n", " - absolute value, exponentiation of a given rational number to an integer power, exponentiation of a given rational number to a real (floating-point) power, exponentiation of a real number to a rational number.\n", "\n", "Your implementation of rational numbers should always be reduced to lowest terms. For example, `4/4` should reduce to `1/1`, `30/60` should reduce to `1/2`, `12/8` should reduce to `3/2`, etc. To reduce a rational number `r = a/b`, divide `a` and `b` by the greatest common divisor (gcd) of `a` and `b`. So, for example, `gcd(12, 8) = 4`, so `r = 12/8` can be reduced to `(12/4)/(8/4) = 3/2`.\n", "\n", "Assume that the programming language you are using does not have an implementation of rational numbers.\n", "\n", "## Source\n", "\n", "Wikipedia [https://en.wikipedia.org/wiki/Rational_number](https://en.wikipedia.org/wiki/Rational_number)\n", "\n", "## Version compatibility\n", "This exercise has been tested on Julia versions >=1.0.\n", "\n", "## Submitting Incomplete Solutions\n", "It's possible to submit an incomplete solution so you can see how others have completed the exercise."]
        },
        {
            "cell_type": "markdown",
            "metadata": {},
            "source": ["## Your solution"]
        },
        {
            "cell_type": "code",
            "execution_count": null,
            "metadata": {},
            "outputs": [],
            "source": ["# submit"]
        },
        {
            "cell_type": "markdown",
            "metadata": {},
            "source": ["## Test suite"]
        },
        {
            "cell_type": "code",
            "execution_count": null,
            "metadata": {},
            "outputs": [],
            "source": ["using Test\n", "\n", "# include(\"rational-numbers.jl\")\n", "\n", "@test RationalNumber <: Real\n", "@test_throws ArgumentError RationalNumber(0, 0)\n", "\n", "@testset \"One- & Zero-elements\" begin\n", "    @test zero(RationalNumber{Int}) == RationalNumber(0, 1)\n", "    @test one(RationalNumber{Int})  == RationalNumber(1, 1)\n", "end\n", "\n", "@testset \"Arithmetic\" begin\n", "    @testset \"Addition\" begin\n", "        @test RationalNumber( 1, 2) + RationalNumber( 2, 3) == RationalNumber( 7, 6)\n", "        @test RationalNumber( 1, 2) + RationalNumber(-2, 3) == RationalNumber(-1, 6)\n", "        @test RationalNumber(-1, 2) + RationalNumber(-2, 3) == RationalNumber(-7, 6)\n", "        @test RationalNumber( 1, 2) + RationalNumber(-1, 2) == RationalNumber( 0, 1)\n", "    end\n", "\n", "    @testset \"Subtraction\" begin\n", "        @test RationalNumber( 1, 2) - RationalNumber( 2, 3) == RationalNumber(-1, 6)\n", "        @test RationalNumber( 1, 2) - RationalNumber(-2, 3) == RationalNumber( 7, 6)\n", "        @test RationalNumber(-1, 2) - RationalNumber(-2, 3) == RationalNumber( 1, 6)\n", "        @test RationalNumber( 1, 2) - RationalNumber( 1, 2) == RationalNumber( 0, 1)\n", "    end\n", "\n", "    @testset \"Multiplication\" begin\n", "        @test RationalNumber( 1, 2) * RationalNumber( 2, 3) == RationalNumber( 1, 3)\n", "        @test RationalNumber(-1, 2) * RationalNumber( 2, 3) == RationalNumber(-1, 3)\n", "        @test RationalNumber(-1, 2) * RationalNumber(-2, 3) == RationalNumber( 1, 3)\n", "        @test RationalNumber( 1, 2) * RationalNumber( 2, 1) == RationalNumber( 1, 1)\n", "        @test RationalNumber( 1, 2) * RationalNumber( 1, 1) == RationalNumber( 1, 2)\n", "        @test RationalNumber( 1, 2) * RationalNumber( 0, 1) == RationalNumber( 0, 1)\n", "    end\n", "\n", "    @testset \"Exponentiation\" begin\n", "        @testset \"Exponentiation of a rational number\" begin\n", "            @test RationalNumber( 1, 2)^3 == RationalNumber( 1, 8)\n", "            @test RationalNumber(-1, 2)^3 == RationalNumber(-1, 8)\n", "            @test RationalNumber( 0, 1)^5 == RationalNumber( 0, 1)\n", "            @test RationalNumber( 1, 1)^4 == RationalNumber( 1, 1)\n", "            @test RationalNumber( 1, 2)^0 == RationalNumber( 1, 1)\n", "            @test RationalNumber(-1, 2)^0 == RationalNumber( 1, 1)\n", "        end\n", "\n", "        @testset \"Exponentiation of a real number to a rational number\" begin\n", "            @test 8^RationalNumber( 4, 3) ≈ 15.999999999999998\n", "            @test 9^RationalNumber(-1, 2) ≈ 0.3333333333333333\n", "            @test 2^RationalNumber( 0, 1) ≈ 1.0\n", "        end\n", "    end\n", "\n", "    @testset \"Division\" begin\n", "        @test RationalNumber( 1, 2) / RationalNumber( 2, 3) == RationalNumber( 3, 4)\n", "        @test RationalNumber( 1, 2) / RationalNumber(-2, 3) == RationalNumber(-3, 4)\n", "        @test RationalNumber(-1, 2) / RationalNumber(-2, 3) == RationalNumber( 3, 4)\n", "        @test RationalNumber( 1, 2) / RationalNumber( 1, 1) == RationalNumber( 1, 2)\n", "    end\n", "end\n", "\n", "@testset \"Absolute value\" begin\n", "    @test abs(RationalNumber( 1,  2)) == RationalNumber(1, 2)\n", "    @test abs(RationalNumber(-1,  2)) == RationalNumber(1, 2)\n", "    @test abs(RationalNumber( 0,  1)) == RationalNumber(0, 1)\n", "    @test abs(RationalNumber( 1, -2)) == RationalNumber(1, 2)\n", "end\n", "\n", "@testset \"Reduction to lowest terms\" begin\n", "    r = RationalNumber(2, 4)\n", "    @test numerator(r)   == 1\n", "    @test denominator(r) == 2\n", "    \n", "    r = RationalNumber(-4, 6)\n", "    @test numerator(r)   == -2\n", "    @test denominator(r) ==  3\n", "    \n", "    r = RationalNumber(3, -9)\n", "    @test numerator(r)   == -1\n", "    @test denominator(r) ==  3\n", "    \n", "    r = RationalNumber(0, 6)\n", "    @test numerator(r)   == 0\n", "    @test denominator(r) == 1\n", "    \n", "    r = RationalNumber(-14, 7)\n", "    @test numerator(r)   == -2\n", "    @test denominator(r) ==  1\n", "    \n", "    r = RationalNumber(13, 13)\n", "    @test numerator(r)   == 1\n", "    @test denominator(r) == 1\n", "    \n", "    r = RationalNumber(1, -1)\n", "    @test numerator(r)   == -1\n", "    @test denominator(r) ==  1\n", "end\n", "\n", "# TODO add to problem spec\n", "# The following testset is based on the tests for rational numbers in Julia Base (MIT license)\n", "# https://github.com/JuliaLang/julia/blob/52bafeb981bac548afd2264edb518d8d86944dca/test/rational.jl\n", "# https://github.com/JuliaLang/julia/blob/52bafeb981bac548afd2264edb518d8d86944dca/LICENSE.md\n", "@testset \"Ordering\" begin\n", "    for a in -5:5, b in -5:5, c in -5:5\n", "        a == b == 0 && continue\n", "        \n", "        r = RationalNumber(a, b)\n", "\n", "        @test (r == c) == (a / b == c)\n", "        @test (r != c) == (a / b != c)\n", "        @test (r <= c) == (a / b <= c)\n", "        @test (r <  c) == (a / b <  c)\n", "        @test (r >= c) == (a / b >= c)\n", "        @test (r >  c) == (a / b >  c)\n", "\n", "        for d in -5:5\n", "            c == d == 0 && continue\n", "\n", "            s = RationalNumber(c, d)\n", "\n", "            @test (r == s) == (a / b == c / d)\n", "            @test (r != s) == (a / b != c / d)\n", "            @test (r <= s) == (a / b <= c / d)\n", "            @test (r <  s) == (a / b <  c / d)\n", "            @test (r >= s) == (a / b >= c / d)\n", "            @test (r >  s) == (a / b >  c / d)\n", "        end\n", "    end\n", "end\n", "\n", "@testset \"Showing RationalNumbers\" begin\n", "    @test sprint(show, RationalNumber(23, 42)) == \"23//42\"\n", "    @test sprint(show, RationalNumber(-2500, 5000)) == \"-1//2\"\n", "end"]
        },
        {
            "cell_type": "markdown",
            "metadata": {},
            "source": [
                "## Prepare submission\n",
                "To submit your exercise, you need to save your solution in a file called `rational-numbers.jl` before using the CLI.\n",
                "You can either create it manually or use the following functions, which will automatically write every notebook cell that starts with `# submit` to the file `rational-numbers.jl`.\n"
            ]
        },
        {
            "cell_type": "code",
            "execution_count": null,
            "metadata": {},
            "outputs": [],
            "source": [
                "# using Pkg; Pkg.add(\"Exercism\")\n",
                "# using Exercism\n",
                "# Exercism.create_submission(\"rational-numbers\")"
            ]
        }
    ],
    "metadata": {
        "kernelspec": {
            "display_name": "Julia 1.3.0",
            "language": "julia",
            "name": "julia-1.3"
        },
        "language_info": {
            "file_extension": ".jl",
            "mimetype": "application/julia",
            "name": "julia",
            "version": "1.3.0"
        }
    },
    "nbformat": 4,
    "nbformat_minor": 2
}
