{
    "cells": [
        {
            "cell_type": "markdown",
            "metadata": {},
            "source": ["# Reverse String\n", "\n", "Reverse a string\n", "\n", "For example:\n", "input: \"cool\"\n", "output: \"looc\"\n", "\n", "## Bonus\n", "\n", "Preserve grapheme clusters, i.e.\n", "\n", "```julia\n", "myreverse(\"hi 👋🏾\") == \"👋🏾 ih\"\n", "myreverse(\"as⃝df̅\") == \"f̅ds⃝a\"\n", "```\n", "\n", "You will probably find the `Unicode` stdlib useful for this bonus task.\n", "\n", "To enable the graphemes test, add `const TEST_GRAPHEMES = true` to the global scope of your file.\n", "\n", "## Source\n", "\n", "Introductory challenge to reverse an input string [https://medium.freecodecamp.org/how-to-reverse-a-string-in-javascript-in-3-different-ways-75e4763c68cb](https://medium.freecodecamp.org/how-to-reverse-a-string-in-javascript-in-3-different-ways-75e4763c68cb)\n", "\n", "## Version compatibility\n", "This exercise has been tested on Julia versions >=1.0.\n", "\n", "## Submitting Incomplete Solutions\n", "It's possible to submit an incomplete solution so you can see how others have completed the exercise."]
        },
        {
            "cell_type": "markdown",
            "metadata": {},
            "source": ["## Your solution"]
        },
        {
            "cell_type": "code",
            "execution_count": null,
            "metadata": {},
            "outputs": [],
            "source": ["# submit\n", ""]
        },
        {
            "cell_type": "markdown",
            "metadata": {},
            "source": ["## Test suite"]
        },
        {
            "cell_type": "code",
            "execution_count": null,
            "metadata": {},
            "outputs": [],
            "source": ["using Test\n", "\n", "# include(\"reverse-string.jl\")\n", "\n", "\n", "@testset \"an empty string\" begin\n", "    @test myreverse(\"\") == \"\"\n", "end\n", "\n", "@testset \"a word\" begin\n", "    @test myreverse(\"robot\") == \"tobor\"\n", "end\n", "\n", "@testset \"a capitalized word\" begin\n", "    @test myreverse(\"Ramen\") == \"nemaR\"\n", "end\n", "\n", "@testset \"a sentence with punctuation\" begin\n", "    @test myreverse(\"I'm hungry!\") == \"!yrgnuh m'I\"\n", "end\n", "\n", "@testset \"a palindrome\" begin\n", "    @test myreverse(\"racecar\") == \"racecar\"\n", "end\n", "\n", "@testset \"an even-sized word\" begin\n", "    @test myreverse(\"drawer\") == \"reward\"\n", "end\n", "\n", "@testset \"reversing a string twice\" begin\n", "    @test myreverse(myreverse(\"gift\")) == \"gift\"\n", "end\n", "\n", "@testset \"emoji\" begin\n", "    @test myreverse(\"hi 🐱\") == \"🐱 ih\"\n", "end\n", "\n", "if @isdefined(TEST_GRAPHEMES)\n", "    @eval @testset \"graphemes\" begin\n", "        @test myreverse(\"as⃝df̅\") == \"f̅ds⃝a\"\n", "        @test myreverse(\"hi 👋🏾\") == \"👋🏾 ih\"\n", "    end\n", "end"]
        },
        {
            "cell_type": "markdown",
            "metadata": {},
            "source": [
                "## Prepare submission\n",
                "To submit your exercise, you need to save your solution in a file called `reverse-string.jl` before using the CLI.\n",
                "You can either create it manually or use the following functions, which will automatically write every notebook cell that starts with `# submit` to the file `reverse-string.jl`.\n"
            ]
        },
        {
            "cell_type": "code",
            "execution_count": null,
            "metadata": {},
            "outputs": [],
            "source": [
                "# using Pkg; Pkg.add(\"Exercism\")\n",
                "# using Exercism\n",
                "# Exercism.create_submission(\"reverse-string\")"
            ]
        }
    ],
    "metadata": {
        "kernelspec": {
            "display_name": "Julia 1.3.0",
            "language": "julia",
            "name": "julia-1.3"
        },
        "language_info": {
            "file_extension": ".jl",
            "mimetype": "application/julia",
            "name": "julia",
            "version": "1.3.0"
        }
    },
    "nbformat": 4,
    "nbformat_minor": 2
}
