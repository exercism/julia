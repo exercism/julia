{
    "cells": [
        {
            "cell_type": "markdown",
            "metadata": {},
            "source": ["# Gigasecond\n", "\n", "Given a moment, determine the moment that would be after a gigasecond\n", "has passed.\n", "\n", "A gigasecond is 10^9 (1,000,000,000) seconds.\n", "\n", "## Source\n", "\n", "Chapter 9 in Chris Pine's online Learn to Program tutorial. [http://pine.fm/LearnToProgram/?Chapter=09](http://pine.fm/LearnToProgram/?Chapter=09)\n", "\n", "## Version compatibility\n", "This exercise has been tested on Julia versions >=1.0.\n", "\n", "## Submitting Incomplete Solutions\n", "It's possible to submit an incomplete solution so you can see how others have completed the exercise."]
        },
        {
            "cell_type": "markdown",
            "metadata": {},
            "source": ["## Your solution"]
        },
        {
            "cell_type": "code",
            "execution_count": null,
            "metadata": {},
            "outputs": [],
            "source": ["# submit\n", "function add_gigasecond(date::DateTime)\n", "\n", "end"]
        },
        {
            "cell_type": "markdown",
            "metadata": {},
            "source": ["## Test suite"]
        },
        {
            "cell_type": "code",
            "execution_count": null,
            "metadata": {},
            "outputs": [],
            "source": ["using Test\n", "using Dates\n", "\n", "# include(\"gigasecond.jl\")\n", "\n", "samples = Dict(\n", "    DateTime(\"2011-04-25\") => DateTime(\"2043-01-01T01:46:40\"),\n", "    DateTime(\"1977-06-13\") => DateTime(\"2009-02-19T01:46:40\"),\n", "    DateTime(\"1959-07-19\") => DateTime(\"1991-03-27T01:46:40\"),\n", "    DateTime(\"2015-01-24T22:00:00\") => DateTime(\"2046-10-02T23:46:40\"),\n", "    DateTime(\"2015-01-24T23:59:59\") => DateTime(\"2046-10-03T01:46:39\")\n", ")\n", "\n", "@testset \"add gigasecond to $sample[1]\" for sample in samples\n", "    @test add_gigasecond(sample[1]) == sample[2]\n", "end"]
        },
        {
            "cell_type": "markdown",
            "metadata": {},
            "source": [
                "## Prepare submission\n",
                "To submit your exercise, you need to save your solution in a file called `gigasecond.jl` before using the CLI.\n",
                "You can either create it manually or use the following functions, which will automatically write every notebook cell that starts with `# submit` to the file `gigasecond.jl`.\n"
            ]
        },
        {
            "cell_type": "code",
            "execution_count": null,
            "metadata": {},
            "outputs": [],
            "source": [
                "# using Pkg; Pkg.add(\"Exercism\")\n",
                "# using Exercism\n",
                "# Exercism.create_submission(\"gigasecond\")"
            ]
        }
    ],
    "metadata": {
        "kernelspec": {
            "display_name": "Julia 1.3.0",
            "language": "julia",
            "name": "julia-1.3"
        },
        "language_info": {
            "file_extension": ".jl",
            "mimetype": "application/julia",
            "name": "julia",
            "version": "1.3.0"
        }
    },
    "nbformat": 4,
    "nbformat_minor": 2
}
