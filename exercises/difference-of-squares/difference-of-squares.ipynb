{
    "cells": [
        {
            "cell_type": "markdown",
            "metadata": {},
            "source": ["# Difference Of Squares\n", "\n", "Find the difference between the square of the sum and the sum of the squares of the first N natural numbers.\n", "\n", "The square of the sum of the first ten natural numbers is\n", "(1 + 2 + ... + 10)² = 55² = 3025.\n", "\n", "The sum of the squares of the first ten natural numbers is\n", "1² + 2² + ... + 10² = 385.\n", "\n", "Hence the difference between the square of the sum of the first\n", "ten natural numbers and the sum of the squares of the first ten\n", "natural numbers is 3025 - 385 = 2640.\n", "\n", "You are not expected to discover an efficient solution to this yourself from\n", "first principles; research is allowed, indeed, encouraged. Finding the best\n", "algorithm for the problem is a key skill in software engineering.\n", "\n", "## Source\n", "\n", "Problem 6 at Project Euler [http://projecteuler.net/problem=6](http://projecteuler.net/problem=6)\n", "\n", "## Version compatibility\n", "This exercise has been tested on Julia versions >=1.0.\n", "\n", "## Submitting Incomplete Solutions\n", "It's possible to submit an incomplete solution so you can see how others have completed the exercise."]
        },
        {
            "cell_type": "markdown",
            "metadata": {},
            "source": ["## Your solution"]
        },
        {
            "cell_type": "code",
            "execution_count": null,
            "metadata": {},
            "outputs": [],
            "source": ["# submit\n", "\"Square the sum of the first `n` positive integers\"\n", "function square_of_sum(n)\n", "\n", "end\n", "\n", "\"Sum the squares of the first `n` positive integers\"\n", "function sum_of_squares(n)\n", "\n", "end\n", "\n", "\"Subtract the sum of squares from square of the sum of the first `n` positive ints\"\n", "function difference(n)\n", "\n", "end"]
        },
        {
            "cell_type": "markdown",
            "metadata": {},
            "source": ["## Test suite"]
        },
        {
            "cell_type": "code",
            "execution_count": null,
            "metadata": {},
            "outputs": [],
            "source": ["using Test\n", "\n", "# include(\"difference-of-squares.jl\")\n", "\n", "@testset \"Square the sum of the numbers up to the given number\" begin\n", "    @test square_of_sum(1)::Integer == 1\n", "    @test square_of_sum(5)::Integer == 225\n", "    @test square_of_sum(10)::Integer == 3025\n", "    @test square_of_sum(100)::Integer == 25502500\n", "end\n", "\n", "@testset \"Sum the squares of the numbers up to the given number\" begin\n", "    @test sum_of_squares(1)::Integer == 1\n", "    @test sum_of_squares(5)::Integer == 55\n", "    @test sum_of_squares(10)::Integer == 385\n", "    @test sum_of_squares(100)::Integer == 338350\n", "end\n", "\n", "@testset \"Subtract sum of squares from square of sums\" begin\n", "    @test difference(0)::Integer == 0\n", "    @test difference(1)::Integer == 0\n", "    @test difference(5)::Integer == 170\n", "    @test difference(10)::Integer == 2640\n", "    @test difference(100)::Integer == 25164150\n", "end"]
        },
        {
            "cell_type": "markdown",
            "metadata": {},
            "source": [
                "## Prepare submission\n",
                "To submit your exercise, you need to save your solution in a file called `difference-of-squares.jl` before using the CLI.\n",
                "You can either create it manually or use the following functions, which will automatically write every notebook cell that starts with `# submit` to the file `difference-of-squares.jl`.\n"
            ]
        },
        {
            "cell_type": "code",
            "execution_count": null,
            "metadata": {},
            "outputs": [],
            "source": [
                "# using Pkg; Pkg.add(\"Exercism\")\n",
                "# using Exercism\n",
                "# Exercism.create_submission(\"difference-of-squares\")"
            ]
        }
    ],
    "metadata": {
        "kernelspec": {
            "display_name": "Julia 1.3.0",
            "language": "julia",
            "name": "julia-1.3"
        },
        "language_info": {
            "file_extension": ".jl",
            "mimetype": "application/julia",
            "name": "julia",
            "version": "1.3.0"
        }
    },
    "nbformat": 4,
    "nbformat_minor": 2
}
