{
    "cells": [
        {
            "cell_type": "markdown",
            "metadata": {},
            "source": ["# Pangram\n", "\n", "Determine if a sentence is a pangram. A pangram (Greek: παν γράμμα, pan gramma,\n", "\"every letter\") is a sentence using every letter of the alphabet at least once.\n", "The best known English pangram is:\n", "> The quick brown fox jumps over the lazy dog.\n", "\n", "The alphabet used consists of ASCII letters `a` to `z`, inclusive, and is case\n", "insensitive.\n", "\n", "## Source\n", "\n", "Wikipedia [https://en.wikipedia.org/wiki/Pangram](https://en.wikipedia.org/wiki/Pangram)\n", "\n", "## Version compatibility\n", "This exercise has been tested on Julia versions >=1.0.\n", "\n", "## Submitting Incomplete Solutions\n", "It's possible to submit an incomplete solution so you can see how others have completed the exercise."]
        },
        {
            "cell_type": "markdown",
            "metadata": {},
            "source": ["## Your solution"]
        },
        {
            "cell_type": "code",
            "execution_count": null,
            "metadata": {},
            "outputs": [],
            "source": ["# submit\n", "\"\"\"\n", "    ispangram(input)\n", "\n", "Return `true` if `input` contains every alphabetic character (case insensitive).\n", "\n", "\"\"\"\n", "function ispangram(input)\n", "\n", "end\n", ""]
        },
        {
            "cell_type": "markdown",
            "metadata": {},
            "source": ["## Test suite"]
        },
        {
            "cell_type": "code",
            "execution_count": null,
            "metadata": {},
            "outputs": [],
            "source": ["using Test\n", "\n", "# include(\"pangram.jl\")\n", "\n", "@testset \"empty sentence\" begin\n", "    @test !ispangram(\"\")\n", "end\n", "        \n", "@testset \"perfect lower case\" begin\n", "    @test ispangram(\"abcdefghijklmnopqrstuvwxyz\")\n", "end\n", "\n", "@testset \"pangram with only lower case\" begin\n", "    @test ispangram(\"the quick brown fox jumps over the lazy dog\")\n", "end\n", "        \n", "@testset \"missing character 'x'\" begin\n", "    @test !ispangram(\"a quick movement of the enemy will jeopardize five gunboats\")\n", "end\n", "        \n", "@testset \"another missing character 'x'\" begin\n", "    @test !ispangram(\"the quick brown fish jumps over the lazy dog\")\n", "end\n", "\n", "@testset \"missing character 'h'\" begin\n", "    @test !ispangram(\"five boxing wizards jump quickly at it\")\n", "end\n", "        \n", "@testset \"pangram with underscores\" begin\n", "    @test ispangram(\"the_quick_brown_fox_jumps_over_the_lazy_dog\")\n", "end\n", "        \n", "@testset \"pangram with numbers\" begin\n", "    @test ispangram(\"the 1 quick brown fox jumps over the 2 lazy dogs\")\n", "end\n", "        \n", "@testset \"missing letters replaced by numbers\" begin\n", "    @test !ispangram(\"7h3 qu1ck brown fox jumps ov3r 7h3 lazy dog\")\n", "end\n", "        \n", "@testset \"pangram with mixed case and punctuation\" begin\n", "    @test ispangram(\"\\\"Five quacking Zephyrs jolt my wax bed.\\\"\")\n", "end\n", "        \n", "@testset \"upper and lower case versions of the same character should not be counted separately\" begin\n", "    @test !ispangram(\"the quick brown fox jumped over the lazy FOX\")\n", "end\n", "\n", "@testset \"a-m and A-M are 26 different letters but not a pangram\" begin\n", "    @test !ispangram(\"abcdefghijklm ABCDEFGHIJKLM\")\n", "end\n", "\n", "@testset \"pangram with more than 26 letters (if case sensitive)\" begin\n", "    @test ispangram(\"the 1 quick brown fox jumps Over the 2 lazy dogs\")\n", "end\n", "\n", "@testset \"letters that aren't part of ASCII\" begin\n", "    @test !ispangram(\"the 1 qüick bröwn föx jümps över the 2 läzy dögs\")\n", "end"]
        },
        {
            "cell_type": "markdown",
            "metadata": {},
            "source": [
                "## Prepare submission\n",
                "To submit your exercise, you need to save your solution in a file called `pangram.jl` before using the CLI.\n",
                "You can either create it manually or use the following functions, which will automatically write every notebook cell that starts with `# submit` to the file `pangram.jl`.\n"
            ]
        },
        {
            "cell_type": "code",
            "execution_count": null,
            "metadata": {},
            "outputs": [],
            "source": [
                "# using Pkg; Pkg.add(\"Exercism\")\n",
                "# using Exercism\n",
                "# Exercism.create_submission(\"pangram\")"
            ]
        }
    ],
    "metadata": {
        "kernelspec": {
            "display_name": "Julia 1.3.0",
            "language": "julia",
            "name": "julia-1.3"
        },
        "language_info": {
            "file_extension": ".jl",
            "mimetype": "application/julia",
            "name": "julia",
            "version": "1.3.0"
        }
    },
    "nbformat": 4,
    "nbformat_minor": 2
}
