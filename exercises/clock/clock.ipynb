{
    "cells": [
        {
            "cell_type": "markdown",
            "metadata": {},
            "source": ["# Clock\n", "\n", "Implement a clock that handles times without dates.\n", "\n", "You should be able to add and subtract minutes to it.\n", "\n", "Two clocks that represent the same time should be equal to each other.\n", "\n", "## Source\n", "\n", "Pairing session with Erin Drummond [https://twitter.com/ebdrummond](https://twitter.com/ebdrummond)\n", "\n", "## Version compatibility\n", "This exercise has been tested on Julia versions >=1.0.\n", "\n", "## Submitting Incomplete Solutions\n", "It's possible to submit an incomplete solution so you can see how others have completed the exercise."]
        },
        {
            "cell_type": "markdown",
            "metadata": {},
            "source": ["## Your solution"]
        },
        {
            "cell_type": "code",
            "execution_count": null,
            "metadata": {},
            "outputs": [],
            "source": ["# submit"]
        },
        {
            "cell_type": "markdown",
            "metadata": {},
            "source": ["## Test suite"]
        },
        {
            "cell_type": "code",
            "execution_count": null,
            "metadata": {},
            "outputs": [],
            "source": ["using Dates, Test\n", "\n", "# include(\"clock.jl\")\n", "\n", "@testset \"Create a new clock with an initial time\" begin\n", "    # on the hour\n", "    @test Clock(8, 0) == Clock(8, 0)\n", "\n", "    # past the hour\n", "    @test Clock(11, 9) == Clock(11, 9)\n", "\n", "    # midnight is zero hours\n", "    @test Clock(24, 0) == Clock(0, 0)\n", "\n", "    # hour rolls over\n", "    @test Clock(25, 0) == Clock(1, 0)\n", "\n", "    # hour rolls over continuously\n", "    @test Clock(100, 0) == Clock(4, 0)\n", "\n", "    # sixty minutes is next hour\n", "    @test Clock(1, 60) == Clock(2, 0)\n", "\n", "    # minutes roll over\n", "    @test Clock(0, 160) == Clock(2, 40)\n", "\n", "    # minutes roll over continuously\n", "    @test Clock(0, 1723) == Clock(4, 43)\n", "\n", "    # hour and minutes roll over\n", "    @test Clock(25, 160) == Clock(3, 40)\n", "\n", "    # hour and minutes roll over continuously\n", "    @test Clock(201, 3001) == Clock(11, 1)\n", "\n", "    # hour and minutes roll over to exactly midnight\n", "    @test Clock(72, 8640) == Clock(0, 0)\n", "\n", "    # negative hour\n", "    @test Clock(-1, 15) == Clock(23, 15)\n", "\n", "    # negative hour rolls over\n", "    @test Clock(-25, 0) == Clock(23, 0)\n", "\n", "    # negative hour rolls over continuously\n", "    @test Clock(-91, 0) == Clock(5, 0)\n", "\n", "    # negative minutes\n", "    @test Clock(1, -40) == Clock(0, 20)\n", "\n", "    # negative minutes roll over\n", "    @test Clock(1, -160) == Clock(22, 20)\n", "\n", "    # negative minutes roll over continuously\n", "    @test Clock(1, -4820) == Clock(16, 40)\n", "\n", "    # negative sixty minutes is previous hour\n", "    @test Clock(2, -60) == Clock(1, 0)\n", "\n", "    # negative hour and minutes both roll over\n", "    @test Clock(-25, -160) == Clock(20, 20)\n", "\n", "    # negative hour and minutes both roll over continuously\n", "    @test Clock(-121, -5810) == Clock(22, 10)\n", "end\n", "\n", "@testset \"Add minutes\" begin\n", "    # add minutes\n", "    @test Clock(10, 0) + Dates.Minute(3) == Clock(10, 3)\n", "\n", "    # add no minutes\n", "    @test Clock(6, 41) + Dates.Minute(0) == Clock(6, 41)\n", "\n", "    # add to next hour\n", "    @test Clock(0, 45) + Dates.Minute(40) == Clock(1, 25)\n", "\n", "    # add more than one hour\n", "    @test Clock(10, 0) + Dates.Minute(61) == Clock(11, 1)\n", "\n", "    # add more than two hours with carry\n", "    @test Clock(0, 45) + Dates.Minute(160) == Clock(3, 25)\n", "\n", "    # add across midnight\n", "    @test Clock(23, 59) + Dates.Minute(2) == Clock(0, 1)\n", "\n", "    # add more than one day (1500 min = 25 hrs)\n", "    @test Clock(5, 32) + Dates.Minute(1500) == Clock(6, 32)\n", "\n", "    # add more than two days\n", "    @test Clock(1, 1) + Dates.Minute(3500) == Clock(11, 21)\n", "end\n", "\n", "@testset \"Subtract minutes\" begin\n", "    # subtract minutes\n", "    @test Clock(10, 3) - Dates.Minute(3) == Clock(10, 0)\n", "\n", "    # subtract to previous hour\n", "    @test Clock(10, 3) - Dates.Minute(30) == Clock(9, 33)\n", "\n", "    # subtract more than an hour\n", "    @test Clock(10, 3) - Dates.Minute(70) == Clock(8, 53)\n", "\n", "    # subtract across midnight\n", "    @test Clock(0, 3) - Dates.Minute(4) == Clock(23, 59)\n", "\n", "    # subtract more than two hours\n", "    @test Clock(0, 0) - Dates.Minute(160) == Clock(21, 20)\n", "\n", "    # subtract more than two hours with borrow\n", "    @test Clock(6, 15) - Dates.Minute(160) == Clock(3, 35)\n", "\n", "    # subtract more than one day (1500 min = 25 hrs)\n", "    @test Clock(5, 32) - Dates.Minute(1500) == Clock(4, 32)\n", "\n", "    # subtract more than two days\n", "    @test Clock(2, 20) - Dates.Minute(3000) == Clock(0, 20)\n", "end\n", "\n", "@testset \"Compare two clocks for equality\" begin\n", "    # clocks with same time\n", "    @test Clock(15, 37) == Clock(15, 37)\n", "\n", "    # clocks a minute apart\n", "    @test Clock(15, 36) != Clock(15, 37)\n", "\n", "    # clocks an hour apart\n", "    @test Clock(14, 37) != Clock(15, 37)\n", "\n", "    # clocks with hour overflow\n", "    @test Clock(10, 37) == Clock(34, 37)\n", "\n", "    # clocks with hour overflow by several days\n", "    @test Clock(3, 11) == Clock(99, 11)\n", "\n", "    # clocks with negative hour\n", "    @test Clock(22, 40) == Clock(-2, 40)\n", "\n", "    # clocks with negative hour that wraps\n", "    @test Clock(17, 3) == Clock(-31, 3)\n", "\n", "    # clocks with negative hour that wraps multiple times\n", "    @test Clock(13, 49) == Clock(-83, 49)\n", "\n", "    # clocks with minute overflow\n", "    @test Clock(0, 1) == Clock(0, 1441)\n", "\n", "    # clocks with minute overflow by several days\n", "    @test Clock(2, 2) == Clock(2, 4322)\n", "\n", "    # clocks with negative minute\n", "    @test Clock(2, 40) == Clock(3, -20)\n", "\n", "    # clocks with negative minute that wraps\n", "    @test Clock(4, 10) == Clock(5, -1490)\n", "\n", "    # clocks with negative minute that wraps multiple times\n", "    @test Clock(6, 15) == Clock(6, -4305)\n", "\n", "    # clocks with negative hours and minutes\n", "    @test Clock(7, 32) == Clock(-12, -268)\n", "\n", "    # clocks with negative hours and minutes that wrap\n", "    @test Clock(18, 7) == Clock(-54, -11513)\n", "\n", "    # full clock and zeroed clock\n", "    @test Clock(24, 0) == Clock(0, 0)\n", "end\n", "\n", "@testset \"displaying clocks\" begin\n", "    @test sprint(show, Clock(8, 0)) == \"\\\"08:00\\\"\"\n", "    @test sprint(show, Clock(11, 9)) == \"\\\"11:09\\\"\"\n", "    @test sprint(show, Clock(24, 0)) == \"\\\"00:00\\\"\"\n", "    @test sprint(show, Clock(25, 0)) == \"\\\"01:00\\\"\"\n", "    @test sprint(show, Clock(100, 0)) == \"\\\"04:00\\\"\"\n", "    @test sprint(show, Clock(1, 60)) == \"\\\"02:00\\\"\"\n", "    @test sprint(show, Clock(0, 160)) == \"\\\"02:40\\\"\"\n", "    @test sprint(show, Clock(0, 1723)) == \"\\\"04:43\\\"\"\n", "    @test sprint(show, Clock(25, 160)) == \"\\\"03:40\\\"\"\n", "    @test sprint(show, Clock(201, 3001)) == \"\\\"11:01\\\"\"\n", "    @test sprint(show, Clock(72, 8640)) == \"\\\"00:00\\\"\"\n", "    @test sprint(show, Clock(-1, 15)) == \"\\\"23:15\\\"\"\n", "    @test sprint(show, Clock(-25, 0)) == \"\\\"23:00\\\"\"\n", "    @test sprint(show, Clock(-91, 0)) == \"\\\"05:00\\\"\"\n", "    @test sprint(show, Clock(1, -40)) == \"\\\"00:20\\\"\"\n", "    @test sprint(show, Clock(1, -160)) == \"\\\"22:20\\\"\"\n", "    @test sprint(show, Clock(1, -4820)) == \"\\\"16:40\\\"\"\n", "    @test sprint(show, Clock(2, -60)) == \"\\\"01:00\\\"\"\n", "    @test sprint(show, Clock(-25, -160)) == \"\\\"20:20\\\"\"\n", "    @test sprint(show, Clock(-121, -5810)) == \"\\\"22:10\\\"\"\n", "end"]
        },
        {
            "cell_type": "markdown",
            "metadata": {},
            "source": [
                "## Prepare submission\n",
                "To submit your exercise, you need to save your solution in a file called `clock.jl` before using the CLI.\n",
                "You can either create it manually or use the following functions, which will automatically write every notebook cell that starts with `# submit` to the file `clock.jl`.\n"
            ]
        },
        {
            "cell_type": "code",
            "execution_count": null,
            "metadata": {},
            "outputs": [],
            "source": [
                "# using Pkg; Pkg.add(\"Exercism\")\n",
                "# using Exercism\n",
                "# Exercism.create_submission(\"clock\")"
            ]
        }
    ],
    "metadata": {
        "kernelspec": {
            "display_name": "Julia 1.3.0",
            "language": "julia",
            "name": "julia-1.3"
        },
        "language_info": {
            "file_extension": ".jl",
            "mimetype": "application/julia",
            "name": "julia",
            "version": "1.3.0"
        }
    },
    "nbformat": 4,
    "nbformat_minor": 2
}
