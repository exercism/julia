{
    "cells": [
        {
            "cell_type": "markdown",
            "metadata": {},
            "source": ["# RNA Transcription\n", "\n", "Given a DNA strand, return its RNA complement (per RNA transcription).\n", "\n", "Both DNA and RNA strands are a sequence of nucleotides.\n", "\n", "The four nucleotides found in DNA are adenine (**A**), cytosine (**C**),\n", "guanine (**G**) and thymine (**T**).\n", "\n", "The four nucleotides found in RNA are adenine (**A**), cytosine (**C**),\n", "guanine (**G**) and uracil (**U**).\n", "\n", "Given a DNA strand, its transcribed RNA strand is formed by replacing\n", "each nucleotide with its complement:\n", "\n", "* `G` -> `C`\n", "* `C` -> `G`\n", "* `T` -> `A`\n", "* `A` -> `U`\n", "\n", "## Source\n", "\n", "Hyperphysics [http://hyperphysics.phy-astr.gsu.edu/hbase/Organic/transcription.html](http://hyperphysics.phy-astr.gsu.edu/hbase/Organic/transcription.html)\n", "\n", "## Version compatibility\n", "This exercise has been tested on Julia versions >=1.0.\n", "\n", "## Submitting Incomplete Solutions\n", "It's possible to submit an incomplete solution so you can see how others have completed the exercise."]
        },
        {
            "cell_type": "markdown",
            "metadata": {},
            "source": ["## Your solution"]
        },
        {
            "cell_type": "code",
            "execution_count": null,
            "metadata": {},
            "outputs": [],
            "source": ["# submit\n", "function to_rna(dna::AbstractString)\n", "\n", "end\n", ""]
        },
        {
            "cell_type": "markdown",
            "metadata": {},
            "source": ["## Test suite"]
        },
        {
            "cell_type": "code",
            "execution_count": null,
            "metadata": {},
            "outputs": [],
            "source": ["using Test\n", "\n", "# include(\"rna-transcription.jl\")\n", "\n", "@testset \"basic transformations\" begin\n", "    @testset \"rna complement of cytosine is guanine\" begin\n", "      @test to_rna(\"C\") == \"G\"\n", "    end\n", "\n", "    @testset \"rna complement of guanine is cytosine\" begin\n", "      @test to_rna(\"G\") == \"C\"\n", "    end\n", "\n", "    @testset \"rna complement of thymine is adenine\" begin\n", "      @test to_rna(\"T\") == \"A\"\n", "    end\n", "\n", "    @testset \"rna complement of adenine is uracil\" begin\n", "      @test to_rna(\"A\") == \"U\"\n", "    end\n", "end\n", "\n", "@testset \"rna complement\" begin\n", "    @test to_rna(\"ACGTGGTCTTAA\") == \"UGCACCAGAAUU\"\n", "end\n", "\n", "@testset \"error handling\" begin\n", "    @testset \"dna correctly handles invalid input\" begin\n", "      @test_throws ErrorException to_rna(\"U\")\n", "    end\n", "\n", "    @testset \"dna correctly handles completely invalid input\" begin\n", "      @test_throws ErrorException to_rna(\"XXX\")\n", "    end\n", "\n", "    @testset \"dna correctly handles partially invalid input\" begin\n", "      @test_throws ErrorException to_rna(\"ACGTXXXCTTAA\")\n", "    end\n", "end"]
        },
        {
            "cell_type": "markdown",
            "metadata": {},
            "source": [
                "## Prepare submission\n",
                "To submit your exercise, you need to save your solution in a file called `rna-transcription.jl` before using the CLI.\n",
                "You can either create it manually or use the following functions, which will automatically write every notebook cell that starts with `# submit` to the file `rna-transcription.jl`.\n"
            ]
        },
        {
            "cell_type": "code",
            "execution_count": null,
            "metadata": {},
            "outputs": [],
            "source": [
                "# using Pkg; Pkg.add(\"Exercism\")\n",
                "# using Exercism\n",
                "# Exercism.create_submission(\"rna-transcription\")"
            ]
        }
    ],
    "metadata": {
        "kernelspec": {
            "display_name": "Julia 1.3.0",
            "language": "julia",
            "name": "julia-1.3"
        },
        "language_info": {
            "file_extension": ".jl",
            "mimetype": "application/julia",
            "name": "julia",
            "version": "1.3.0"
        }
    },
    "nbformat": 4,
    "nbformat_minor": 2
}
