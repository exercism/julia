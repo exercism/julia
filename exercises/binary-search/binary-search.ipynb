{
    "cells": [
        {
            "cell_type": "markdown",
            "metadata": {},
            "source": ["# Binary Search\n", "\n", "Implement a binary search algorithm.\n", "\n", "Searching a sorted collection is a common task. A dictionary is a sorted\n", "list of word definitions. Given a word, one can find its definition. A\n", "telephone book is a sorted list of people's names, addresses, and\n", "telephone numbers. Knowing someone's name allows one to quickly find\n", "their telephone number and address.\n", "\n", "If the list to be searched contains more than a few items (a dozen, say)\n", "a binary search will require far fewer comparisons than a linear search,\n", "but it imposes the requirement that the list be sorted.\n", "\n", "In computer science, a binary search or half-interval search algorithm\n", "finds the position of a specified input value (the search \"key\") within\n", "an array sorted by key value.\n", "\n", "In each step, the algorithm compares the search key value with the key\n", "value of the middle element of the array.\n", "\n", "If the keys match, then a matching element has been found and the range of indices that equal the search key value are returned.\n", "\n", "Otherwise, if the search key is less than the middle element's key, then\n", "the algorithm repeats its action on the sub-array to the left of the\n", "middle element or, if the search key is greater, on the sub-array to the\n", "right.\n", "\n", "If the remaining array to be searched is empty, then the key cannot be\n", "found in the array and a special \"not found\" indication is returned. Search methods in Julia typically return an empty range located at the insertion point in this case.\n", "\n", "A binary search halves the number of items to check with each iteration,\n", "so locating an item (or determining its absence) takes logarithmic time.\n", "A binary search is a dichotomic divide and conquer search algorithm.\n", "\n", "**For simplification, you can assume that all elements of the list to be searched are unique.** Feel free to implement a solution that works on lists with non-unique elements as a bonus task.\n", "\n", "## Bonus task\n", "Implement keyword arguments `by`, `lt` and `rev` so that `by` specifies a transformation applied to all elements of the list, `lt` specifies a comparison and `rev` specifies if the list is ordered in reverse.\n", "\n", "## Source\n", "\n", "Wikipedia [http://en.wikipedia.org/wiki/Binary_search_algorithm](http://en.wikipedia.org/wiki/Binary_search_algorithm)\n", "\n", "Some phrases above and the bonus tasks are taken from the [Julia base documentation (MIT license)](https://docs.julialang.org/en/v1/base/sort/#Base.Sort.searchsorted) of `searchsorted`.\n", "\n", "## Version compatibility\n", "This exercise has been tested on Julia versions >=1.0.\n", "\n", "## Submitting Incomplete Solutions\n", "It's possible to submit an incomplete solution so you can see how others have completed the exercise."]
        },
        {
            "cell_type": "markdown",
            "metadata": {},
            "source": ["## Your solution"]
        },
        {
            "cell_type": "code",
            "execution_count": null,
            "metadata": {},
            "outputs": [],
            "source": ["# submit"]
        },
        {
            "cell_type": "markdown",
            "metadata": {},
            "source": ["## Test suite"]
        },
        {
            "cell_type": "code",
            "execution_count": null,
            "metadata": {},
            "outputs": [],
            "source": ["using Test\n", "\n", "# include(\"binary-search.jl\")\n", "\n", "@testset \"default binary search\" begin\n", "    @testset \"value in array\" begin\n", "        @test binarysearch([6], 6) == 1:1\n", "        @test binarysearch([1, 3, 4, 6, 8, 9, 11], 6) == 4:4\n", "        @test binarysearch([1, 3, 4, 6, 8, 9, 11], 1) == 1:1\n", "        @test binarysearch([1, 3, 4, 6, 8, 9, 11], 11) == 7:7\n", "        @test binarysearch([1, 3, 5, 8, 13, 21, 34, 55, 89, 144, 233, 377, 634], 144) == 10:10\n", "        @test binarysearch([1, 3, 5, 8, 13, 21, 34, 55, 89, 144, 233, 377], 21) == 6:6\n", "    end\n", "    @testset \"value not in array\" begin\n", "        @test binarysearch([1, 3, 4, 6, 8, 9, 11], 7) == 5:4\n", "        @test binarysearch([1, 3, 4, 6, 8, 9, 11], 0) == 1:0\n", "        @test binarysearch([1, 3, 4, 6, 8, 9, 11], 13) == 8:7\n", "        @test binarysearch([], 1) == 1:0\n", "        @test binarysearch([1, 2], 0) == 1:0\n", "    end\n", "end\n", "\n", "@testset \"bonus tasks\" begin\n", "    @testset \"reverse search\" begin\n", "        @testset \"value in array\" begin\n", "            @test_skip binarysearch([6], 6, rev = true) == 1:1\n", "            @test_skip binarysearch([11, 9, 8, 6, 4, 3, 1], 6, rev = true) == 4:4\n", "            @test_skip binarysearch([11, 9, 8, 6, 4, 3, 1], 1, rev = true) == 7:7\n", "            @test_skip binarysearch([11, 9, 8, 6, 4, 3, 1], 11, rev = true) == 1:1\n", "            @test_skip binarysearch([634, 377, 233, 144, 89, 55, 34, 21, 13, 8, 5, 3, 1], 144, rev = true) == 4:4\n", "            @test_skip binarysearch([377, 233, 144, 89, 55, 34, 21, 13, 8, 5, 3, 1], 21, rev = true) == 7:7\n", "        end\n", "        @testset \"value not in array\" begin\n", "            @test_skip binarysearch([11, 9, 8, 6, 4, 3, 1], 7, rev = true) == 4:3\n", "            @test_skip binarysearch([11, 9, 8, 6, 4, 3, 1], 0, rev = true) == 8:7\n", "            @test_skip binarysearch([11, 9, 8, 6, 4, 3, 1], 13, rev = true) == 1:0\n", "            @test_skip binarysearch([], 1, rev = true) == 1:0\n", "        end\n", "    end\n", "\n", "    @testset \"apply transformation\" begin\n", "        @testset \"value in array\" begin\n", "            @test_skip binarysearch([5.5], 6, by = round) == 1:1\n", "            @test_skip binarysearch([1.1, 2.9, 4.4, 5.5, 8.1, 9.0, 10.8], 6, by = round) == 4:4\n", "            @test_skip binarysearch([1.1, 2.9, 4.4, 5.5, 8.1, 9.0, 10.8], 1, by = round) == 1:1\n", "            @test_skip binarysearch([1.1, 2.9, 4.4, 5.5, 8.1, 9.0, 10.8], 11, by = round) == 7:7\n", "            @test_skip binarysearch([1.1, 2.9, 4.4, 5.5, 8.1, 9.0, 10.8], 11, by =  abs2∘round) == 7:7\n", "            @test_skip binarysearch([1, 3, 5, 8, 13, 21, 34, 55, 89, 144, 233, 377, 634], 144.4, by = round) == 10:10\n", "            @test_skip binarysearch([1, 3, 5, 8, 13, 21, 34, 55, 89, 144, 233, 377], 20.6, by = round) == 6:6\n", "        end\n", "        @testset \"value not in array\" begin\n", "            @test_skip binarysearch([1.1, 2.9, 4.4, 5.5, 8.1, 9.0, 10.8], 7, by = round) == 5:4\n", "            @test_skip binarysearch([1.1, 2.9, 4.4, 5.5, 8.1, 9.0, 10.8], 0, by = round) == 1:0\n", "            @test_skip binarysearch([1.1, 2.9, 4.4, 5.5, 8.1, 9.0, 10.8], 13, by = round) == 8:7\n", "            @test_skip binarysearch([], 1, by = round) == 1:0\n", "        end\n", "    end\n", "\n", "    @testset \"compare with > instead of <\" begin\n", "        # this is equivalent to searching in reverse order\n", "        @testset \"value in array\" begin\n", "            @test_skip binarysearch([6], 6, lt = >) == 1:1\n", "            @test_skip binarysearch([11, 9, 8, 6, 4, 3, 1], 6, lt = >) == 4:4\n", "            @test_skip binarysearch([11, 9, 8, 6, 4, 3, 1], 1, lt = >) == 7:7\n", "            @test_skip binarysearch([11, 9, 8, 6, 4, 3, 1], 11, lt = >) == 1:1\n", "            @test_skip binarysearch([634, 377, 233, 144, 89, 55, 34, 21, 13, 8, 5, 3, 1], 144, lt = >) == 4:4\n", "            @test_skip binarysearch([377, 233, 144, 89, 55, 34, 21, 13, 8, 5, 3, 1], 21, lt = >) == 7:7\n", "        end\n", "        @testset \"value not in array\" begin\n", "            @test_skip binarysearch([11, 9, 8, 6, 4, 3, 1], 7, lt = >) == 4:3\n", "            @test_skip binarysearch([11, 9, 8, 6, 4, 3, 1], 0, lt = >) == 8:7\n", "            @test_skip binarysearch([11, 9, 8, 6, 4, 3, 1], 13, lt = >) == 1:0\n", "            @test_skip binarysearch([], 1, lt = >) == 1:0\n", "        end\n", "    end\n", "end"]
        },
        {
            "cell_type": "markdown",
            "metadata": {},
            "source": [
                "## Prepare submission\n",
                "To submit your exercise, you need to save your solution in a file called `binary-search.jl` before using the CLI.\n",
                "You can either create it manually or use the following functions, which will automatically write every notebook cell that starts with `# submit` to the file `binary-search.jl`.\n"
            ]
        },
        {
            "cell_type": "code",
            "execution_count": null,
            "metadata": {},
            "outputs": [],
            "source": [
                "# using Pkg; Pkg.add(\"Exercism\")\n",
                "# using Exercism\n",
                "# Exercism.create_submission(\"binary-search\")"
            ]
        }
    ],
    "metadata": {
        "kernelspec": {
            "display_name": "Julia 1.3.0",
            "language": "julia",
            "name": "julia-1.3"
        },
        "language_info": {
            "file_extension": ".jl",
            "mimetype": "application/julia",
            "name": "julia",
            "version": "1.3.0"
        }
    },
    "nbformat": 4,
    "nbformat_minor": 2
}
