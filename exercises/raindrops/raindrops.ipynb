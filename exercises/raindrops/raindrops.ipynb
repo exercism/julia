{
    "cells": [
        {
            "cell_type": "markdown",
            "metadata": {},
            "source": ["# Raindrops\n", "\n", "Your task is to convert a number into a string that contains raindrop sounds corresponding to certain potential factors. A factor is a number that evenly divides into another number, leaving no remainder. The simplest way to test if a one number is a factor of another is to use the [modulo operation](https://en.wikipedia.org/wiki/Modulo_operation).\n", "\n", "The rules of `raindrops` are that if a given number:\n", "\n", "- has 3 as a factor, add 'Pling' to the result.\n", "- has 5 as a factor, add 'Plang' to the result.\n", "- has 7 as a factor, add 'Plong' to the result.\n", "- _does not_ have any of 3, 5, or 7 as a factor, the result should be the digits of the number.\n", "\n", "## Examples\n", "\n", "- 28 has 7 as a factor, but not 3 or 5, so the result would be \"Plong\".\n", "- 30 has both 3 and 5 as factors, but not 7, so the result would be \"PlingPlang\".\n", "- 34 is not factored by 3, 5, or 7, so the result would be \"34\".\n", "\n", "## Source\n", "\n", "A variation on FizzBuzz, a famous technical interview question that is intended to weed out potential candidates. That question is itself derived from Fizz Buzz, a popular children's game for teaching division. [https://en.wikipedia.org/wiki/Fizz_buzz](https://en.wikipedia.org/wiki/Fizz_buzz)\n", "\n", "## Version compatibility\n", "This exercise has been tested on Julia versions >=1.0.\n", "\n", "## Submitting Incomplete Solutions\n", "It's possible to submit an incomplete solution so you can see how others have completed the exercise."]
        },
        {
            "cell_type": "markdown",
            "metadata": {},
            "source": ["## Your solution"]
        },
        {
            "cell_type": "code",
            "execution_count": null,
            "metadata": {},
            "outputs": [],
            "source": ["# submit\n", "function raindrops(number)\n", "\n", "end"]
        },
        {
            "cell_type": "markdown",
            "metadata": {},
            "source": ["## Test suite"]
        },
        {
            "cell_type": "code",
            "execution_count": null,
            "metadata": {},
            "outputs": [],
            "source": ["using Test\n", "\n", "# include(\"raindrops.jl\")\n", "\n", "@testset \"detect numbers\" begin\n", "    @testset \"the sound for 1 is 1\" begin\n", "      @test raindrops(1) == \"1\"\n", "    end\n", "    @testset \"2 to the power 3 does not make a raindrop sound as 3 is the exponent not the base\" begin\n", "      @test raindrops(8) == \"8\"\n", "    end\n", "    @testset \"the sound for 52 is 52\" begin\n", "      @test raindrops(52) == \"52\"\n", "    end\n", "end\n", "\n", "@testset \"detect pling\" begin\n", "    @testset \"the sound for 3 is Pling\" begin\n", "      @test raindrops(3) == \"Pling\"\n", "    end\n", "    @testset \"the sound for 6 is Pling as it has a factor 3\" begin\n", "      @test raindrops(6) == \"Pling\"\n", "    end\n", "    @testset \"the sound for 9 is Pling as it has a factor 3\" begin\n", "      @test raindrops(9) == \"Pling\"\n", "    end\n", "    @testset \"the sound for 27 is Pling as it has a factor 3\" begin\n", "      @test raindrops(27) == \"Pling\"\n", "    end\n", "end\n", "\n", "@testset \"detect plang\" begin\n", "    @testset \"the sound for 5 is Plang\" begin\n", "      @test raindrops(5) == \"Plang\"\n", "    end\n", "    @testset \"the sound for 10 is Plang as it has a factor 5\" begin\n", "      @test raindrops(10) == \"Plang\"\n", "    end\n", "    @testset \"the sound for 25 is Plang as it has a factor 5\" begin\n", "      @test raindrops(25) == \"Plang\"\n", "    end\n", "    @testset \"the sound for 3125 is Plang as it has a factor 5\" begin\n", "      @test raindrops(3125) == \"Plang\"\n", "    end\n", "end\n", "\n", "@testset \"detect plong\" begin\n", "    @testset \"the sound for 7 is Plong\" begin\n", "      @test raindrops(7) == \"Plong\"\n", "    end\n", "    @testset \"the sound for 14 is Plong as it has a factor of 7\" begin\n", "      @test raindrops(14) == \"Plong\"\n", "    end\n", "    @testset \"the sound for 49 is Plong as it has a factor 7\" begin\n", "      @test raindrops(49) == \"Plong\"\n", "    end\n", "end\n", "\n", "@testset \"detect multiple sounds\" begin\n", "    @testset \"the sound for 15 is PlingPlang as it has factors 3 and 5\" begin\n", "      @test raindrops(15) == \"PlingPlang\"\n", "    end\n", "    @testset \"the sound for 21 is PlingPlong as it has factors 3 and 7\" begin\n", "      @test raindrops(21) == \"PlingPlong\"\n", "    end\n", "    @testset \"the sound for 35 is PlangPlong as it has factors 5 and 7\" begin\n", "      @test raindrops(35) == \"PlangPlong\"\n", "    end\n", "    @testset \"the sound for 105 is PlingPlangPlong as it has factors 3, 5 and 7\" begin\n", "      @test raindrops(105) == \"PlingPlangPlong\"\n", "    end\n", "end"]
        },
        {
            "cell_type": "markdown",
            "metadata": {},
            "source": [
                "## Prepare submission\n",
                "To submit your exercise, you need to save your solution in a file called `raindrops.jl` before using the CLI.\n",
                "You can either create it manually or use the following functions, which will automatically write every notebook cell that starts with `# submit` to the file `raindrops.jl`.\n"
            ]
        },
        {
            "cell_type": "code",
            "execution_count": null,
            "metadata": {},
            "outputs": [],
            "source": [
                "# using Pkg; Pkg.add(\"Exercism\")\n",
                "# using Exercism\n",
                "# Exercism.create_submission(\"raindrops\")"
            ]
        }
    ],
    "metadata": {
        "kernelspec": {
            "display_name": "Julia 1.3.0",
            "language": "julia",
            "name": "julia-1.3"
        },
        "language_info": {
            "file_extension": ".jl",
            "mimetype": "application/julia",
            "name": "julia",
            "version": "1.3.0"
        }
    },
    "nbformat": 4,
    "nbformat_minor": 2
}
