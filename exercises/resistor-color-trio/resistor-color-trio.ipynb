{
    "cells": [
        {
            "cell_type": "markdown",
            "metadata": {},
            "source": ["# Resistor Color Trio\n", "\n", "If you want to build something using a Raspberry Pi, you'll probably use _resistors_. For this exercise, you need to know only three things about them:\n", "\n", "- Each resistor has a resistance value.\n", "- Resistors are small - so small in fact that if you printed the resistance value on them, it would be hard to read.\n", "  To get around this problem, manufacturers print color-coded bands onto the resistors to denote their resistance values.\n", "- Each band acts as a digit of a number. For example, if they printed a brown band (value 1) followed by a green band (value 5), it would translate to the number 15.\n", "  In this exercise, you are going to create a helpful program so that you don't have to remember the values of the bands. The program will take 3 colors as input, and outputs the correct value, in ohms.\n", "  The color bands are encoded as follows:\n", "\n", "* Black: 0\n", "* Brown: 1\n", "* Red: 2\n", "* Orange: 3\n", "* Yellow: 4\n", "* Green: 5\n", "* Blue: 6\n", "* Violet: 7\n", "* Grey: 8\n", "* White: 9\n", "\n", "In `resistor-color duo` you decoded the first two colors. For instance: orange-orange got the main value `33`.\n", "The third color stands for how many zeros need to be added to the main value. The main value plus the zeros gives us a value in ohms.\n", "For the exercise it doesn't matter what ohms really are.\n", "For example:\n", "\n", "- orange-orange-black would be 33 and no zeros, which becomes 33 ohms.\n", "- orange-orange-red would be 33 and 2 zeros, which becomes 3300 ohms.\n", "- orange-orange-orange would be 33 and 3 zeros, which becomes 33000 ohms.\n", "\n", "(If Math is your thing, you may want to think of the zeros as exponents of 10. If Math is not your thing, go with the zeros. It really is the same thing, just in plain English instead of Math lingo.)\n", "\n", "This exercise is about translating the colors into a label:\n", "\n", "> \"... ohms\"\n", "\n", "So an input of `\"orange\", \"orange\", \"black\"` should return:\n", "\n", "> \"33 ohms\"\n", "\n", "When we get more than a thousand ohms, we say \"kiloohms\". That's similar to saying \"kilometer\" for 1000 meters, and \"kilograms\" for 1000 grams.\n", "So an input of `\"orange\", \"orange\", \"orange\"` should return:\n", "\n", "> \"33 kiloohms\"\n", "\n", "## Source\n", "\n", "Maud de Vries, Erik Schierboom [https://github.com/exercism/problem-specifications/issues/1549](https://github.com/exercism/problem-specifications/issues/1549)\n", "\n", "## Version compatibility\n", "This exercise has been tested on Julia versions >=1.0.\n", "\n", "## Submitting Incomplete Solutions\n", "It's possible to submit an incomplete solution so you can see how others have completed the exercise."]
        },
        {
            "cell_type": "markdown",
            "metadata": {},
            "source": ["## Your solution"]
        },
        {
            "cell_type": "code",
            "execution_count": null,
            "metadata": {},
            "outputs": [],
            "source": ["# submit\n", "function label(colors)\n", "    \n", "end"]
        },
        {
            "cell_type": "markdown",
            "metadata": {},
            "source": ["## Test suite"]
        },
        {
            "cell_type": "code",
            "execution_count": null,
            "metadata": {},
            "outputs": [],
            "source": ["using Test\n", "\n", "# include(\"resistor-color-trio.jl\")\n", "\n", "@testset \"Orange and orange and black\" begin\n", "    @test label([\"orange\", \"orange\", \"black\"]) == \"33 ohms\"\n", "end\n", "\n", "@testset \"Blue and grey and brown\" begin\n", "    @test label([\"blue\", \"grey\", \"brown\"]) == \"680 ohms\"\n", "end\n", "\n", "@testset \"Red and black and red\" begin\n", "    @test label([\"red\", \"black\", \"red\"]) == \"2 kiloohms\"\n", "end\n", "\n", "@testset \"Green and brown and orange\" begin\n", "    @test label([\"green\", \"brown\", \"orange\"]) == \"51 kiloohms\"\n", "end\n", "\n", "@testset \"Yellow and violet and yellow\" begin\n", "    @test label([\"yellow\", \"violet\", \"yellow\"]) == \"470 kiloohms\"\n", "end\n", "\n", "@testset \"Orange and orange and red\" begin\n", "    @test label([\"orange\", \"orange\", \"red\"]) == \"3300 ohms\"\n", "end"]
        },
        {
            "cell_type": "markdown",
            "metadata": {},
            "source": [
                "## Prepare submission\n",
                "To submit your exercise, you need to save your solution in a file called `resistor-color-trio.jl` before using the CLI.\n",
                "You can either create it manually or use the following functions, which will automatically write every notebook cell that starts with `# submit` to the file `resistor-color-trio.jl`.\n"
            ]
        },
        {
            "cell_type": "code",
            "execution_count": null,
            "metadata": {},
            "outputs": [],
            "source": [
                "# using Pkg; Pkg.add(\"Exercism\")\n",
                "# using Exercism\n",
                "# Exercism.create_submission(\"resistor-color-trio\")"
            ]
        }
    ],
    "metadata": {
        "kernelspec": {
            "display_name": "Julia 1.3.0",
            "language": "julia",
            "name": "julia-1.3"
        },
        "language_info": {
            "file_extension": ".jl",
            "mimetype": "application/julia",
            "name": "julia",
            "version": "1.3.0"
        }
    },
    "nbformat": 4,
    "nbformat_minor": 2
}
