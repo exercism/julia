{
    "cells": [
        {
            "cell_type": "markdown",
            "metadata": {},
            "source": ["# Roman Numerals\n", "\n", "Write a function to convert from normal numbers to Roman Numerals.\n", "\n", "The Romans were a clever bunch. They conquered most of Europe and ruled\n", "it for hundreds of years. They invented concrete and straight roads and\n", "even bikinis. One thing they never discovered though was the number\n", "zero. This made writing and dating extensive histories of their exploits\n", "slightly more challenging, but the system of numbers they came up with\n", "is still in use today. For example the BBC uses Roman numerals to date\n", "their programmes.\n", "\n", "The Romans wrote numbers using letters - I, V, X, L, C, D, M. (notice\n", "these letters have lots of straight lines and are hence easy to hack\n", "into stone tablets).\n", "\n", "```text\n", " 1  => I\n", "10  => X\n", " 7  => VII\n", "```\n", "\n", "There is no need to be able to convert numbers larger than about 3000.\n", "(The Romans themselves didn't tend to go any higher)\n", "\n", "Wikipedia says: Modern Roman numerals ... are written by expressing each\n", "digit separately starting with the left most digit and skipping any\n", "digit with a value of zero.\n", "\n", "To see this in practice, consider the example of 1990.\n", "\n", "In Roman numerals 1990 is MCMXC:\n", "\n", "1000=M\n", "900=CM\n", "90=XC\n", "\n", "2008 is written as MMVIII:\n", "\n", "2000=MM\n", "8=VIII\n", "\n", "See also: http://www.novaroma.org/via_romana/numbers.html\n", "\n", "There is no need to be able to convert numbers larger than about 3000.\n", "\n", "## Source\n", "\n", "The Roman Numeral Kata [http://codingdojo.org/cgi-bin/index.pl?KataRomanNumerals](http://codingdojo.org/cgi-bin/index.pl?KataRomanNumerals)\n", "\n", "## Version compatibility\n", "This exercise has been tested on Julia versions >=1.0.\n", "\n", "## Submitting Incomplete Solutions\n", "It's possible to submit an incomplete solution so you can see how others have completed the exercise."]
        },
        {
            "cell_type": "markdown",
            "metadata": {},
            "source": ["## Your solution"]
        },
        {
            "cell_type": "code",
            "execution_count": null,
            "metadata": {},
            "outputs": [],
            "source": ["# submit\n", "function to_roman(number)\n", "\n", "end"]
        },
        {
            "cell_type": "markdown",
            "metadata": {},
            "source": ["## Test suite"]
        },
        {
            "cell_type": "code",
            "execution_count": null,
            "metadata": {},
            "outputs": [],
            "source": ["using Test\n", "\n", "# include(\"roman-numerals.jl\")\n", "\n", "samples = Dict(\n", "    1 => \"I\",\n", "    2 => \"II\",\n", "    3 => \"III\",\n", "    4 => \"IV\",\n", "    5 => \"V\",\n", "    6 => \"VI\",\n", "    9 => \"IX\",\n", "    27 => \"XXVII\",\n", "    48 => \"XLVIII\",\n", "    49 => \"XLIX\",\n", "    59 => \"LIX\",\n", "    93 => \"XCIII\",\n", "    141 => \"CXLI\",\n", "    163 => \"CLXIII\",\n", "    402 => \"CDII\",\n", "    575 => \"DLXXV\",\n", "    911 => \"CMXI\",\n", "    1024 => \"MXXIV\",\n", "    1703 => \"MDCCIII\",\n", "    1991 => \"MCMXCI\",\n", "    2017 => \"MMXVII\",\n", "    3000 => \"MMM\"\n", ")\n", "\n", "@testset \"convert $sample[1] to roman numeral\" for sample in samples\n", "    @test to_roman(sample[1]) == sample[2]\n", "end\n", "\n", "@testset \"error handling\" begin\n", "    @test_throws ErrorException to_roman(0)\n", "    @test_throws ErrorException to_roman(-2017)\n", "end"]
        },
        {
            "cell_type": "markdown",
            "metadata": {},
            "source": [
                "## Prepare submission\n",
                "To submit your exercise, you need to save your solution in a file called `roman-numerals.jl` before using the CLI.\n",
                "You can either create it manually or use the following functions, which will automatically write every notebook cell that starts with `# submit` to the file `roman-numerals.jl`.\n"
            ]
        },
        {
            "cell_type": "code",
            "execution_count": null,
            "metadata": {},
            "outputs": [],
            "source": [
                "# using Pkg; Pkg.add(\"Exercism\")\n",
                "# using Exercism\n",
                "# Exercism.create_submission(\"roman-numerals\")"
            ]
        }
    ],
    "metadata": {
        "kernelspec": {
            "display_name": "Julia 1.3.0",
            "language": "julia",
            "name": "julia-1.3"
        },
        "language_info": {
            "file_extension": ".jl",
            "mimetype": "application/julia",
            "name": "julia",
            "version": "1.3.0"
        }
    },
    "nbformat": 4,
    "nbformat_minor": 2
}
