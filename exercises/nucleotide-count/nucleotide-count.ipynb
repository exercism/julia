{
    "cells": [
        {
            "cell_type": "markdown",
            "metadata": {},
            "source": ["# Nucleotide Count\n", "\n", "Each of us inherits from our biological parents a set of chemical instructions known as DNA that influence how our bodies are constructed. All known life depends on DNA!\n", "\n", "> Note: You do not need to understand anything about nucleotides or DNA to complete this exercise.\n", "\n", "DNA is a long chain of other chemicals and the most important are the four nucleotides, adenine, cytosine, guanine and thymine. A single DNA chain can contain billions of these four nucleotides and the order in which they occur is important!\n", "We call the order of these nucleotides in a bit of DNA a \"DNA sequence\".\n", "\n", "We represent a DNA sequence as an ordered collection of these four nucleotides and a common way to do that is with a string of characters such as \"ATTACG\" for a DNA sequence of 6 nucleotides.\n", "'A' for adenine, 'C' for cytosine, 'G' for guanine, and 'T' for thymine.\n", "\n", "Given a string representing a DNA sequence, count how many of each nucleotide is present.\n", "If the string contains characters that aren't A, C, G, or T then it is invalid and you should signal an error.\n", "\n", "For example:\n", "\n", "```\n", "\"GATTACA\" -> 'A': 3, 'C': 1, 'G': 1, 'T': 2\n", "\"INVALID\" -> error\n", "```\n", "\n", "## Source\n", "\n", "The Calculating DNA Nucleotides_problem at Rosalind [http://rosalind.info/problems/dna/](http://rosalind.info/problems/dna/)\n", "\n", "## Version compatibility\n", "This exercise has been tested on Julia versions >=1.0.\n", "\n", "## Submitting Incomplete Solutions\n", "It's possible to submit an incomplete solution so you can see how others have completed the exercise."]
        },
        {
            "cell_type": "markdown",
            "metadata": {},
            "source": ["## Your solution"]
        },
        {
            "cell_type": "code",
            "execution_count": null,
            "metadata": {},
            "outputs": [],
            "source": ["# submit\n", "\"\"\"\n", "    count_nucleotides(strand)\n", "\n", "The frequency of each nucleotide within `strand` as a dictionary.\n", "\n", "Invalid strands raise a `DomainError`.\n", "\n", "\"\"\"\n", "function count_nucleotides(strand)\n", "\n", "end"]
        },
        {
            "cell_type": "markdown",
            "metadata": {},
            "source": ["## Test suite"]
        },
        {
            "cell_type": "code",
            "execution_count": null,
            "metadata": {},
            "outputs": [],
            "source": ["using Test\n", "\n", "# include(\"nucleotide-count.jl\")\n", "\n", "@testset \"empty strand\" begin\n", "    @test count_nucleotides(\"\") == Dict('A' => 0, 'C' => 0, 'G' => 0, 'T' => 0)\n", "end\n", "\n", "@testset \"strang with one nucleotide in single-character input\" begin\n", "    @test count_nucleotides(\"G\") == Dict('A' => 0, 'C' => 0, 'G' => 1, 'T' => 0)\n", "end\n", "\n", "@testset \"strand with repeated nucleotide\" begin\n", "    @test count_nucleotides(\"GGGGGGG\") == Dict('A' => 0, 'C' => 0, 'G' => 7, 'T' => 0)\n", "end\n", "\n", "@testset \"strand with multiple nucleotides\" begin\n", "    @test count_nucleotides(\"AGCTTTTCATTCTGACTGCAACGGGCAATATGTCTCTGTGTGGATTAAAAAAAGAGTGTCTGATAGCAGC\") == Dict('A' => 20, 'C' => 12, 'G' => 17, 'T' => 21)\n", "end\n", "\n", "@testset \"strand with invalid nucleotides\" begin\n", "    @test_throws DomainError count_nucleotides(\"AGXXACT\")\n", "end"]
        },
        {
            "cell_type": "markdown",
            "metadata": {},
            "source": [
                "## Prepare submission\n",
                "To submit your exercise, you need to save your solution in a file called `nucleotide-count.jl` before using the CLI.\n",
                "You can either create it manually or use the following functions, which will automatically write every notebook cell that starts with `# submit` to the file `nucleotide-count.jl`.\n"
            ]
        },
        {
            "cell_type": "code",
            "execution_count": null,
            "metadata": {},
            "outputs": [],
            "source": [
                "# using Pkg; Pkg.add(\"Exercism\")\n",
                "# using Exercism\n",
                "# Exercism.create_submission(\"nucleotide-count\")"
            ]
        }
    ],
    "metadata": {
        "kernelspec": {
            "display_name": "Julia 1.3.0",
            "language": "julia",
            "name": "julia-1.3"
        },
        "language_info": {
            "file_extension": ".jl",
            "mimetype": "application/julia",
            "name": "julia",
            "version": "1.3.0"
        }
    },
    "nbformat": 4,
    "nbformat_minor": 2
}
