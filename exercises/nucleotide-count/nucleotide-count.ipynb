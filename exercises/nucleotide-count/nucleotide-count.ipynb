{
    "cells": [
        {
            "cell_type": "markdown",
            "metadata": {},
            "source": ["# Nucleotide Count\n", "\n", "Given a single stranded DNA string, compute how many times each nucleotide occurs in the string.\n", "\n", "The genetic language of every living thing on the planet is DNA.\n", "DNA is a large molecule that is built from an extremely long sequence of individual elements called nucleotides.\n", "4 types exist in DNA and these differ only slightly and can be represented as the following symbols: 'A' for adenine, 'C' for cytosine, 'G' for guanine, and 'T' thymine.\n", "\n", "Here is an analogy:\n", "- twigs are to birds nests as\n", "- nucleotides are to DNA as\n", "- legos are to lego houses as\n", "- words are to sentences as...\n", "## Source\n", "\n", "The Calculating DNA Nucleotides_problem at Rosalind [http://rosalind.info/problems/dna/](http://rosalind.info/problems/dna/)\n", "\n", "\n", "## Version compatibility\n", "This exercise has been tested on Julia versions >=1.0.\n", "\n", "## Submitting Incomplete Solutions\n", "It's possible to submit an incomplete solution so you can see how others have completed the exercise."]
        },
        {
            "cell_type": "markdown",
            "metadata": {},
            "source": ["## Your solution"]
        },
        {
            "cell_type": "code",
            "execution_count": null,
            "metadata": {},
            "outputs": [],
            "source": ["# submit\n", "function count_nucleotides(strand::AbstractString)\n", "\n", "end"]
        },
        {
            "cell_type": "markdown",
            "metadata": {},
            "source": ["## Test suite"]
        },
        {
            "cell_type": "code",
            "execution_count": null,
            "metadata": {},
            "outputs": [],
            "source": ["using Test\n", "\n", "# include(\"nucleotide-count.jl\")\n", "\n", "@testset \"empty strand\" begin\n", "    @test count_nucleotides(\"\") == Dict('A' => 0, 'C' => 0, 'G' => 0, 'T' => 0)\n", "end\n", "\n", "@testset \"strand with repeated nucleotide\" begin\n", "    @test count_nucleotides(\"GGGGGGG\") == Dict('A' => 0, 'C' => 0, 'G' => 7, 'T' => 0)\n", "end\n", "\n", "@testset \"strand with multiple nucleotides\" begin\n", "    @test count_nucleotides(\"AGCTTTTCATTCTGACTGCAACGGGCAATATGTCTCTGTGTGGATTAAAAAAAGAGTGTCTGATAGCAGC\") == Dict('A' => 20, 'C' => 12, 'G' => 17, 'T' => 21)\n", "end\n", "\n", "@testset \"strand with invalid nucleotides\" begin\n", "    @test_throws DomainError count_nucleotides(\"AGXXACT\")\n", "end"]
        },
        {
            "cell_type": "markdown",
            "metadata": {},
            "source": [
                "## Prepare submission\n",
                "To submit your exercise, you need to save your solution in a file called `nucleotide-count.jl` before using the CLI.\n",
                "You can either create it manually or use the following functions, which will automatically write every notebook cell that starts with `# submit` to the file `nucleotide-count.jl`.\n"
            ]
        },
        {
            "cell_type": "code",
            "execution_count": null,
            "metadata": {},
            "outputs": [],
            "source": [
                "# using Pkg; Pkg.add(\"Exercism\")\n",
                "# using Exercism\n",
                "# Exercism.create_submission(\"nucleotide-count\")"
            ]
        }
    ],
    "metadata": {
        "kernelspec": {
            "display_name": "Julia 1.1.0",
            "language": "julia",
            "name": "julia-1.1"
        },
        "language_info": {
            "file_extension": ".jl",
            "mimetype": "application/julia",
            "name": "julia",
            "version": "1.1.0"
        }
    },
    "nbformat": 4,
    "nbformat_minor": 2
}
