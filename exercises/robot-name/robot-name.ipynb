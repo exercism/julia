{
    "cells": [
        {
            "cell_type": "markdown",
            "metadata": {},
            "source": ["# Robot Name\n", "\n", "Manage robot factory settings.\n", "\n", "When robots come off the factory floor, they have no name.\n", "\n", "The first time you boot them up, a random name is generated in the format\n", "of two uppercase letters followed by three digits, such as RX837 or BC811.\n", "\n", "Every once in a while we need to reset a robot to its factory settings,\n", "which means that their name gets wiped. The next time you ask, it will\n", "respond with a new random name.\n", "\n", "The names must be random: they should not follow a predictable sequence.\n", "Random names means a risk of collisions. Your solution must ensure that\n", "every existing robot has a unique name.\n", "\n", "This exercise introduces work with Julia's [type system](http://docs.julialang.org/en/stable/manual/types/)\n", "and random [numbers](http://docs.julialang.org/en/stable/stdlib/numbers/).\n", "\n", "Let's create a structure that will describe our robots\n", "and then use it to create new instances and to work with them.\n", "\n", "Generate the robot's name using randomness and don't worry about\n", "collisions, tests sometimes will fail and that's alright.\n", "\n", "Resetting the robot to the factory settings is like a surgery,\n", "so we declare a method that will reset the robot's settings.\n", "Take a note that skeleton method reset! has an exclamation mark suffix\n", "meaning that the method changes given argument's contents.\n", "\n", "Futhermore, experiment with testing and check out the situations when\n", "there are lots of collisions (like when you generate name one thousand times).\n", "\n", "\n", "## Source\n", "\n", "A debugging session with Paul Blackwell at gSchool. [http://gschool.it](http://gschool.it)\n", "\n", "## Version compatibility\n", "This exercise has been tested on Julia versions >=1.0.\n", "\n", "## Submitting Incomplete Solutions\n", "It's possible to submit an incomplete solution so you can see how others have completed the exercise."]
        },
        {
            "cell_type": "markdown",
            "metadata": {},
            "source": ["## Your solution"]
        },
        {
            "cell_type": "code",
            "execution_count": null,
            "metadata": {},
            "outputs": [],
            "source": ["# submit\n", "mutable struct Robot\n", "\n", "end\n", "\n", "function reset!(instance::Robot)\n", "\n", "end\n", ""]
        },
        {
            "cell_type": "markdown",
            "metadata": {},
            "source": ["## Test suite"]
        },
        {
            "cell_type": "code",
            "execution_count": null,
            "metadata": {},
            "outputs": [],
            "source": ["using Test\n", "\n", "# include(\"robot-name.jl\")\n", "\n", "# Random names means a risk of collisions.\n", "history = String[]\n", "\n", "isname(x) = occursin(r\"^[A-Z]{2}[0-9]{3}\$\", x)\n", "\n", "@testset \"one robot\" begin\n", "    global r1 = Robot()\n", "    push!(history, r1.name)\n", "\n", "    @testset \"name of robot is valid\" begin\n", "        @test isname(r1.name)\n", "    end\n", "\n", "    @testset \"names of robot instance are valid and unique in history\" for i=1:100\n", "        reset!(r1)\n", "        @test isname(r1.name)\n", "        @test !in(r1.name, history)\n", "        push!(history, r1.name)\n", "    end\n", "end\n", "\n", "@testset \"two robots\" begin\n", "    global r2 = Robot()\n", "    global r3 = Robot()\n", "\n", "    @testset \"names of robots are valid\" begin\n", "        @test isname(r2.name)\n", "        @test isname(r3.name)\n", "    end\n", "    \n", "    @testset \"names of robots are not equal\" begin\n", "        @test r2.name != r3.name\n", "    end\n", "\n", "    @testset \"names of both robots are unique in history\" begin\n", "        @test !in(r2.name, history)\n", "        @test !in(r3.name, history)\n", "    end\n", "\n", "    push!(history, r2.name)\n", "    push!(history, r3.name)\n", "end\n", "\n", "@testset \"many robots\" begin\n", "    global robots = Robot[]\n", "\n", "    for i=1:10\n", "        push!(robots, Robot())\n", "\n", "        @testset \"name of robot is valid and unique in history\" begin\n", "            @test isname(robots[i].name)\n", "            @test !in(robots[i].name, history)\n", "        end\n", "\n", "        push!(history, robots[i].name)\n", "    end\n", "\n", "    @testset \"fresh names of reset robots are valid and unique in history\" for r in robots\n", "        reset!(r)\n", "        @test isname(r.name)\n", "        @test !in(r.name, history)\n", "        push!(history, r.name)\n", "    end\n", "end"]
        },
        {
            "cell_type": "markdown",
            "metadata": {},
            "source": [
                "## Prepare submission\n",
                "To submit your exercise, you need to save your solution in a file called `robot-name.jl` before using the CLI.\n",
                "You can either create it manually or use the following functions, which will automatically write every notebook cell that starts with `# submit` to the file `robot-name.jl`.\n"
            ]
        },
        {
            "cell_type": "code",
            "execution_count": null,
            "metadata": {},
            "outputs": [],
            "source": [
                "# using Pkg; Pkg.add(\"Exercism\")\n",
                "# using Exercism\n",
                "# Exercism.create_submission(\"robot-name\")"
            ]
        }
    ],
    "metadata": {
        "kernelspec": {
            "display_name": "Julia 1.3.0",
            "language": "julia",
            "name": "julia-1.3"
        },
        "language_info": {
            "file_extension": ".jl",
            "mimetype": "application/julia",
            "name": "julia",
            "version": "1.3.0"
        }
    },
    "nbformat": 4,
    "nbformat_minor": 2
}
