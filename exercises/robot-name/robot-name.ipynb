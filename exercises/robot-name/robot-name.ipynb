{
    "cells": [
        {
            "cell_type": "markdown",
            "metadata": {},
            "source": ["# Robot Name\n", "\n", "Manage robot factory settings.\n", "\n", "When a robot comes off the factory floor, it has no name.\n", "\n", "The first time you turn on a robot, a random name is generated in the format\n", "of two uppercase letters followed by three digits, such as RX837 or BC811.\n", "\n", "Every once in a while we need to reset a robot to its factory settings,\n", "which means that its name gets wiped. The next time you ask, that robot will\n", "respond with a new random name.\n", "\n", "The names must be random: they should not follow a predictable sequence.\n", "Using random names means a risk of collisions. Your solution must ensure that\n", "every existing robot has a unique name.\n", "\n", "The test suite only generates ~100 names by default.\n", "There are ~700k valid names, so it will only give a small chance of collisions.\n", "Consider testing your solution for collisions in some other way in addition to the test suite.\n", "\n", "This exercise continues our exploration of Julia's\n", "[type system](https://docs.julialang.org/en/v1/manual/types/),\n", "this time with mutable types,\n", "and introduces us to\n", "[random number generation](https://docs.julialang.org/en/v1/stdlib/Random/).\n", "\n", "We will imagine that resetting the robot to the factory settings is like a surgery: it makes changes to the subject, but doesn't replace it.\n", "We could also have modeled the problem such that resetting a robot creates a new robot, but not every problem can be modeled solely with immutable data structures (even purely functional languages deal with mutability inside their runtimes!).\n", "\n", "In Julia, functions that mutate their arguments have a suffix `!` by convention.\n", "So our method for doing this will be called `reset!`.\n", "\n", "This is only a convention, but almost all published Julia code follows it and you might come to agree that it's quite helpful!\n", "\n", "## Hints\n", "\n", "You will need to define\n", "a method for generating unique names,\n", "a structure to describe robots,\n", "a method for resetting a robot,\n", "and a method for getting the name of a robot.\n", "\n", "You might find it helpful to design your program first to just emit a random name for a robot (without worrying about collisions) and then later to think about and design a scheme that will avoid ever issuing duplicate names.\n", "In your design, be thoughtful about how the run time of name generation changes as names run out. What guarantees do you want to offer the caller?\n", "\n", "## Source\n", "\n", "A debugging session with Paul Blackwell at gSchool.\n", "\n", "## Version compatibility\n", "This exercise has been tested on Julia versions >=1.0.\n", "\n", "## Submitting Incomplete Solutions\n", "It's possible to submit an incomplete solution so you can see how others have completed the exercise."]
        },
        {
            "cell_type": "markdown",
            "metadata": {},
            "source": ["## Your solution"]
        },
        {
            "cell_type": "code",
            "execution_count": null,
            "metadata": {},
            "outputs": [],
            "source": ["# submit\n", "mutable struct Robot\n", "\n", "end\n", "\n", "function reset!(instance::Robot)\n", "\n", "end\n", "\n", "function name(instance::Robot)\n", "\n", "end"]
        },
        {
            "cell_type": "markdown",
            "metadata": {},
            "source": ["## Test suite"]
        },
        {
            "cell_type": "code",
            "execution_count": null,
            "metadata": {},
            "outputs": [],
            "source": ["using Test\n", "\n", "import Random\n", "\n", "# include(\"robot-name.jl\")\n", "\n", "# Random names means a risk of collisions.\n", "const history = Set{String}()\n", "\n", "isname(x) = occursin(r\"^[A-Z]{2}[0-9]{3}$\", x)\n", "\n", "@testset \"one robot\" begin\n", "    global r1 = Robot()\n", "    push!(history, name(r1))\n", "\n", "    @testset \"name of robot is valid\" begin\n", "        @test isname(name(r1))\n", "    end\n", "\n", "    @testset \"names of robot instance are valid and unique in history\" begin\n", "        # @testset sets the same seed every time for reproducibility, but we're\n", "        # undoing that deliberately with Random.seed!() to increase the chance\n", "        # of seeing collisions.\n", "        Random.seed!()\n", "        for i in 1:100\n", "            reset!(r1)\n", "            @test isname(name(r1))\n", "            @test !in(name(r1), history)\n", "            push!(history, name(r1))\n", "        end\n", "    end\n", "end\n", "\n", "@testset \"two robots\" begin\n", "    global r2 = Robot()\n", "    global r3 = Robot()\n", "\n", "    @testset \"names of robots are valid\" begin\n", "        @test isname(name(r2))\n", "        @test isname(name(r3))\n", "    end\n", "    \n", "    @testset \"names of robots are not equal\" begin\n", "        @test name(r2) != name(r3)\n", "    end\n", "\n", "    @testset \"names of both robots are unique in history\" begin\n", "        @test !in(name(r2), history)\n", "        @test !in(name(r3), history)\n", "    end\n", "\n", "    push!(history, name(r2))\n", "    push!(history, name(r3))\n", "end\n", "\n", "@testset \"many robots\" begin\n", "    Random.seed!()\n", "    robots = Robot[]\n", "\n", "    for i in 1:100\n", "        push!(robots, Robot())\n", "\n", "        @testset \"name of robot is valid and unique in history\" begin\n", "            @test isname(name(robots[i]))\n", "            @test !in(name(robots[i]), history)\n", "        end\n", "\n", "        push!(history, name(robots[i]))\n", "    end\n", "\n", "    @testset \"fresh names of reset robots are valid and unique in history\" begin\n", "        Random.seed!()\n", "        for r in robots\n", "            reset!(r)\n", "            @test isname(name(r))\n", "            @test !in(name(r), history)\n", "            push!(history, name(r))\n", "        end\n", "    end\n", "end"]
        },
        {
            "cell_type": "markdown",
            "metadata": {},
            "source": [
                "## Prepare submission\n",
                "To submit your exercise, you need to save your solution in a file called `robot-name.jl` before using the CLI.\n",
                "You can either create it manually or use the following functions, which will automatically write every notebook cell that starts with `# submit` to the file `robot-name.jl`.\n"
            ]
        },
        {
            "cell_type": "code",
            "execution_count": null,
            "metadata": {},
            "outputs": [],
            "source": [
                "# using Pkg; Pkg.add(\"Exercism\")\n",
                "# using Exercism\n",
                "# Exercism.create_submission(\"robot-name\")"
            ]
        }
    ],
    "metadata": {
        "kernelspec": {
            "display_name": "Julia 1.3.0",
            "language": "julia",
            "name": "julia-1.3"
        },
        "language_info": {
            "file_extension": ".jl",
            "mimetype": "application/julia",
            "name": "julia",
            "version": "1.3.0"
        }
    },
    "nbformat": 4,
    "nbformat_minor": 2
}
