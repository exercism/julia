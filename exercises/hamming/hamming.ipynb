{
    "cells": [
        {
            "cell_type": "markdown",
            "metadata": {},
            "source": ["# Hamming\n", "\n", "Calculate the Hamming Distance between two DNA strands.\n", "\n", "Your body is made up of cells that contain DNA. Those cells regularly wear out and need replacing, which they achieve by dividing into daughter cells. In fact, the average human body experiences about 10 quadrillion cell divisions in a lifetime!\n", "\n", "When cells divide, their DNA replicates too. Sometimes during this process mistakes happen and single pieces of DNA get encoded with the incorrect information. If we compare two strands of DNA and count the differences between them we can see how many mistakes occurred. This is known as the \"Hamming Distance\".\n", "\n", "We read DNA using the letters C,A,G and T. Two strands might look like this:\n", "\n", "    GAGCCTACTAACGGGAT\n", "    CATCGTAATGACGGCCT\n", "    ^ ^ ^  ^ ^    ^^\n", "\n", "They have 7 differences, and therefore the Hamming Distance is 7.\n", "\n", "The Hamming Distance is useful for lots of things in science, not just biology, so it's a nice phrase to be familiar with :)\n", "\n", "# Implementation notes\n", "\n", "The Hamming distance is only defined for sequences of equal length, so\n", "an attempt to calculate it between sequences of different lengths should\n", "not work. The general handling of this situation (e.g., raising an\n", "exception vs returning a special value) may differ between languages.\n", "\n", "## Source\n", "\n", "The Calculating Point Mutations problem at Rosalind [http://rosalind.info/problems/hamm/](http://rosalind.info/problems/hamm/)\n", "\n", "## Version compatibility\n", "This exercise has been tested on Julia versions >=1.0.\n", "\n", "## Submitting Incomplete Solutions\n", "It's possible to submit an incomplete solution so you can see how others have completed the exercise."]
        },
        {
            "cell_type": "markdown",
            "metadata": {},
            "source": ["## Your solution"]
        },
        {
            "cell_type": "code",
            "execution_count": null,
            "metadata": {},
            "outputs": [],
            "source": ["# submit\n", "\"Your optional docstring here\"\n", "function distance(a, b)\n", "\n", "end"]
        },
        {
            "cell_type": "markdown",
            "metadata": {},
            "source": ["## Test suite"]
        },
        {
            "cell_type": "code",
            "execution_count": null,
            "metadata": {},
            "outputs": [],
            "source": ["using Test\n", "\n", "# include(\"hamming.jl\")\n", "\n", "@testset \"identical strands\" begin\n", "    @test distance(\"A\", \"A\") == 0\n", "    @test distance(\"GGACTGA\", \"GGACTGA\") == 0\n", "end\n", "\n", "@testset \"complete distance\" begin\n", "    @test distance(\"A\", \"G\") == 1\n", "    @test distance(\"AG\", \"CT\") == 2\n", "end\n", "\n", "@testset \"small distance\" begin\n", "    @test distance(\"AT\", \"CT\") == 1\n", "    @test distance(\"GGACG\", \"GGTCG\") == 1\n", "    @test distance(\"ACCAGGG\", \"ACTATGG\") == 2\n", "end\n", "\n", "@testset \"non-unique characters\" begin\n", "    @test distance(\"AGA\", \"AGG\") == 1\n", "    @test distance(\"AGG\", \"AGA\") == 1\n", "end\n", "\n", "@testset \"same nucleotides in different positions\" begin\n", "    @test distance(\"TAG\", \"GAT\") == 2\n", "end\n", "\n", "@testset \"large distance\" begin\n", "    @test distance(\"GATACA\", \"GCATAA\") == 4\n", "    @test distance(\"GGACGGATTCTG\", \"AGGACGGATTCT\") == 9\n", "end\n", "\n", "@testset \"empty strands\" begin\n", "    @test distance(\"\", \"\") == 0\n", "end\n", "\n", "@testset \"different strand lengths\" begin\n", "    @test_throws ArgumentError distance(\"AATG\", \"AAA\")\n", "    @test_throws ArgumentError distance(\"ATA\", \"AGTG\")\n", "    @test_throws ArgumentError distance(\"\", \"G\")\n", "    @test_throws ArgumentError distance(\"G\", \"\")\n", "end"]
        },
        {
            "cell_type": "markdown",
            "metadata": {},
            "source": [
                "## Prepare submission\n",
                "To submit your exercise, you need to save your solution in a file called `hamming.jl` before using the CLI.\n",
                "You can either create it manually or use the following functions, which will automatically write every notebook cell that starts with `# submit` to the file `hamming.jl`.\n"
            ]
        },
        {
            "cell_type": "code",
            "execution_count": null,
            "metadata": {},
            "outputs": [],
            "source": [
                "# using Pkg; Pkg.add(\"Exercism\")\n",
                "# using Exercism\n",
                "# Exercism.create_submission(\"hamming\")"
            ]
        }
    ],
    "metadata": {
        "kernelspec": {
            "display_name": "Julia 1.3.0",
            "language": "julia",
            "name": "julia-1.3"
        },
        "language_info": {
            "file_extension": ".jl",
            "mimetype": "application/julia",
            "name": "julia",
            "version": "1.3.0"
        }
    },
    "nbformat": 4,
    "nbformat_minor": 2
}
