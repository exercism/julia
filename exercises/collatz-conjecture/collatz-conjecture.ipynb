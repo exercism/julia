{
    "cells": [
        {
            "cell_type": "markdown",
            "metadata": {},
            "source": ["# Collatz Conjecture\n", "\n", "The Collatz Conjecture or 3x+1 problem can be summarized as follows:\n", "\n", "Take any positive integer n. If n is even, divide n by 2 to get n / 2. If n is\n", "odd, multiply n by 3 and add 1 to get 3n + 1. Repeat the process indefinitely.\n", "The conjecture states that no matter which number you start with, you will\n", "always reach 1 eventually.\n", "\n", "Given a number n, return the number of steps required to reach 1.\n", "\n", "## Examples\n", "\n", "Starting with n = 12, the steps would be as follows:\n", "\n", "0. 12\n", "1. 6\n", "2. 3\n", "3. 10\n", "4. 5\n", "5. 16\n", "6. 8\n", "7. 4\n", "8. 2\n", "9. 1\n", "\n", "Resulting in 9 steps. So for input n = 12, the return value would be 9.\n", "\n", "## Source\n", "\n", "An unsolved problem in mathematics named after mathematician Lothar Collatz [https://en.wikipedia.org/wiki/3x_%2B_1_problem](https://en.wikipedia.org/wiki/3x_%2B_1_problem)\n", "\n", "## Version compatibility\n", "This exercise has been tested on Julia versions >=1.0.\n", "\n", "## Submitting Incomplete Solutions\n", "It's possible to submit an incomplete solution so you can see how others have completed the exercise."]
        },
        {
            "cell_type": "markdown",
            "metadata": {},
            "source": ["## Your solution"]
        },
        {
            "cell_type": "code",
            "execution_count": null,
            "metadata": {},
            "outputs": [],
            "source": ["# submit"]
        },
        {
            "cell_type": "markdown",
            "metadata": {},
            "source": ["## Test suite"]
        },
        {
            "cell_type": "code",
            "execution_count": null,
            "metadata": {},
            "outputs": [],
            "source": ["using Test\n", "\n", "# include(\"collatz-conjecture.jl\")\n", "\n", "# canonical data\n", "@testset \"Canonical data\" begin\n", "    @test collatz_steps(1) == 0\n", "    @test collatz_steps(16) == 4\n", "    @test collatz_steps(12) == 9\n", "    @test collatz_steps(1000000) == 152\n", "    @test_throws DomainError collatz_steps(0)\n", "    @test_throws DomainError collatz_steps(-15)\n", "end"]
        },
        {
            "cell_type": "markdown",
            "metadata": {},
            "source": [
                "## Prepare submission\n",
                "To submit your exercise, you need to save your solution in a file called `collatz-conjecture.jl` before using the CLI.\n",
                "You can either create it manually or use the following functions, which will automatically write every notebook cell that starts with `# submit` to the file `collatz-conjecture.jl`.\n"
            ]
        },
        {
            "cell_type": "code",
            "execution_count": null,
            "metadata": {},
            "outputs": [],
            "source": [
                "# using Pkg; Pkg.add(\"Exercism\")\n",
                "# using Exercism\n",
                "# Exercism.create_submission(\"collatz-conjecture\")"
            ]
        }
    ],
    "metadata": {
        "kernelspec": {
            "display_name": "Julia 1.3.0",
            "language": "julia",
            "name": "julia-1.3"
        },
        "language_info": {
            "file_extension": ".jl",
            "mimetype": "application/julia",
            "name": "julia",
            "version": "1.3.0"
        }
    },
    "nbformat": 4,
    "nbformat_minor": 2
}
