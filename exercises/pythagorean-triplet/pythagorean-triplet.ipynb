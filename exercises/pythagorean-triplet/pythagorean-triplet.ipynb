{
 "cells": [
  {
   "cell_type": "markdown",
   "metadata": {},
   "source": [
    "# Prime Factors\n",
    "\n",
    "Compute the prime factors of a given natural number.\n",
    "\n",
    "A prime number is only evenly divisible by itself and 1.\n",
    "\n",
    "Note that 1 is not a prime number.\n",
    "\n",
    "## Example\n",
    "\n",
    "What are the prime factors of 60?\n",
    "\n",
    "- Our first divisor is 2. 2 goes into 60, leaving 30.\n",
    "- 2 goes into 30, leaving 15.\n",
    "  - 2 doesn't go cleanly into 15. So let's move on to our next divisor, 3.\n",
    "- 3 goes cleanly into 15, leaving 5.\n",
    "  - 3 does not go cleanly into 5. The next possible factor is 4.\n",
    "  - 4 does not go cleanly into 5. The next possible factor is 5.\n",
    "- 5 does go cleanly into 5.\n",
    "- We're left only with 1, so now, we're done.\n",
    "\n",
    "Our successful divisors in that computation represent the list of prime\n",
    "factors of 60: 2, 2, 3, and 5.\n",
    "\n",
    "You can check this yourself:\n",
    "\n",
    "- 2 * 2 * 3 * 5\n",
    "- = 4 * 15\n",
    "- = 60\n",
    "- Success!\n",
    "\n",
    "## Source\n",
    "\n",
    "The Prime Factors Kata by Uncle Bob [http://butunclebob.com/ArticleS.UncleBob.ThePrimeFactorsKata](http://butunclebob.com/ArticleS.UncleBob.ThePrimeFactorsKata)\n",
    "\n",
    "## Version compatibility\n",
    "This exercise has been tested on Julia versions >=1.0.\n",
    "\n",
    "## Submitting Incomplete Solutions\n",
    "It's possible to submit an incomplete solution so you can see how others have completed the exercise.\n"
   ]
  },
  {
   "cell_type": "markdown",
   "metadata": {},
   "source": [
    "## Your solution"
   ]
  },
  {
   "cell_type": "code",
   "execution_count": 1,
   "metadata": {},
   "outputs": [],
   "source": [
    "# submit"
   ]
  },
  {
   "cell_type": "markdown",
   "metadata": {},
   "source": [
    "## Test suite"
   ]
  },
  {
   "cell_type": "code",
   "execution_count": null,
   "metadata": {},
   "outputs": [],
   "source": [
    "# canonical data version 1.0.0\n",
    "# include(\"pythagorean-triplet.jl\")\n",
    "\n",
    "using Test\n",
    "\n",
    "@testset \"triplets whose sum is 12\" begin\n",
    "    @test pythagorean_triplets(12) == [[3, 4, 5]]\n",
    "end\n",
    "\n",
    "@testset \"triplets whose sum is 108\" begin\n",
    "    @test pythagorean_triplets(108) == [[27, 36, 45]]\n",
    "end\n",
    "\n",
    "@testset \"triplets whose sum is 1000\" begin\n",
    "    @test pythagorean_triplets(1000) == [[200, 375, 425]]\n",
    "end\n",
    "\n",
    "@testset \"triplets whose sum is 1001\" begin\n",
    "    @test pythagorean_triplets(1001) == []\n",
    "end\n",
    "\n",
    "@testset \"returns all matching triplets\" begin\n",
    "    @test pythagorean_triplets(90) == [[9, 40, 41], [15, 36, 39]]\n",
    "end\n",
    "\n",
    "@testset \"several matching triplets\" begin\n",
    "    @test pythagorean_triplets(840) == [\n",
    "        [40, 399, 401],\n",
    "        [56, 390, 394],\n",
    "        [105, 360, 375],\n",
    "        [120, 350, 370],\n",
    "        [140, 336, 364],\n",
    "        [168, 315, 357],\n",
    "        [210, 280, 350],\n",
    "        [240, 252, 348],\n",
    "    ]\n",
    "end\n",
    "\n",
    "@testset \"triplets for large number\" begin\n",
    "    @test pythagorean_triplets(30000) == [\n",
    "        [1200, 14375, 14425],\n",
    "        [1875, 14000, 14125],\n",
    "        [5000, 12000, 13000],\n",
    "        [6000, 11250, 12750],\n",
    "        [7500, 10000, 12500],\n",
    "    ]\n",
    "end\n"
   ]
  },
  {
   "cell_type": "markdown",
   "metadata": {},
   "source": [
    "## Prepare submission\n",
    "To submit your exercise, you need to save your solution in a file called `pythagorean-triplet.jl` before using the CLI.\n",
    "You can either create it manually or use the following functions, which will automatically write every notebook cell that starts with `# submit` to the file `pythagorean-triplet.jl`."
   ]
  },
  {
   "cell_type": "code",
   "execution_count": null,
   "metadata": {},
   "outputs": [],
   "source": [
    "# using Pkg; Pkg.add(\"Exercism\")\n",
    "# using Exercism\n",
    "# Exercism.create_submission(\"pythagorean-triplet\")"
   ]
  }
 ],
 "metadata": {
  "kernelspec": {
   "display_name": "Julia 1.3.0",
   "language": "julia",
   "name": "julia-1.3"
  },
  "language_info": {
   "file_extension": ".jl",
   "mimetype": "application/julia",
   "name": "julia",
   "version": "1.3.0"
  }
 },
 "nbformat": 4,
 "nbformat_minor": 2
}
