{
    "cells": [
        {
            "cell_type": "markdown",
            "metadata": {},
            "source": ["# Pythagorean Triplet\n", "\n", "A Pythagorean triplet is a set of three natural numbers, {a, b, c}, for\n", "which,\n", "\n", "```text\n", "a^2 + b^2 = c^2\n", "```\n", "\n", "and such that,\n", "\n", "```text\n", "a < b < c\n", "```\n", "\n", "## Example\n", "```text\n", "3^2 + 4^2 = 9 + 16 = 25 = 5^2.\n", "```\n", "\n", "Given an input integer N, find all Pythagorean triplets for which `a + b + c = N`.\n", "\n", "For example, with N = 1000, there is exactly one Pythagorean triplet for which `a + b + c = 1000`: `{200, 375, 425}`.\n", "\n", "## Source\n", "\n", "Problem 9 at Project Euler [http://projecteuler.net/problem=9](http://projecteuler.net/problem=9)\n", "\n", "## Version compatibility\n", "This exercise has been tested on Julia versions >=1.0.\n", "\n", "## Submitting Incomplete Solutions\n", "It's possible to submit an incomplete solution so you can see how others have completed the exercise."]
        },
        {
            "cell_type": "markdown",
            "metadata": {},
            "source": ["## Your solution"]
        },
        {
            "cell_type": "code",
            "execution_count": null,
            "metadata": {},
            "outputs": [],
            "source": ["# submit\n", ""]
        },
        {
            "cell_type": "markdown",
            "metadata": {},
            "source": ["## Test suite"]
        },
        {
            "cell_type": "code",
            "execution_count": null,
            "metadata": {},
            "outputs": [],
            "source": ["using Test\n", "# include(\"pythagorean-triplet.jl\")\n", "\n", "@testset \"triplets whose sum is 12\" begin\n", "    @test pythagorean_triplets(12) == [(3, 4, 5)]\n", "end\n", "\n", "@testset \"triplets whose sum is 108\" begin\n", "    @test pythagorean_triplets(108) == [(27, 36, 45)]\n", "end\n", "\n", "@testset \"triplets whose sum is 1000\" begin\n", "    @test pythagorean_triplets(1000) == [(200, 375, 425)]\n", "end\n", "\n", "@testset \"triplets whose sum is 1001\" begin\n", "    @test pythagorean_triplets(1001) == []\n", "end\n", "\n", "@testset \"returns all matching triplets\" begin\n", "    @test pythagorean_triplets(90) == [(9, 40, 41), (15, 36, 39)]\n", "end\n", "\n", "@testset \"several matching triplets\" begin\n", "    @test pythagorean_triplets(840) == [\n", "        (40, 399, 401),\n", "        (56, 390, 394),\n", "        (105, 360, 375),\n", "        (120, 350, 370),\n", "        (140, 336, 364),\n", "        (168, 315, 357),\n", "        (210, 280, 350),\n", "        (240, 252, 348),\n", "    ]\n", "end\n", "\n", "@testset \"triplets for large number\" begin\n", "    @test pythagorean_triplets(30000) == [\n", "        (1200, 14375, 14425),\n", "        (1875, 14000, 14125),\n", "        (5000, 12000, 13000),\n", "        (6000, 11250, 12750),\n", "        (7500, 10000, 12500),\n", "    ]\n", "end"]
        },
        {
            "cell_type": "markdown",
            "metadata": {},
            "source": [
                "## Prepare submission\n",
                "To submit your exercise, you need to save your solution in a file called `pythagorean-triplet.jl` before using the CLI.\n",
                "You can either create it manually or use the following functions, which will automatically write every notebook cell that starts with `# submit` to the file `pythagorean-triplet.jl`.\n"
            ]
        },
        {
            "cell_type": "code",
            "execution_count": null,
            "metadata": {},
            "outputs": [],
            "source": [
                "# using Pkg; Pkg.add(\"Exercism\")\n",
                "# using Exercism\n",
                "# Exercism.create_submission(\"pythagorean-triplet\")"
            ]
        }
    ],
    "metadata": {
        "kernelspec": {
            "display_name": "Julia 1.3.0",
            "language": "julia",
            "name": "julia-1.3"
        },
        "language_info": {
            "file_extension": ".jl",
            "mimetype": "application/julia",
            "name": "julia",
            "version": "1.3.0"
        }
    },
    "nbformat": 4,
    "nbformat_minor": 2
}
