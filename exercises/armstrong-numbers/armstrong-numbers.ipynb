{
 "cells": [
  {
   "cell_type": "markdown",
   "metadata": {},
   "source": [
    "# Armstrong Numbers\n",
    "\n",
    "An [Armstrong number](https://en.wikipedia.org/wiki/Narcissistic_number) is a number that is the sum of its own digits each raised to the power of the number of digits.\n",
    "\n",
    "For example:\n",
    "\n",
    "- 9 is an Armstrong number, because `9 = 9^1 = 9`\n",
    "- 10 is *not* an Armstrong number, because `10 != 1^2 + 0^2 = 1`\n",
    "- 153 is an Armstrong number, because: `153 = 1^3 + 5^3 + 3^3 = 1 + 125 + 27 = 153`\n",
    "- 154 is *not* an Armstrong number, because: `154 != 1^3 + 5^3 + 4^3 = 1 + 125 + 64 = 190`\n",
    "\n",
    "Write some code to determine whether a number is an Armstrong number.\n",
    "## Source\n",
    "\n",
    "Wikipedia [https://en.wikipedia.org/wiki/Narcissistic_number](https://en.wikipedia.org/wiki/Narcissistic_number)\n",
    "\n",
    "\n",
    "## Version compatibility\n",
    "This exercise has been tested on Julia versions >=1.0.\n",
    "\n",
    "## Submitting Incomplete Solutions\n",
    "It's possible to submit an incomplete solution so you can see how others have completed the exercise.\n"
   ]
  },
  {
   "cell_type": "code",
   "execution_count": null,
   "metadata": {},
   "outputs": [],
   "source": [
    "# submit\n"
   ]
  },
  {
   "cell_type": "code",
   "execution_count": null,
   "metadata": {},
   "outputs": [],
   "source": [
    "# canonical data version: 1.0.0\n",
    "\n",
    "using Test\n",
    "\n",
    "# include(\"armstrong-numbers.jl\")\n",
    "\n",
    "@testset \"armstrong numbers\" begin\n",
    "    @test  isarmstrong(5)\n",
    "    @test !isarmstrong(10)\n",
    "    @test !isarmstrong(100)\n",
    "    @test  isarmstrong(9474)\n",
    "    @test !isarmstrong(9475)\n",
    "    @test  isarmstrong(9926315)\n",
    "    @test !isarmstrong(9926314)\n",
    "end\n"
   ]
  },
  {
   "cell_type": "code",
   "execution_count": null,
   "metadata": {},
   "outputs": [],
   "source": [
    "# To submit your exercise, you need to save your solution in a file called armstrong-numbers.jl before using the CLI.\n",
    "# You can either create it manually or use the following functions, which will automatically\n",
    "# save every notebook cell starting with `# submit` in that file.\n",
    "\n",
    "# Pkg.add(\"Exercism\")\n",
    "# using Exercism\n",
    "# Exercism.create_submission(\"armstrong-numbers\")\n"
   ]
  }
 ],
 "metadata": {},
 "nbformat": 4,
 "nbformat_minor": 2
}
