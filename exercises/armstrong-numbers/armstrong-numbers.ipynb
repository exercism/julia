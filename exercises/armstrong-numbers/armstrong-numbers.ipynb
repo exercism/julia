{
    "cells": [
        {
            "cell_type": "markdown",
            "metadata": {},
            "source": ["# Armstrong Numbers\n", "\n", "An [Armstrong number](https://en.wikipedia.org/wiki/Narcissistic_number) is a number that is the sum of its own digits each raised to the power of the number of digits.\n", "\n", "For example:\n", "\n", "- 9 is an Armstrong number, because `9 = 9^1 = 9`\n", "- 10 is *not* an Armstrong number, because `10 != 1^2 + 0^2 = 1`\n", "- 153 is an Armstrong number, because: `153 = 1^3 + 5^3 + 3^3 = 1 + 125 + 27 = 153`\n", "- 154 is *not* an Armstrong number, because: `154 != 1^3 + 5^3 + 4^3 = 1 + 125 + 64 = 190`\n", "\n", "Write some code to determine whether a number is an Armstrong number.\n", "\n", "## Source\n", "\n", "Wikipedia [https://en.wikipedia.org/wiki/Narcissistic_number](https://en.wikipedia.org/wiki/Narcissistic_number)\n", "\n", "## Version compatibility\n", "This exercise has been tested on Julia versions >=1.0.\n", "\n", "## Submitting Incomplete Solutions\n", "It's possible to submit an incomplete solution so you can see how others have completed the exercise."]
        },
        {
            "cell_type": "markdown",
            "metadata": {},
            "source": ["## Your solution"]
        },
        {
            "cell_type": "code",
            "execution_count": null,
            "metadata": {},
            "outputs": [],
            "source": ["# submit"]
        },
        {
            "cell_type": "markdown",
            "metadata": {},
            "source": ["## Test suite"]
        },
        {
            "cell_type": "code",
            "execution_count": null,
            "metadata": {},
            "outputs": [],
            "source": ["using Test\n", "\n", "# include(\"armstrong-numbers.jl\")\n", "\n", "@testset \"armstrong numbers\" begin\n", "    @test  isarmstrong(0)\n", "    @test  isarmstrong(5)\n", "    @test !isarmstrong(10)\n", "    @test !isarmstrong(100)\n", "    @test  isarmstrong(153)\n", "    @test  isarmstrong(9474)\n", "    @test !isarmstrong(9475)\n", "    @test  isarmstrong(9926315)\n", "    @test !isarmstrong(9926314)\n", "end"]
        },
        {
            "cell_type": "markdown",
            "metadata": {},
            "source": [
                "## Prepare submission\n",
                "To submit your exercise, you need to save your solution in a file called `armstrong-numbers.jl` before using the CLI.\n",
                "You can either create it manually or use the following functions, which will automatically write every notebook cell that starts with `# submit` to the file `armstrong-numbers.jl`.\n"
            ]
        },
        {
            "cell_type": "code",
            "execution_count": null,
            "metadata": {},
            "outputs": [],
            "source": [
                "# using Pkg; Pkg.add(\"Exercism\")\n",
                "# using Exercism\n",
                "# Exercism.create_submission(\"armstrong-numbers\")"
            ]
        }
    ],
    "metadata": {
        "kernelspec": {
            "display_name": "Julia 1.3.0",
            "language": "julia",
            "name": "julia-1.3"
        },
        "language_info": {
            "file_extension": ".jl",
            "mimetype": "application/julia",
            "name": "julia",
            "version": "1.3.0"
        }
    },
    "nbformat": 4,
    "nbformat_minor": 2
}
