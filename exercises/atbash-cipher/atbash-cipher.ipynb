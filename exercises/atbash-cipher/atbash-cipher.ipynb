{
    "cells": [
        {
            "cell_type": "markdown",
            "metadata": {},
            "source": ["# Atbash Cipher\n", "\n", "Create an implementation of the atbash cipher, an ancient encryption system created in the Middle East.\n", "\n", "The Atbash cipher is a simple substitution cipher that relies on\n", "transposing all the letters in the alphabet such that the resulting\n", "alphabet is backwards. The first letter is replaced with the last\n", "letter, the second with the second-last, and so on.\n", "\n", "An Atbash cipher for the Latin alphabet would be as follows:\n", "\n", "```text\n", "Plain:  abcdefghijklmnopqrstuvwxyz\n", "Cipher: zyxwvutsrqponmlkjihgfedcba\n", "```\n", "\n", "It is a very weak cipher because it only has one possible key, and it is\n", "a simple monoalphabetic substitution cipher. However, this may not have\n", "been an issue in the cipher's time.\n", "\n", "Ciphertext is written out in groups of fixed length, the traditional group size\n", "being 5 letters, and punctuation is excluded. This is to make it harder to guess\n", "things based on word boundaries.\n", "\n", "## Examples\n", "\n", "- Encoding `test` gives `gvhg`\n", "- Decoding `gvhg` gives `test`\n", "- Decoding `gsvjf rxpyi ldmul cqfnk hlevi gsvoz abwlt` gives `thequickbrownfoxjumpsoverthelazydog`\n", "\n", "## Source\n", "\n", "Wikipedia [http://en.wikipedia.org/wiki/Atbash](http://en.wikipedia.org/wiki/Atbash)\n", "\n", "## Version compatibility\n", "This exercise has been tested on Julia versions >=1.0.\n", "\n", "## Submitting Incomplete Solutions\n", "It's possible to submit an incomplete solution so you can see how others have completed the exercise."]
        },
        {
            "cell_type": "markdown",
            "metadata": {},
            "source": ["## Your solution"]
        },
        {
            "cell_type": "code",
            "execution_count": null,
            "metadata": {},
            "outputs": [],
            "source": ["# submit\n", "function encode(input)\n", "\n", "end\n", "\n", "function decode(input)\n", "\n", "end\n", ""]
        },
        {
            "cell_type": "markdown",
            "metadata": {},
            "source": ["## Test suite"]
        },
        {
            "cell_type": "code",
            "execution_count": null,
            "metadata": {},
            "outputs": [],
            "source": ["using Test\n", "\n", "# include(\"atbash-cipher.jl\")\n", "\n", "@testset \"encoding from English to atbash\" begin\n", "    @test encode(\"yes\") == \"bvh\"\n", "    @test encode(\"no\") == \"ml\"\n", "    @test encode(\"OMG\") == \"lnt\"\n", "    @test encode(\"O M G\") == \"lnt\"\n", "    @test encode(\"mindblowingly\") == \"nrmwy oldrm tob\"\n", "    @test encode(\"Testing,1 2 3, testing.\") == \"gvhgr mt123 gvhgr mt\"\n", "    @test encode(\"Truth is fiction.\") == \"gifgs rhurx grlm\"\n", "    @test encode(\"The quick brown fox jumps over the lazy dog.\") == \"gsvjf rxpyi ldmul cqfnk hlevi gsvoz abwlt\"\n", "end\n", "\n", "@testset \"decoding from atbash to English\" begin\n", "    @test decode(\"vcvix rhn\") == \"exercism\"\n", "    @test decode(\"zmlyh gzxov rhlug vmzhg vkkrm thglm v\") == \"anobstacleisoftenasteppingstone\"\n", "    @test decode(\"gvhgr mt123 gvhgr mt\") == \"testing123testing\"\n", "    @test decode(\"gsvjf rxpyi ldmul cqfnk hlevi gsvoz abwlt\") == \"thequickbrownfoxjumpsoverthelazydog\"\n", "    @test decode(\"vc vix    r hn\") == \"exercism\"\n", "    @test decode(\"zmlyhgzxovrhlugvmzhgvkkrmthglmv\") == \"anobstacleisoftenasteppingstone\"\n", "end\n", ""]
        },
        {
            "cell_type": "markdown",
            "metadata": {},
            "source": [
                "## Prepare submission\n",
                "To submit your exercise, you need to save your solution in a file called `atbash-cipher.jl` before using the CLI.\n",
                "You can either create it manually or use the following functions, which will automatically write every notebook cell that starts with `# submit` to the file `atbash-cipher.jl`.\n"
            ]
        },
        {
            "cell_type": "code",
            "execution_count": null,
            "metadata": {},
            "outputs": [],
            "source": [
                "# using Pkg; Pkg.add(\"Exercism\")\n",
                "# using Exercism\n",
                "# Exercism.create_submission(\"atbash-cipher\")"
            ]
        }
    ],
    "metadata": {
        "kernelspec": {
            "display_name": "Julia 1.3.0",
            "language": "julia",
            "name": "julia-1.3"
        },
        "language_info": {
            "file_extension": ".jl",
            "mimetype": "application/julia",
            "name": "julia",
            "version": "1.3.0"
        }
    },
    "nbformat": 4,
    "nbformat_minor": 2
}
