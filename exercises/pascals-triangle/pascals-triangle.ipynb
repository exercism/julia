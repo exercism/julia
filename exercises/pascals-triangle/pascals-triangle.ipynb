{
 "cells": [
  {
   "cell_type": "markdown",
   "metadata": {},
   "source": [
    "# Pascal's Triangle\n",
    "\n",
    "Compute Pascal's triangle up to a given number of rows.\n",
    "\n",
    "In Pascal's Triangle each number is computed by adding the numbers to\n",
    "the right and left of the current position in the previous row.\n",
    "\n",
    "```text\n",
    "    1\n",
    "   1 1\n",
    "  1 2 1\n",
    " 1 3 3 1\n",
    "1 4 6 4 1\n",
    "# ... etc\n",
    "```\n",
    "## Source\n",
    "\n",
    "Pascal's Triangle at Wolfram Math World [http://mathworld.wolfram.com/PascalsTriangle.html](http://mathworld.wolfram.com/PascalsTriangle.html)\n",
    "\n",
    "\n",
    "## Version compatibility\n",
    "This exercise has been tested on Julia versions >=1.0.\n",
    "\n",
    "## Submitting Incomplete Solutions\n",
    "It's possible to submit an incomplete solution so you can see how others have completed the exercise.\n"
   ]
  },
  {
   "cell_type": "code",
   "execution_count": null,
   "metadata": {},
   "outputs": [],
   "source": [
    "# submit\n",
    "function triangle(n::Int)\n",
    "\n",
    "end\n"
   ]
  },
  {
   "cell_type": "code",
   "execution_count": null,
   "metadata": {},
   "outputs": [],
   "source": [
    "using Test\n",
    "\n",
    "# include(\"pascals-triangle.jl\")\n",
    "\n",
    "rows = [[1], [1, 1], [1, 2, 1], [1, 3, 3, 1]]\n",
    "\n",
    "@testset \"$i row(s)\" for i in 1:4\n",
    "    @test triangle(i) == rows[1:i]\n",
    "end\n",
    "\n",
    "@testset \"special cases\" begin\n",
    "    @test_throws DomainError triangle(-1)\n",
    "    @test isempty(triangle(0))\n",
    "end\n"
   ]
  },
  {
   "cell_type": "code",
   "execution_count": null,
   "metadata": {},
   "outputs": [],
   "source": [
    "# To submit your exercise, you need to save your solution in a file called pascals-triangle.jl before using the CLI.\n",
    "# You can either create it manually or use the following functions, which will automatically\n",
    "# save every notebook cell starting with `# submit` in that file.\n",
    "\n",
    "# Pkg.add(\"Exercism\")\n",
    "# using Exercism\n",
    "# Exercism.create_submission(\"pascals-triangle\")\n"
   ]
  }
 ],
 "metadata": {},
 "nbformat": 4,
 "nbformat_minor": 2
}
