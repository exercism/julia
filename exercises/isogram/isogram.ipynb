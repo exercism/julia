{
    "cells": [
        {
            "cell_type": "markdown",
            "metadata": {},
            "source": ["# Isogram\n", "\n", "Determine if a word or phrase is an isogram.\n", "\n", "An isogram (also known as a \"nonpattern word\") is a word or phrase without a repeating letter, however spaces and hyphens are allowed to appear multiple times.\n", "\n", "Examples of isograms:\n", "\n", "- lumberjacks\n", "- background\n", "- downstream\n", "- six-year-old\n", "\n", "The word *isograms*, however, is not an isogram, because the s repeats.\n", "\n", "Isograms are case insensitive.\n", "\n", "## Source\n", "\n", "Wikipedia [https://en.wikipedia.org/wiki/Isogram](https://en.wikipedia.org/wiki/Isogram)\n", "\n", "## Version compatibility\n", "This exercise has been tested on Julia versions >=1.0.\n", "\n", "## Submitting Incomplete Solutions\n", "It's possible to submit an incomplete solution so you can see how others have completed the exercise."]
        },
        {
            "cell_type": "markdown",
            "metadata": {},
            "source": ["## Your solution"]
        },
        {
            "cell_type": "code",
            "execution_count": null,
            "metadata": {},
            "outputs": [],
            "source": ["# submit\n", "function isisogram(s)\n", "\n", "end"]
        },
        {
            "cell_type": "markdown",
            "metadata": {},
            "source": ["## Test suite"]
        },
        {
            "cell_type": "code",
            "execution_count": null,
            "metadata": {},
            "outputs": [],
            "source": ["using Test\n", "\n", "# include(\"isogram.jl\")\n", "\n", "@testset \"empty string\" begin\n", "    @test isisogram(\"\")\n", "end\n", "\n", "@testset \"isogram with only lower case characters\" begin\n", "    @test isisogram(\"isogram\")\n", "end\n", "\n", "@testset \"word with one duplicated character\" begin\n", "    @test !isisogram(\"eleven\")\n", "end\n", "\n", "@testset \"longest reported english isogram\" begin\n", "    @test isisogram(\"subdermatoglyphic\")\n", "end\n", "\n", "@testset \"word with duplicated character in mixed case\" begin\n", "    @test !isisogram(\"Alphabet\")\n", "end\n", "\n", "@testset \"hypothetical isogrammic word with hyphen\" begin\n", "    @test isisogram(\"thumbscrew-japingly\")\n", "end\n", "\n", "@testset \"isogram with duplicated non letter character\" begin\n", "    @test isisogram(\"Hjelmqvist-Gryb-Zock-Pfund-Wax\")\n", "end\n", "\n", "@testset \"made-up name that is an isogram\" begin\n", "    @test isisogram(\"Emily Jung Schwartzkopf\")\n", "end\n", "\n", "@testset \"word with one duplicated character from the end of the alphabet\" begin\n", "    @test !isisogram(\"zzyzx\")\n", "end\n", "\n", "@testset \"word with duplicated character in mixed case, lowercase first\" begin\n", "    @test !isisogram(\"alphAbet\")\n", "end\n", "\n", "@testset \"hypothetical word with duplicated character following hyphen\" begin\n", "    @test !isisogram(\"thumbscrew-jappingly\")\n", "end\n", "\n", "@testset \"isogram with duplicated hyphen\" begin\n", "    @test isisogram(\"six-year-old\")\n", "end\n", "\n", "@testset \"duplicated character in the middle\" begin\n", "    @test !isisogram(\"accentor\")\n", "end\n", "\n", "@testset \"same first and last characters\" begin\n", "    @test !isisogram(\"angola\")\n", "end"]
        },
        {
            "cell_type": "markdown",
            "metadata": {},
            "source": [
                "## Prepare submission\n",
                "To submit your exercise, you need to save your solution in a file called `isogram.jl` before using the CLI.\n",
                "You can either create it manually or use the following functions, which will automatically write every notebook cell that starts with `# submit` to the file `isogram.jl`.\n"
            ]
        },
        {
            "cell_type": "code",
            "execution_count": null,
            "metadata": {},
            "outputs": [],
            "source": [
                "# using Pkg; Pkg.add(\"Exercism\")\n",
                "# using Exercism\n",
                "# Exercism.create_submission(\"isogram\")"
            ]
        }
    ],
    "metadata": {
        "kernelspec": {
            "display_name": "Julia 1.3.0",
            "language": "julia",
            "name": "julia-1.3"
        },
        "language_info": {
            "file_extension": ".jl",
            "mimetype": "application/julia",
            "name": "julia",
            "version": "1.3.0"
        }
    },
    "nbformat": 4,
    "nbformat_minor": 2
}
