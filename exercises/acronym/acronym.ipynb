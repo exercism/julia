{
    "cells": [
        {
            "cell_type": "markdown",
            "metadata": {},
            "source": ["# Acronym\n", "\n", "Convert a phrase to its acronym.\n", "\n", "Techies love their TLA (Three Letter Acronyms)!\n", "\n", "Help generate some jargon by writing a program that converts a long name\n", "like Portable Network Graphics to its acronym (PNG).\n", "\n", "## Source\n", "\n", "Julien Vanier [https://github.com/monkbroc](https://github.com/monkbroc)\n", "\n", "## Version compatibility\n", "This exercise has been tested on Julia versions >=1.0.\n", "\n", "## Submitting Incomplete Solutions\n", "It's possible to submit an incomplete solution so you can see how others have completed the exercise."]
        },
        {
            "cell_type": "markdown",
            "metadata": {},
            "source": ["## Your solution"]
        },
        {
            "cell_type": "code",
            "execution_count": null,
            "metadata": {},
            "outputs": [],
            "source": ["# submit\n", "function acronym(phrase)\n", "\n", "end"]
        },
        {
            "cell_type": "markdown",
            "metadata": {},
            "source": ["## Test suite"]
        },
        {
            "cell_type": "code",
            "execution_count": null,
            "metadata": {},
            "outputs": [],
            "source": ["using Test\n", "\n", "# include(\"acronym.jl\")\n", "\n", "\n", "@testset \"basic\" begin\n", "    @test acronym(\"Portable Network Graphics\") == \"PNG\"\n", "end\n", "\n", "@testset \"lowercase words\" begin\n", "    @test acronym(\"Ruby on Rails\") == \"ROR\"\n", "end\n", "\n", "@testset \"punctuation\" begin\n", "    @test acronym(\"First In, First Out\") == \"FIFO\"\n", "end\n", "\n", "@testset \"all caps word\" begin\n", "    @test acronym(\"GNU Image Manipulation Program\") == \"GIMP\"\n", "end\n", "\n", "@testset \"punctuation without whitespace\" begin\n", "    @test acronym(\"Complementary metal-oxide semiconductor\") == \"CMOS\"\n", "end\n", "\n", "@testset \"very long abbreviation\" begin\n", "    @test acronym(\"Rolling On The Floor Laughing So Hard That My Dogs Came Over And Licked Me\") == \"ROTFLSHTMDCOALM\"\n", "end\n", "\n", "@testset \"consecutive delimiters\" begin\n", "    @test acronym(\"Something - I made up from thin air\") == \"SIMUFTA\"\n", "end\n", "\n", "@testset \"apostrophes\" begin\n", "    @test acronym(\"Halley's Comet\") == \"HC\"\n", "end\n", "\n", "@testset \"underscore emphasis\" begin\n", "    @test acronym(\"The Road _Not_ Taken\") == \"TRNT\"\n", "end"]
        },
        {
            "cell_type": "markdown",
            "metadata": {},
            "source": [
                "## Prepare submission\n",
                "To submit your exercise, you need to save your solution in a file called `acronym.jl` before using the CLI.\n",
                "You can either create it manually or use the following functions, which will automatically write every notebook cell that starts with `# submit` to the file `acronym.jl`.\n"
            ]
        },
        {
            "cell_type": "code",
            "execution_count": null,
            "metadata": {},
            "outputs": [],
            "source": [
                "# using Pkg; Pkg.add(\"Exercism\")\n",
                "# using Exercism\n",
                "# Exercism.create_submission(\"acronym\")"
            ]
        }
    ],
    "metadata": {
        "kernelspec": {
            "display_name": "Julia 1.3.0",
            "language": "julia",
            "name": "julia-1.3"
        },
        "language_info": {
            "file_extension": ".jl",
            "mimetype": "application/julia",
            "name": "julia",
            "version": "1.3.0"
        }
    },
    "nbformat": 4,
    "nbformat_minor": 2
}
