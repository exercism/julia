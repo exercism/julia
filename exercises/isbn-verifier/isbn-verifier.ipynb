{
    "cells": [
        {
            "cell_type": "markdown",
            "metadata": {},
            "source": ["# ISBN Verifier\n", "\n", "The [ISBN-10 verification process](https://en.wikipedia.org/wiki/International_Standard_Book_Number) is used to validate book identification\n", "numbers. These normally contain dashes and look like: `3-598-21508-8`\n", "\n", "## ISBN\n", "\n", "The ISBN-10 format is 9 digits (0 to 9) plus one check character (either a digit or an X only). In the case the check character is an X, this represents the value '10'. These may be communicated with or without hyphens, and can be checked for their validity by the following formula:\n", "\n", "```\n", "(x1 * 10 + x2 * 9 + x3 * 8 + x4 * 7 + x5 * 6 + x6 * 5 + x7 * 4 + x8 * 3 + x9 * 2 + x10 * 1) mod 11 == 0\n", "```\n", "\n", "If the result is 0, then it is a valid ISBN-10, otherwise it is invalid.\n", "\n", "## Example\n", "\n", "Let's take the ISBN-10 `3-598-21508-8`. We plug it in to the formula, and get:\n", "```\n", "(3 * 10 + 5 * 9 + 9 * 8 + 8 * 7 + 2 * 6 + 1 * 5 + 5 * 4 + 0 * 3 + 8 * 2 + 8 * 1) mod 11 == 0\n", "```\n", "\n", "Since the result is 0, this proves that our ISBN is valid.\n", "\n", "## Task\n", "\n", "Given a string the program should check if the provided string is a valid ISBN-10.\n", "Putting this into place requires some thinking about preprocessing/parsing of the string prior to calculating the check digit for the ISBN.\n", "\n", "The program should be able to verify ISBN-10 both with and without separating dashes.\n", "\n", "\n", "## Caveats\n", "\n", "Converting from strings to numbers can be tricky in certain languages.\n", "Now, it's even trickier since the check digit of an ISBN-10 may be 'X' (representing '10'). For instance `3-598-21507-X` is a valid ISBN-10.\n", "\n", "## Bonus tasks\n", "\n", "* Implement `show(io::IO, isbn::ISBN)` to print the ISBN in the standard format with dashes.\n", "\n", "* Generate a valid ISBN-13 from the input ISBN-10 (and maybe verify it again with a derived verifier).\n", "\n", "* Generate valid ISBN, maybe even from a given starting ISBN.\n", "\n", "## Source\n", "\n", "Converting a string into a number and some basic processing utilizing a relatable real world example. [https://en.wikipedia.org/wiki/International_Standard_Book_Number#ISBN-10_check_digit_calculation](https://en.wikipedia.org/wiki/International_Standard_Book_Number#ISBN-10_check_digit_calculation)\n", "\n", "## Version compatibility\n", "This exercise has been tested on Julia versions >=1.0.\n", "\n", "## Submitting Incomplete Solutions\n", "It's possible to submit an incomplete solution so you can see how others have completed the exercise."]
        },
        {
            "cell_type": "markdown",
            "metadata": {},
            "source": ["## Your solution"]
        },
        {
            "cell_type": "code",
            "execution_count": null,
            "metadata": {},
            "outputs": [],
            "source": ["# submit"]
        },
        {
            "cell_type": "markdown",
            "metadata": {},
            "source": ["## Test suite"]
        },
        {
            "cell_type": "code",
            "execution_count": null,
            "metadata": {},
            "outputs": [],
            "source": ["using Test\n", "\n", "# include(\"isbn-verifier.jl\")\n", "\n", "@test ISBN <: AbstractString\n", "\n", "@testset \"valid ISBN numbers\" begin\n", "    # ISBN number\n", "    @test isvalid(ISBN, \"3-598-21508-8\")\n", "    # ISBN number with a check digit of 10\n", "    @test isvalid(ISBN, \"3-598-21507-X\")\n", "    # ISBN without separating dashes\n", "    @test isvalid(ISBN, \"3598215088\")\n", "    # ISBN without separating dashes and X as check digit\n", "    @test isvalid(ISBN, \"359821507X\")\n", "end\n", "\n", "@testset \"invalid ISBN numbers\" begin\n", "    # invalid ISBN check digit\n", "    @test !isvalid(ISBN, \"3-598-21508-9\")\n", "    # check digit is a character other than X\n", "    @test !isvalid(ISBN, \"3-598-21507-A\")\n", "    # invalid character in ISBN\n", "    @test !isvalid(ISBN, \"3-598-2K507-0\")\n", "    # X is only valid as a check isdigit\n", "    @test !isvalid(ISBN, \"3-598-2X507-9\")\n", "    # ISBN without check digit and dashes\n", "    @test !isvalid(ISBN, \"359821507\")\n", "    # too long ISBN and no dashes\n", "    @test !isvalid(ISBN, \"3598215078X\")\n", "    # ISBN without check digit\n", "    @test !isvalid(ISBN, \"3-598-21507\")\n", "    # too long ISBN\n", "    @test !isvalid(ISBN, \"3-598-21507-XX\")\n", "    # check digit of X should not be used for 0\n", "    @test !isvalid(ISBN, \"3-598-21515-X\")\n", "    # empty ISBN\n", "    @test !isvalid(ISBN, \"\")\n", "    # invalid character in ISBN\n", "    @test !isvalid(ISBN, \"3-598-P1581-X\")\n", "    # too short ISBN\n", "    @test !isvalid(ISBN, \"00\")\n", "    # input is 9 characters\n", "    @test !isvalid(ISBN, \"134456729\")\n", "    # invalid characters are not ignored\n", "    @test !isvalid(ISBN, \"3132P34035\")\n", "    # input is too long but contains a valid ISBN\n", "    @test !isvalid(ISBN, \"98245726788\")\n", "end\n", "\n", "@testset \"constructing valid ISBN numbers\" begin\n", "    # ISBN number\n", "    @test string(isbn\"3-598-21508-8\") == \"3598215088\"\n", "    # ISBN number with a check digit of 10\n", "    @test string(isbn\"3-598-21507-X\") == \"359821507X\"\n", "    # ISBN without separating dashes\n", "    @test string(isbn\"3598215088\") == \"3598215088\"\n", "    # ISBN without separating dashes and X as check digit\n", "    @test string(isbn\"359821507X\") == \"359821507X\"\n", "end\n", "\n", "@testset \"constructing invalid ISBN numbers\" begin\n", "    # invalid ISBN check digit\n", "    @test_throws DomainError ISBN(\"3-598-21508-9\")\n", "    # check digit is a character other than X\n", "    @test_throws DomainError ISBN(\"3-598-21507-A\")\n", "    # invalid character in ISBN\n", "    @test_throws DomainError ISBN(\"3-598-2K507-0\")\n", "    # X is only valid as a check isdigit\n", "    @test_throws DomainError ISBN(\"3-598-2X507-9\")\n", "    # ISBN without check digit and dashes\n", "    @test_throws DomainError ISBN(\"359821507\")\n", "    # too long ISBN and no dashes\n", "    @test_throws DomainError ISBN(\"3598215078X\")\n", "    # ISBN without check digit\n", "    @test_throws DomainError ISBN(\"3-598-21507\")\n", "    # too long ISBN\n", "    @test_throws DomainError ISBN(\"3-598-21507-XX\")\n", "    # check digit of X should not be used for 0\n", "    @test_throws DomainError ISBN(\"3-598-21515-X\")\n", "    # empty ISBN\n", "    @test_throws DomainError ISBN(\"\")\n", "    # invalid character in ISBN\n", "    @test_throws DomainError ISBN(\"3-598-P1581-X\")\n", "    # too short ISBN\n", "    @test_throws DomainError ISBN(\"00\")\n", "    # input is 9 characters\n", "    @test_throws DomainError ISBN(\"134456729\")\n", "    # invalid characters are not ignored\n", "    @test_throws DomainError ISBN(\"3132P34035\")\n", "    # input is too long but contains a valid ISBN\n", "    @test_throws DomainError ISBN(\"98245726788\")\n", "end"]
        },
        {
            "cell_type": "markdown",
            "metadata": {},
            "source": [
                "## Prepare submission\n",
                "To submit your exercise, you need to save your solution in a file called `isbn-verifier.jl` before using the CLI.\n",
                "You can either create it manually or use the following functions, which will automatically write every notebook cell that starts with `# submit` to the file `isbn-verifier.jl`.\n"
            ]
        },
        {
            "cell_type": "code",
            "execution_count": null,
            "metadata": {},
            "outputs": [],
            "source": [
                "# using Pkg; Pkg.add(\"Exercism\")\n",
                "# using Exercism\n",
                "# Exercism.create_submission(\"isbn-verifier\")"
            ]
        }
    ],
    "metadata": {
        "kernelspec": {
            "display_name": "Julia 1.3.0",
            "language": "julia",
            "name": "julia-1.3"
        },
        "language_info": {
            "file_extension": ".jl",
            "mimetype": "application/julia",
            "name": "julia",
            "version": "1.3.0"
        }
    },
    "nbformat": 4,
    "nbformat_minor": 2
}
