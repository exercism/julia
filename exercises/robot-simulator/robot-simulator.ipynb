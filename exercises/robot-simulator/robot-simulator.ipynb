{
    "cells": [
        {
            "cell_type": "markdown",
            "metadata": {},
            "source": ["# Robot Simulator\n", "\n", "Write a robot simulator.\n", "\n", "A robot factory's test facility needs a program to verify robot movements.\n", "\n", "The robots have three possible movements:\n", "\n", "- turn right\n", "- turn left\n", "- advance\n", "\n", "Robots are placed on a hypothetical infinite grid, facing a particular\n", "direction (north, east, south, or west) at a set of {x,y} coordinates,\n", "e.g., {3,8}, with coordinates increasing to the north and east.\n", "\n", "The robot then receives a number of instructions, at which point the\n", "testing facility verifies the robot's new position, and in which\n", "direction it is pointing.\n", "\n", "- The letter-string \"RAALAL\" means:\n", "  - Turn right\n", "  - Advance twice\n", "  - Turn left\n", "  - Advance once\n", "  - Turn left yet again\n", "- Say a robot starts at {7, 3} facing north. Then running this stream\n", "  of instructions should leave it at {9, 4} facing west.\n", "\n", "## Source\n", "\n", "Inspired by an interview question at a famous company.\n", "\n", "## Version compatibility\n", "This exercise has been tested on Julia versions >=1.0.\n", "\n", "## Submitting Incomplete Solutions\n", "It's possible to submit an incomplete solution so you can see how others have completed the exercise."]
        },
        {
            "cell_type": "markdown",
            "metadata": {},
            "source": ["## Your solution"]
        },
        {
            "cell_type": "code",
            "execution_count": null,
            "metadata": {},
            "outputs": [],
            "source": ["# submit"]
        },
        {
            "cell_type": "markdown",
            "metadata": {},
            "source": ["## Test suite"]
        },
        {
            "cell_type": "code",
            "execution_count": null,
            "metadata": {},
            "outputs": [],
            "source": ["using Test\n", "\n", "# include(\"robot-simulator.jl\")\n", "\n", "@testset \"constructor\" begin\n", "    r = Robot((0, 0), NORTH)\n", "    @test position(r) == Point(0, 0)\n", "    @test heading(r) == NORTH\n", "\n", "    r = Robot((-1, -1), SOUTH)\n", "    @test position(r) == Point{Int}(-1, -1)\n", "    @test heading(r) == SOUTH\n", "end\n", "\n", "@testset \"mutating functions should return robot\" begin\n", "    r = Robot((0, 0), NORTH)\n", "    @test r == turn_right!(r)\n", "    @test r == turn_left!(r)\n", "    @test r == advance!(r)\n", "    @test r == move!(r, \"A\")\n", "end\n", "\n", "@testset \"rotate +π/2\" begin\n", "    r = Robot((0, 0), NORTH)\n", "    turn_right!(r)\n", "    @test position(r) == Point(0, 0)\n", "    @test heading(r) == EAST\n", "    turn_right!(r)\n", "    @test heading(r) == SOUTH\n", "    turn_right!(r)\n", "    @test heading(r) == WEST\n", "    turn_right!(r)\n", "    @test heading(r) == NORTH\n", "end\n", "\n", "@testset \"rotate -π/2\" begin\n", "    r = Robot((0, 0), NORTH)\n", "    turn_left!(r)\n", "    @test position(r) == Point(0, 0)\n", "    @test heading(r) == WEST\n", "    turn_left!(r)\n", "    @test heading(r) == SOUTH\n", "    turn_left!(r)\n", "    @test heading(r) == EAST\n", "    turn_left!(r)\n", "    @test heading(r) == NORTH\n", "end\n", "\n", "@testset \"advance\" begin\n", "    r = Robot((0, 0), NORTH)\n", "    advance!(r)\n", "    @test heading(r) == NORTH\n", "    @test position(r) == Point(0, 1)\n", "\n", "    @test position(advance!(Robot((0, 0), SOUTH))) == Point(0, -1)\n", "    @test position(advance!(Robot((0, 0), EAST))) == Point(1, 0)\n", "    @test position(advance!(Robot((0, 0), WEST))) == Point(-1, 0)\n", "end\n", "\n", "@testset \"instructions\" begin\n", "    @testset \"moving east and north from README\" begin\n", "        r = Robot((7, 3), NORTH)\n", "        move!(r, \"RAALAL\")\n", "        @test position(r) == Point(9, 4)\n", "        @test heading(r) == WEST\n", "    end\n", "\n", "    @testset \"move west and north\" begin\n", "        r = Robot((0, 0), NORTH)\n", "        move!(r, \"LAAARALA\")\n", "        @test position(r) == Point(-4, 1)\n", "        @test heading(r) == WEST\n", "    end\n", "\n", "    @testset \"move west and south\" begin\n", "        r = Robot((2, -7), EAST)\n", "        move!(r, \"RRAAAAALA\")\n", "        @test position(r) == Point(-3, -8)\n", "        @test heading(r) == SOUTH\n", "    end\n", "\n", "    @testset \"move east and north\" begin\n", "        r = Robot((8, 4), SOUTH)\n", "        move!(r, \"LAAARRRALLLL\")\n", "        @test position(r) == Point(11, 5)\n", "        @test heading(r) == NORTH\n", "    end\n", "end"]
        },
        {
            "cell_type": "markdown",
            "metadata": {},
            "source": [
                "## Prepare submission\n",
                "To submit your exercise, you need to save your solution in a file called `robot-simulator.jl` before using the CLI.\n",
                "You can either create it manually or use the following functions, which will automatically write every notebook cell that starts with `# submit` to the file `robot-simulator.jl`.\n"
            ]
        },
        {
            "cell_type": "code",
            "execution_count": null,
            "metadata": {},
            "outputs": [],
            "source": [
                "# using Pkg; Pkg.add(\"Exercism\")\n",
                "# using Exercism\n",
                "# Exercism.create_submission(\"robot-simulator\")"
            ]
        }
    ],
    "metadata": {
        "kernelspec": {
            "display_name": "Julia 1.3.0",
            "language": "julia",
            "name": "julia-1.3"
        },
        "language_info": {
            "file_extension": ".jl",
            "mimetype": "application/julia",
            "name": "julia",
            "version": "1.3.0"
        }
    },
    "nbformat": 4,
    "nbformat_minor": 2
}
