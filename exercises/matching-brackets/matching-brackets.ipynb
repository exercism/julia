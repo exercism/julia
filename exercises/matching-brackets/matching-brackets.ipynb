{
    "cells": [
        {
            "cell_type": "markdown",
            "metadata": {},
            "source": ["# Matching Brackets\n", "\n", "Given a string containing brackets `[]`, braces `{}`, parentheses `()`,\n", "or any combination thereof, verify that any and all pairs are matched\n", "and nested correctly.\n", "\n", "## Source\n", "\n", "Ginna Baker\n", "\n", "## Version compatibility\n", "This exercise has been tested on Julia versions >=1.0.\n", "\n", "## Submitting Incomplete Solutions\n", "It's possible to submit an incomplete solution so you can see how others have completed the exercise."]
        },
        {
            "cell_type": "markdown",
            "metadata": {},
            "source": ["## Your solution"]
        },
        {
            "cell_type": "code",
            "execution_count": null,
            "metadata": {},
            "outputs": [],
            "source": ["# submit\n", ""]
        },
        {
            "cell_type": "markdown",
            "metadata": {},
            "source": ["## Test suite"]
        },
        {
            "cell_type": "code",
            "execution_count": null,
            "metadata": {},
            "outputs": [],
            "source": ["using Test\n", "\n", "# include(\"matching-brackets.jl\")\n", "\n", "@testset \"Determine if a pair of brackets are correctly matched\" begin\n", "    @test  matching_brackets(\"[]\") \n", "    @test !matching_brackets(\"[[\")\n", "    @test !matching_brackets(\"}{\")\n", "    @test !matching_brackets(\"{]\")\n", "    @test  matching_brackets(\"{ }\")\n", "end\n", "\n", "@testset \"Determine if 3 or more brackets are correctly matched\" begin\n", "    @test !matching_brackets(\"[]]\")\n", "    @test !matching_brackets(\"{}[\")\n", "    @test  matching_brackets(\"{}[]\")\n", "    @test !matching_brackets(\"{[])\")\n", "    @test  matching_brackets(\"{[]}\")\n", "    @test  matching_brackets(\"([{}({}[])])\")\n", "    @test !matching_brackets(\"{[)][]}\")\n", "    @test !matching_brackets(\"([{])\")\n", "    @test !matching_brackets(\"[({]})\")\n", "end\n", "    \n", "@testset \"Determine if expressions with non-brackets are correctly matched\" begin\n", "    @test  matching_brackets(\"\")\n", "    @test  matching_brackets(\"(((185 + 223.85) * 15) - 543)/2\")\n", "    @test  matching_brackets(\"\\\\left(\\\\begin{array}{cc} \\\\frac{1}{3} & x\\\\\\\\ \\\\mathrm{e}^{x} &... x^2 \\\\end{array}\\\\right)\")\n", "end"]
        },
        {
            "cell_type": "markdown",
            "metadata": {},
            "source": [
                "## Prepare submission\n",
                "To submit your exercise, you need to save your solution in a file called `matching-brackets.jl` before using the CLI.\n",
                "You can either create it manually or use the following functions, which will automatically write every notebook cell that starts with `# submit` to the file `matching-brackets.jl`.\n"
            ]
        },
        {
            "cell_type": "code",
            "execution_count": null,
            "metadata": {},
            "outputs": [],
            "source": [
                "# using Pkg; Pkg.add(\"Exercism\")\n",
                "# using Exercism\n",
                "# Exercism.create_submission(\"matching-brackets\")"
            ]
        }
    ],
    "metadata": {
        "kernelspec": {
            "display_name": "Julia 1.3.0",
            "language": "julia",
            "name": "julia-1.3"
        },
        "language_info": {
            "file_extension": ".jl",
            "mimetype": "application/julia",
            "name": "julia",
            "version": "1.3.0"
        }
    },
    "nbformat": 4,
    "nbformat_minor": 2
}
