{
 "cells": [
  {
   "cell_type": "markdown",
   "metadata": {},
   "source": [
    "# Matching Brackets "
   ]
  },
  {
   "cell_type": "markdown",
   "metadata": {},
   "source": [
    "Given a string containing brackets [], braces {}, parentheses (), or any combination thereof, verify that any and all pairs are matched and nested correctly."
   ]
  },
  {
   "cell_type": "code",
   "execution_count": null,
   "metadata": {},
   "outputs": [],
   "source": [
    "println(\"Please input an expression containing only brackets: \")\n",
    "a = split(readline(), \"\")\n",
    "b,c = [\"(\", \"[\", \"{\"], [\")\", \"]\", \"}\"]\n",
    "a = filter(i -> (i in b || i in c), a)\n",
    "println(\"Your input: \", a, \"\\n\")\n",
    "stack = Array{String}(undef, 0)\n",
    "global d, count, valid = Dict([(\"(\", \")\"),(\")\", \"(\"), (\"[\", \"]\"), (\"]\", \"[\"), (\"{\", \"}\"), (\"}\", \"{\")]), 0,1\n",
    "if length(a) % 2 != 0\n",
    "\tvalid = 0\n",
    "else\n",
    "\tfor i in a\n",
    "\t\tif i in b\n",
    "\t\t\tpush!(stack, i)\n",
    "\t\t\tglobal count += 1\n",
    "\t\telseif count == 0 # & downward: assumes i not in b\n",
    "\t\t\tvalid = 0\n",
    "\t\t\tbreak\n",
    "\t\telseif stack[end] != d[i] #& downward: assumes count != 0\n",
    "\t\t\tvalid = 0\n",
    "\t\t\tbreak\n",
    "\t\telse # assumes stack[end] == d[i]\n",
    "\t\t\tpop!(stack)\n",
    "\t\t\tcount -= 1\n",
    "\t\tend\n",
    "\tend\n",
    "end\n",
    "if valid == 0 || count != 0\n",
    "\tprintln(\"Not balanced!\")\n",
    "else\n",
    "\tprintln(\"Balanced!\")\n",
    "end"
   ]
  }
 ],
 "metadata": {
  "kernelspec": {
   "display_name": "Julia 1.3.0",
   "language": "julia",
   "name": "julia-1.3"
  },
  "language_info": {
   "file_extension": ".jl",
   "mimetype": "application/julia",
   "name": "julia",
   "version": "1.3.0"
  }
 },
 "nbformat": 4,
 "nbformat_minor": 2
}
