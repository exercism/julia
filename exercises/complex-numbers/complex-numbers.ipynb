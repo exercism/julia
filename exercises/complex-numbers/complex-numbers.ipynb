{
    "cells": [
        {
            "cell_type": "markdown",
            "metadata": {},
            "source": ["# Complex Numbers\n", "\n", "A complex number is a number in the form `a + b * i` where `a` and `b` are real and `i` satisfies `i^2 = -1`.\n", "\n", "`a` is called the real part and `b` is called the imaginary part of `z`.\n", "The conjugate of the number `a + b * i` is the number `a - b * i`.\n", "The absolute value of a complex number `z = a + b * i` is a real number `|z| = sqrt(a^2 + b^2)`. The square of the absolute value `|z|^2` is the result of multiplication of `z` by its complex conjugate.\n", "\n", "The sum/difference of two complex numbers involves adding/subtracting their real and imaginary parts separately:\n", "`(a + i * b) + (c + i * d) = (a + c) + (b + d) * i`,\n", "`(a + i * b) - (c + i * d) = (a - c) + (b - d) * i`.\n", "\n", "Multiplication result is by definition\n", "`(a + i * b) * (c + i * d) = (a * c - b * d) + (b * c + a * d) * i`.\n", "\n", "The reciprocal of a non-zero complex number is\n", "`1 / (a + i * b) = a/(a^2 + b^2) - b/(a^2 + b^2) * i`.\n", "\n", "Dividing a complex number `a + i * b` by another `c + i * d` gives:\n", "`(a + i * b) / (c + i * d) = (a * c + b * d)/(c^2 + d^2) + (b * c - a * d)/(c^2 + d^2) * i`.\n", "\n", "Raising e to a complex exponent can be expressed as `e^(a + i * b) = e^a * e^(i * b)`, the last term of which is given by Euler's formula `e^(i * b) = cos(b) + i * sin(b)`.\n", "\n", "Implement the following operations:\n", " - addition, subtraction, multiplication and division of two complex numbers,\n", " - conjugate, absolute value, exponent of a given complex number.\n", "\n", "\n", "Assume the programming language you are using does not have an implementation of complex numbers.\n", "\n", "The Julia Base implementation of complex numbers can be found here: https://github.com/JuliaLang/julia/blob/master/base/complex.jl.\n", "\n", "---\n", "\n", "You can work on the bonus exercises by changing `@test_skip` to `@test`.\n", "\n", "## Bonus A\n", "Implement the exponential function on complex numbers `exp(::ComplexNumber)`.\n", "\n", "## Bonus B\n", "Implement `jm` analogous to `im` so that `1 + 1jm == ComplexNumber(1, 1)`.\n", "\n", "## Source\n", "\n", "Wikipedia [https://en.wikipedia.org/wiki/Complex_number](https://en.wikipedia.org/wiki/Complex_number)\n", "\n", "## Version compatibility\n", "This exercise has been tested on Julia versions >=1.0.\n", "\n", "## Submitting Incomplete Solutions\n", "It's possible to submit an incomplete solution so you can see how others have completed the exercise."]
        },
        {
            "cell_type": "markdown",
            "metadata": {},
            "source": ["## Your solution"]
        },
        {
            "cell_type": "code",
            "execution_count": null,
            "metadata": {},
            "outputs": [],
            "source": ["# submit"]
        },
        {
            "cell_type": "markdown",
            "metadata": {},
            "source": ["## Test suite"]
        },
        {
            "cell_type": "code",
            "execution_count": null,
            "metadata": {},
            "outputs": [],
            "source": ["using Test\n", "\n", "# include(\"complex-numbers.jl\")\n", "\n", "@test ComplexNumber <: Number\n", "\n", "@test ComplexNumber(0, 1)^2 == ComplexNumber(-1, 0)\n", "\n", "@testset \"Arithmetic\" begin\n", "    @testset \"Addition\" begin\n", "        @test ComplexNumber(1, 0) + ComplexNumber(2, 0) == ComplexNumber(3, 0)\n", "        @test ComplexNumber(0, 1) + ComplexNumber(0, 2) == ComplexNumber(0, 3)\n", "        @test ComplexNumber(1, 2) + ComplexNumber(3, 4) == ComplexNumber(4, 6)\n", "    end\n", "\n", "    @testset \"Subtraction\" begin\n", "        @test ComplexNumber(1, 0) - ComplexNumber(2, 0) == ComplexNumber(-1, 0)\n", "        @test ComplexNumber(0, 1) - ComplexNumber(0, 2) == ComplexNumber(0, -1)\n", "        @test ComplexNumber(1, 2) - ComplexNumber(3, 4) == ComplexNumber(-2, -2)\n", "    end\n", "\n", "    @testset \"Multiplication\" begin\n", "        @test ComplexNumber(1, 0) * ComplexNumber(2, 0) == ComplexNumber(2, 0)\n", "        @test ComplexNumber(0, 1) * ComplexNumber(0, 2) == ComplexNumber(-2, 0)\n", "        @test ComplexNumber(1, 2) * ComplexNumber(3, 4) == ComplexNumber(-5, 10)\n", "    end\n", "\n", "    @testset \"Division\" begin\n", "        @test ComplexNumber(1, 0) / ComplexNumber(2, 0) == ComplexNumber(0.5, 0)\n", "        @test ComplexNumber(0, 1) / ComplexNumber(0, 2) == ComplexNumber(0.5, 0)\n", "        @test ComplexNumber(1, 2) / ComplexNumber(3, 4) ≈ ComplexNumber(0.44, 0.08)\n", "    end\n", "end\n", "\n", "@testset \"Absolute value\" begin\n", "    @test abs(ComplexNumber(5, 0))  == 5\n", "    @test abs(ComplexNumber(-5, 0)) == 5\n", "    @test abs(ComplexNumber(0, 5))  == 5\n", "    @test abs(ComplexNumber(0, -5)) == 5\n", "    @test abs(ComplexNumber(3, 4))  == 5\n", "end\n", "\n", "@testset \"Complex conjugate\" begin\n", "    @test conj(ComplexNumber(5, 0))  == ComplexNumber(5, 0)\n", "    @test conj(ComplexNumber(0, 5))  == ComplexNumber(0, -5)\n", "    @test conj(ComplexNumber(1, 1))  == ComplexNumber(1, -1)\n", "end\n", "\n", "@testset \"Real part\" begin\n", "    @test real(ComplexNumber(1, 0)) == 1\n", "    @test real(ComplexNumber(0, 1)) == 0\n", "    @test real(ComplexNumber(1, 2)) == 1\n", "end\n", "\n", "@testset \"Imaginary part\" begin\n", "    @test imag(ComplexNumber(1, 0)) == 0\n", "    @test imag(ComplexNumber(0, 1)) == 1\n", "    @test imag(ComplexNumber(1, 2)) == 2\n", "end\n", "\n", "# Bonus A\n", "@testset \"Complex exponential\" begin\n", "    @test_skip exp(ComplexNumber(0, π)) ≈ ComplexNumber(-1, 0)\n", "    @test_skip exp(ComplexNumber(0, 0)) == ComplexNumber(1, 0)\n", "    @test_skip exp(ComplexNumber(1, 0)) ≈ ComplexNumber(ℯ, 0)\n", "    @test_skip exp(ComplexNumber(log(2), π)) ≈ ComplexNumber(-2, 0)\n", "end\n", "\n", "# Bonus B\n", "@testset \"Syntax sugar jm\" begin\n", "    @test_skip ComplexNumber(0, 1)  == jm\n", "    @test_skip ComplexNumber(1, 0)  == 1 + 0jm\n", "    @test_skip ComplexNumber(1, 1)  == 1 + 1jm\n", "    @test_skip ComplexNumber(-1, 0) == jm^2\n", "end"]
        },
        {
            "cell_type": "markdown",
            "metadata": {},
            "source": [
                "## Prepare submission\n",
                "To submit your exercise, you need to save your solution in a file called `complex-numbers.jl` before using the CLI.\n",
                "You can either create it manually or use the following functions, which will automatically write every notebook cell that starts with `# submit` to the file `complex-numbers.jl`.\n"
            ]
        },
        {
            "cell_type": "code",
            "execution_count": null,
            "metadata": {},
            "outputs": [],
            "source": [
                "# using Pkg; Pkg.add(\"Exercism\")\n",
                "# using Exercism\n",
                "# Exercism.create_submission(\"complex-numbers\")"
            ]
        }
    ],
    "metadata": {
        "kernelspec": {
            "display_name": "Julia 1.3.0",
            "language": "julia",
            "name": "julia-1.3"
        },
        "language_info": {
            "file_extension": ".jl",
            "mimetype": "application/julia",
            "name": "julia",
            "version": "1.3.0"
        }
    },
    "nbformat": 4,
    "nbformat_minor": 2
}
