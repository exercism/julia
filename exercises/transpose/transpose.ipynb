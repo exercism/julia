{
    "cells": [
        {
            "cell_type": "markdown",
            "metadata": {},
            "source": ["# Transpose\n", "\n", "Given an input text output it transposed.\n", "\n", "Roughly explained, the transpose of a matrix:\n", "\n", "```text\n", "ABC\n", "DEF\n", "```\n", "\n", "is given by:\n", "\n", "```text\n", "AD\n", "BE\n", "CF\n", "```\n", "\n", "Rows become columns and columns become rows. See <https://en.wikipedia.org/wiki/Transpose>.\n", "\n", "If the input has rows of different lengths, this is to be solved as follows:\n", "\n", "- Pad to the left with spaces.\n", "- Don't pad to the right.\n", "\n", "Therefore, transposing this matrix:\n", "\n", "```text\n", "ABC\n", "DE\n", "```\n", "\n", "results in:\n", "\n", "```text\n", "AD\n", "BE\n", "C\n", "```\n", "\n", "And transposing:\n", "\n", "```text\n", "AB\n", "DEF\n", "```\n", "\n", "results in:\n", "\n", "```text\n", "AD\n", "BE\n", " F\n", "```\n", "\n", "In general, all characters from the input should also be present in the transposed output.\n", "That means that if a column in the input text contains only spaces on its bottom-most row(s),\n", "the corresponding output row should contain the spaces in its right-most column(s).\n", "\n", "## Source\n", "\n", "Reddit r/dailyprogrammer challenge #270 [Easy]. [https://www.reddit.com/r/dailyprogrammer/comments/4msu2x/challenge_270_easy_transpose_the_input_text](https://www.reddit.com/r/dailyprogrammer/comments/4msu2x/challenge_270_easy_transpose_the_input_text)\n", "\n", "## Version compatibility\n", "This exercise has been tested on Julia versions >=1.0.\n", "\n", "## Submitting Incomplete Solutions\n", "It's possible to submit an incomplete solution so you can see how others have completed the exercise."]
        },
        {
            "cell_type": "markdown",
            "metadata": {},
            "source": ["## Your solution"]
        },
        {
            "cell_type": "code",
            "execution_count": null,
            "metadata": {},
            "outputs": [],
            "source": ["# submit\n", "function transpose_strings(input)\n", "\n", "end"]
        },
        {
            "cell_type": "markdown",
            "metadata": {},
            "source": ["## Test suite"]
        },
        {
            "cell_type": "code",
            "execution_count": null,
            "metadata": {},
            "outputs": [],
            "source": ["using Test\n", "\n", "# include(\"transpose.jl\")\n", "\n", "@testset \"empty string\" begin\n", "    @test transpose_strings([]) == []\n", "end\n", "\n", "@testset \"two characters in a row\" begin\n", "    @test transpose_strings([\"A1\"]) == [\"A\", \"1\"]\n", "end\n", "\n", "@testset \"two characters in a column\" begin\n", "    @test transpose_strings([\"A\", \"1\"]) == [\"A1\"]\n", "end\n", "\n", "@testset \"simple\" begin\n", "    @test transpose_strings([\"ABC\", \"123\"]) == [\n", "          \"A1\",\n", "          \"B2\",\n", "          \"C3\"\n", "        ]\n", "end\n", "\n", "@testset \"single line\" begin\n", "    @test transpose_strings([\"Single line.\"]) == [\n", "          \"S\",\n", "          \"i\",\n", "          \"n\",\n", "          \"g\",\n", "          \"l\",\n", "          \"e\",\n", "          \" \",\n", "          \"l\",\n", "          \"i\",\n", "          \"n\",\n", "          \"e\",\n", "          \".\"\n", "        ]\n", "end\n", "\n", "@testset \"first line longer than second line\" begin\n", "    @test transpose_strings([\n", "          \"The fourth line.\",\n", "          \"The fifth line.\"\n", "        ]) == [\n", "          \"TT\",\n", "          \"hh\",\n", "          \"ee\",\n", "          \"  \",\n", "          \"ff\",\n", "          \"oi\",\n", "          \"uf\",\n", "          \"rt\",\n", "          \"th\",\n", "          \"h \",\n", "          \" l\",\n", "          \"li\",\n", "          \"in\",\n", "          \"ne\",\n", "          \"e.\",\n", "          \".\"\n", "        ]\n", "end\n", "\n", "@testset \"second line longer than first line\" begin\n", "    @test transpose_strings([\n", "          \"The first line.\",\n", "          \"The second line.\"\n", "        ]) == [\n", "          \"TT\",\n", "          \"hh\",\n", "          \"ee\",\n", "          \"  \",\n", "          \"fs\",\n", "          \"ie\",\n", "          \"rc\",\n", "          \"so\",\n", "          \"tn\",\n", "          \" d\",\n", "          \"l \",\n", "          \"il\",\n", "          \"ni\",\n", "          \"en\",\n", "          \".e\",\n", "          \" .\"\n", "        ]\n", "end\n", "\n", "@testset \"square\" begin\n", "    @test transpose_strings([\n", "          \"HEART\",\n", "          \"EMBER\",\n", "          \"ABUSE\",\n", "          \"RESIN\",\n", "          \"TREND\"\n", "        ]) == [\n", "          \"HEART\",\n", "          \"EMBER\",\n", "          \"ABUSE\",\n", "          \"RESIN\",\n", "          \"TREND\"\n", "        ]\n", "end\n", "\n", "@testset \"rectangle\" begin\n", "    @test transpose_strings([\n", "          \"FRACTURE\",\n", "          \"OUTLINED\",\n", "          \"BLOOMING\",\n", "          \"SEPTETTE\"\n", "        ]) == [\n", "          \"FOBS\",\n", "          \"RULE\",\n", "          \"ATOP\",\n", "          \"CLOT\",\n", "          \"TIME\",\n", "          \"UNIT\",\n", "          \"RENT\",\n", "          \"EDGE\"\n", "        ]\n", "end\n", "\n", "@testset \"triangle\" begin\n", "    @test transpose_strings([\n", "          \"T\",\n", "          \"EE\",\n", "          \"AAA\",\n", "          \"SSSS\",\n", "          \"EEEEE\",\n", "          \"RRRRRR\"\n", "        ]) == [\n", "          \"TEASER\",\n", "          \" EASER\",\n", "          \"  ASER\",\n", "          \"   SER\",\n", "          \"    ER\",\n", "          \"     R\"\n", "        ]\n", "end\n", "\n", "@testset \"many lines\" begin\n", "    @test transpose_strings([\n", "          \"Chor. Two households, both alike in dignity,\",\n", "          \"In fair Verona, where we lay our scene,\",\n", "          \"From ancient grudge break to new mutiny,\",\n", "          \"Where civil blood makes civil hands unclean.\",\n", "          \"From forth the fatal loins of these two foes\",\n", "          \"A pair of star-cross'd lovers take their life;\",\n", "          \"Whose misadventur'd piteous overthrows\",\n", "          \"Doth with their death bury their parents' strife.\",\n", "          \"The fearful passage of their death-mark'd love,\",\n", "          \"And the continuance of their parents' rage,\",\n", "          \"Which, but their children's end, naught could remove,\",\n", "          \"Is now the two hours' traffic of our stage;\",\n", "          \"The which if you with patient ears attend,\",\n", "          \"What here shall miss, our toil shall strive to mend.\"\n", "        ]) == [\n", "          \"CIFWFAWDTAWITW\",\n", "          \"hnrhr hohnhshh\",\n", "          \"o oeopotedi ea\",\n", "          \"rfmrmash  cn t\",\n", "          \".a e ie fthow \",\n", "          \" ia fr weh,whh\",\n", "          \"Trnco miae  ie\",\n", "          \"w ciroitr btcr\",\n", "          \"oVivtfshfcuhhe\",\n", "          \" eeih a uote  \",\n", "          \"hrnl sdtln  is\",\n", "          \"oot ttvh tttfh\",\n", "          \"un bhaeepihw a\",\n", "          \"saglernianeoyl\",\n", "          \"e,ro -trsui ol\",\n", "          \"h uofcu sarhu \",\n", "          \"owddarrdan o m\",\n", "          \"lhg to'egccuwi\",\n", "          \"deemasdaeehris\",\n", "          \"sr als t  ists\",\n", "          \",ebk 'phool'h,\",\n", "          \"  reldi ffd   \",\n", "          \"bweso tb  rtpo\",\n", "          \"oea ileutterau\",\n", "          \"t kcnoorhhnatr\",\n", "          \"hl isvuyee'fi \",\n", "          \" atv es iisfet\",\n", "          \"ayoior trr ino\",\n", "          \"l  lfsoh  ecti\",\n", "          \"ion   vedpn  l\",\n", "          \"kuehtteieadoe \",\n", "          \"erwaharrar,fas\",\n", "          \"   nekt te  rh\",\n", "          \"ismdsehphnnosa\",\n", "          \"ncuse ra-tau l\",\n", "          \" et  tormsural\",\n", "          \"dniuthwea'g t \",\n", "          \"iennwesnr hsts\",\n", "          \"g,ycoi tkrttet\",\n", "          \"n ,l r s'a anr\",\n", "          \"i  ef  'dgcgdi\",\n", "          \"t  aol   eoe,v\",\n", "          \"y  nei sl,u; e\",\n", "          \",  .sf to l   \",\n", "          \"     e rv d  t\",\n", "          \"     ; ie    o\",\n", "          \"       f, r   \",\n", "          \"       e  e  m\",\n", "          \"       .  m  e\",\n", "          \"          o  n\",\n", "          \"          v  d\",\n", "          \"          e  .\",\n", "          \"          ,\"]\n", "end"]
        },
        {
            "cell_type": "markdown",
            "metadata": {},
            "source": [
                "## Prepare submission\n",
                "To submit your exercise, you need to save your solution in a file called `transpose.jl` before using the CLI.\n",
                "You can either create it manually or use the following functions, which will automatically write every notebook cell that starts with `# submit` to the file `transpose.jl`.\n"
            ]
        },
        {
            "cell_type": "code",
            "execution_count": null,
            "metadata": {},
            "outputs": [],
            "source": [
                "# using Pkg; Pkg.add(\"Exercism\")\n",
                "# using Exercism\n",
                "# Exercism.create_submission(\"transpose\")"
            ]
        }
    ],
    "metadata": {
        "kernelspec": {
            "display_name": "Julia 1.3.0",
            "language": "julia",
            "name": "julia-1.3"
        },
        "language_info": {
            "file_extension": ".jl",
            "mimetype": "application/julia",
            "name": "julia",
            "version": "1.3.0"
        }
    },
    "nbformat": 4,
    "nbformat_minor": 2
}
