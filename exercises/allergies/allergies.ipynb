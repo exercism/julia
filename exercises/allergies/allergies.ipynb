{
    "cells": [
        {
            "cell_type": "markdown",
            "metadata": {},
            "source": ["# Allergies\n", "\n", "Given a person's allergy score, determine whether or not they're allergic to a given item, and their full list of allergies.\n", "\n", "An allergy test produces a single numeric score which contains the\n", "information about all the allergies the person has (that they were\n", "tested for).\n", "\n", "The list of items (and their value) that were tested are:\n", "\n", "* eggs (1)\n", "* peanuts (2)\n", "* shellfish (4)\n", "* strawberries (8)\n", "* tomatoes (16)\n", "* chocolate (32)\n", "* pollen (64)\n", "* cats (128)\n", "\n", "So if Tom is allergic to peanuts and chocolate, he gets a score of 34.\n", "\n", "Now, given just that score of 34, your program should be able to say:\n", "\n", "- Whether Tom is allergic to any one of those allergens listed above.\n", "- All the allergens Tom is allergic to.\n", "\n", "Note: a given score may include allergens **not** listed above (i.e.\n", "allergens that score 256, 512, 1024, etc.).  Your program should\n", "ignore those components of the score.  For example, if the allergy\n", "score is 257, your program should only report the eggs (1) allergy.\n", "\n", "## Source\n", "\n", "Jumpstart Lab Warm-up [http://jumpstartlab.com](http://jumpstartlab.com)\n", "\n", "## Version compatibility\n", "This exercise has been tested on Julia versions >=1.0.\n", "\n", "## Submitting Incomplete Solutions\n", "It's possible to submit an incomplete solution so you can see how others have completed the exercise."]
        },
        {
            "cell_type": "markdown",
            "metadata": {},
            "source": ["## Your solution"]
        },
        {
            "cell_type": "code",
            "execution_count": null,
            "metadata": {},
            "outputs": [],
            "source": ["# submit\n", "function allergic_to(score, allergen)\n", "\n", "end\n", "\n", "function allergy_list(score)\n", "    \n", "end"]
        },
        {
            "cell_type": "markdown",
            "metadata": {},
            "source": ["## Test suite"]
        },
        {
            "cell_type": "code",
            "execution_count": null,
            "metadata": {},
            "outputs": [],
            "source": ["using Test\n", "\n", "# include(\"allergies.jl\")\n", "\n", "#canonical data\n", "@testset \"testing for single allergies\" begin\n", "    @testset \"testing for eggs allergy\" begin\n", "        @test !allergic_to(0, \"eggs\")\n", "        @test  allergic_to(1, \"eggs\")\n", "        @test  allergic_to(3, \"eggs\")\n", "        @test !allergic_to(2, \"eggs\")\n", "        @test  allergic_to(255, \"eggs\")\n", "    end\n", "\n", "    @testset \"testing for peanuts allergy\" begin\n", "        @test !allergic_to(0, \"peanuts\")\n", "        @test  allergic_to(2, \"peanuts\")\n", "        @test  allergic_to(7, \"peanuts\")\n", "        @test !allergic_to(5, \"peanuts\")\n", "        @test  allergic_to(255, \"peanuts\")\n", "    end\n", "\n", "    @testset \"testing for shellfish allergy\" begin\n", "        @test !allergic_to(0, \"shellfish\")\n", "        @test  allergic_to(4, \"shellfish\")\n", "        @test  allergic_to(14, \"shellfish\")\n", "        @test !allergic_to(10, \"shellfish\")\n", "        @test  allergic_to(255, \"shellfish\")\n", "    end\n", "\n", "    @testset \"testing for strawberries allergy\" begin\n", "        @test !allergic_to(0, \"strawberries\")\n", "        @test  allergic_to(8, \"strawberries\")\n", "        @test  allergic_to(28, \"strawberries\")\n", "        @test !allergic_to(20, \"strawberries\")\n", "        @test  allergic_to(255, \"strawberries\")\n", "    end\n", "\n", "    @testset \"testing for tomatoes allergy\" begin\n", "        @test !allergic_to(0, \"tomatoes\")\n", "        @test  allergic_to(16, \"tomatoes\")\n", "        @test  allergic_to(56, \"tomatoes\")\n", "        @test !allergic_to(40, \"tomatoes\")\n", "        @test  allergic_to(255, \"tomatoes\")\n", "    end\n", "\n", "    @testset \"testing for chocolate allergy\" begin\n", "        @test !allergic_to(0, \"chocolate\")\n", "        @test  allergic_to(32, \"chocolate\")\n", "        @test  allergic_to(112, \"chocolate\")\n", "        @test !allergic_to(80, \"chocolate\")\n", "        @test  allergic_to(255, \"chocolate\")\n", "    end\n", "\n", "    @testset \"testing for pollen allergy\" begin\n", "        @test !allergic_to(0, \"pollen\")\n", "        @test  allergic_to(64, \"pollen\")\n", "        @test  allergic_to(224, \"pollen\")\n", "        @test !allergic_to(160, \"pollen\")\n", "        @test  allergic_to(255, \"pollen\")\n", "    end\n", "\n", "    @testset \"testing for cats allergy\" begin\n", "        @test !allergic_to(0, \"cats\")\n", "        @test  allergic_to(128, \"cats\")\n", "        @test  allergic_to(192, \"cats\")\n", "        @test !allergic_to(64, \"cats\")\n", "        @test  allergic_to(255, \"cats\")\n", "    end\n", "end\n", "\n", "@testset \"testing the allergy_list\" begin\n", "        @testset \"testing single allergies\" begin\n", "        @test allergy_list(0) == Set([])\n", "        @test allergy_list(1) == Set([\"eggs\"])\n", "        @test allergy_list(2) == Set([\"peanuts\"])\n", "        @test allergy_list(8) == Set([\"strawberries\"])\n", "    end\n", "\n", "    @testset \"testing for more allergies\" begin\n", "        @test allergy_list(3) == Set([\"eggs\", \"peanuts\"])\n", "        @test allergy_list(5) == Set([\"eggs\", \"shellfish\"])\n", "        @test allergy_list(248) == Set([\"strawberries\", \"tomatoes\", \"chocolate\", \"pollen\", \"cats\"])\n", "        @test allergy_list(255) == Set([\"eggs\", \"peanuts\", \"shellfish\", \"strawberries\", \"tomatoes\", \"chocolate\", \"pollen\", \"cats\"])\n", "        @test allergy_list(509) == Set([\"eggs\", \"shellfish\", \"strawberries\", \"tomatoes\", \"chocolate\", \"pollen\", \"cats\"])\n", "    end\n", "end"]
        },
        {
            "cell_type": "markdown",
            "metadata": {},
            "source": [
                "## Prepare submission\n",
                "To submit your exercise, you need to save your solution in a file called `allergies.jl` before using the CLI.\n",
                "You can either create it manually or use the following functions, which will automatically write every notebook cell that starts with `# submit` to the file `allergies.jl`.\n"
            ]
        },
        {
            "cell_type": "code",
            "execution_count": null,
            "metadata": {},
            "outputs": [],
            "source": [
                "# using Pkg; Pkg.add(\"Exercism\")\n",
                "# using Exercism\n",
                "# Exercism.create_submission(\"allergies\")"
            ]
        }
    ],
    "metadata": {
        "kernelspec": {
            "display_name": "Julia 1.3.0",
            "language": "julia",
            "name": "julia-1.3"
        },
        "language_info": {
            "file_extension": ".jl",
            "mimetype": "application/julia",
            "name": "julia",
            "version": "1.3.0"
        }
    },
    "nbformat": 4,
    "nbformat_minor": 2
}
