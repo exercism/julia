{
    "cells": [
        {
            "cell_type": "markdown",
            "metadata": {},
            "source": ["# Custom Set\n", "\n", "Create a custom set type.\n", "\n", "Sometimes it is necessary to define a custom data structure of some\n", "type, like a set. In this exercise you will define your own set. How it\n", "works internally doesn't matter, as long as it behaves like a set of\n", "unique elements.\n", "\n", "The tests require a constructor that takes an array. The internals of your custom set implementation can use other data structures but you may have to implement an outer constructor that takes exactly one array for the tests to pass.\n", "\n", "Certain methods have a unicode operator equivalent. E.g. `intersect(CustomSet([1, 2, 3, 4]), CustomSet([]))` is equivalent to `CustomSet([1, 2, 3, 4]) ∩ CustomSet([])`.\n", "\n", "## Version compatibility\n", "This exercise has been tested on Julia versions >=1.0.\n", "\n", "## Submitting Incomplete Solutions\n", "It's possible to submit an incomplete solution so you can see how others have completed the exercise."]
        },
        {
            "cell_type": "markdown",
            "metadata": {},
            "source": ["## Your solution"]
        },
        {
            "cell_type": "code",
            "execution_count": null,
            "metadata": {},
            "outputs": [],
            "source": ["# submit"]
        },
        {
            "cell_type": "markdown",
            "metadata": {},
            "source": ["## Test suite"]
        },
        {
            "cell_type": "code",
            "execution_count": null,
            "metadata": {},
            "outputs": [],
            "source": ["using Test\n", "\n", "# include(\"custom-set.jl\")\n", "\n", "# canonical data\n", "@testset \"empty\" begin\n", "    @test  isempty(CustomSet([]))\n", "    @test !isempty(CustomSet([1]))\n", "end\n", "\n", "@testset \"in (contains)\" begin\n", "    @test !(1 in CustomSet([]))\n", "    @test   1 in CustomSet([1, 2, 3])\n", "    @test !(4 in CustomSet([1, 2, 3]))\n", "end\n", "\n", "@testset \"subset\" begin\n", "    @test  issubset(CustomSet([]), CustomSet([]))\n", "    @test  issubset(CustomSet([]), CustomSet([1]))\n", "    @test !issubset(CustomSet([1]), CustomSet([]))\n", "    @test  issubset(CustomSet([1, 2, 3]), CustomSet([1, 2, 3]))\n", "    @test  issubset(CustomSet([1, 2, 3]), CustomSet([4, 1, 2, 3]))\n", "    @test !issubset(CustomSet([1, 2, 3]), CustomSet([4, 1, 3]))\n", "end\n", "\n", "@testset \"disjoint\" begin\n", "    @test  disjoint(CustomSet([]), CustomSet([]))\n", "    @test  disjoint(CustomSet([]), CustomSet([1]))\n", "    @test  disjoint(CustomSet([1]), CustomSet([]))\n", "    @test !disjoint(CustomSet([1, 2]), CustomSet([2, 3]))\n", "    @test  disjoint(CustomSet([1, 2]), CustomSet([3, 4]))\n", "end\n", "\n", "@testset \"equal\" begin\n", "    @test CustomSet([]) == CustomSet([])\n", "    @test CustomSet([]) != CustomSet([1, 2, 3])\n", "    @test CustomSet([1, 2, 3]) != CustomSet([])\n", "    @test CustomSet([1, 2]) == CustomSet([2, 1])\n", "    @test CustomSet([1, 2, 3]) != CustomSet([1, 2, 4])\n", "    @test CustomSet([1, 2, 3]) != CustomSet([1, 2, 3, 4])\n", "end\n", "\n", "@testset \"add\" begin\n", "    @test begin\n", "        custom_set = CustomSet([])\n", "        push!(custom_set, 3)\n", "        custom_set == CustomSet([3])\n", "    end\n", "    @test begin\n", "        custom_set = CustomSet([1, 2, 4])\n", "        push!(custom_set, 3)\n", "        custom_set == CustomSet([1, 2, 3, 4])\n", "    end\n", "    @test begin\n", "        custom_set = CustomSet([1, 2, 3])\n", "        push!(custom_set, 3)\n", "        custom_set == CustomSet([1, 2, 3])\n", "    end\n", "end\n", "\n", "@testset \"intersection\" begin\n", "    @testset \"in-place\" begin\n", "        @test begin\n", "            cs1 = CustomSet([])\n", "            cs2 = CustomSet([])\n", "            intersect!(cs1, cs2)\n", "            isempty(cs1)\n", "        end\n", "        @test begin\n", "            cs1 = CustomSet([])\n", "            cs2 = CustomSet([3, 2, 5])\n", "            intersect!(cs1, cs2)\n", "            isempty(cs1)\n", "        end\n", "        @test begin\n", "            cs1 = CustomSet([1, 2, 3, 4])\n", "            cs2 = CustomSet([])\n", "            intersect!(cs1, cs2)\n", "            isempty(cs1)\n", "        end\n", "        @test begin\n", "            cs1 = CustomSet([1, 2, 3])\n", "            cs2 = CustomSet([4, 5, 6])\n", "            intersect!(cs1, cs2)\n", "            isempty(cs1)\n", "        end\n", "        @test begin\n", "            cs1 = CustomSet([1, 2, 3, 4])\n", "            cs2 = CustomSet([3, 2, 5])\n", "            intersect!(cs1, cs2)\n", "            cs1 == CustomSet([2, 3])\n", "        end\n", "    end\n", "    @testset \"not in-place\" begin\n", "        @test isempty(intersect(CustomSet([]), CustomSet([])))\n", "        @test isempty(intersect(CustomSet([]), CustomSet([3, 2, 5])))\n", "        @test isempty(intersect(CustomSet([1, 2, 3, 4]), CustomSet([])))\n", "        @test isempty(intersect(CustomSet([1, 2, 3]), CustomSet([4, 5, 6])))\n", "        @test intersect(CustomSet([1, 2, 3, 4]), CustomSet([3, 2, 5])) == CustomSet([2, 3])\n", "    end\n", "end\n", "\n", "@testset \"complement (difference)\" begin\n", "    @testset \"in-place\" begin\n", "        @test begin\n", "            cs1 = CustomSet([])\n", "            cs2 = CustomSet([])\n", "            complement!(cs1, cs2)\n", "            isempty(cs1)\n", "        end\n", "        @test begin\n", "            cs1 = CustomSet([])\n", "            cs2 = CustomSet([3, 2, 5])\n", "            complement!(cs1, cs2)\n", "            isempty(cs1)\n", "        end\n", "        @test begin\n", "            cs1 = CustomSet([1, 2, 3, 4])\n", "            cs2 = CustomSet([])\n", "            complement!(cs1, cs2)\n", "            cs1 == CustomSet([1, 2, 3, 4])\n", "        end\n", "        @test begin\n", "            cs1 = CustomSet([3, 2, 1])\n", "            cs2 = CustomSet([2, 4])\n", "            complement!(cs1, cs2)\n", "            cs1 == CustomSet([1, 3])\n", "        end\n", "    end\n", "    @testset \"not in-place\" begin\n", "        @test isempty(complement(CustomSet([]), CustomSet([])))\n", "        @test isempty(complement(CustomSet([]), CustomSet([3, 2, 5])))\n", "        @test complement(CustomSet([1, 2, 3, 4]), CustomSet([])) == CustomSet([1, 2, 3, 4])\n", "        @test complement(CustomSet([3, 2, 1]), CustomSet([2, 4])) == CustomSet([1, 3])\n", "    end\n", "end\n", "\n", "@testset \"union\" begin\n", "    @testset \"in-place\" begin\n", "        @test begin\n", "            cs1 = CustomSet([])\n", "            cs2 = CustomSet([])\n", "            union!(cs1, cs2)\n", "            isempty(cs1)\n", "        end\n", "        @test begin\n", "            cs1 = CustomSet([])\n", "            cs2 = CustomSet([2])\n", "            union!(cs1, cs2)\n", "            cs1 == CustomSet([2])\n", "        end\n", "        @test begin\n", "            cs1 = CustomSet([1, 3])\n", "            cs2 = CustomSet([])\n", "            union!(cs1, cs2)\n", "            cs1 == CustomSet([1, 3])\n", "        end\n", "        @test begin\n", "            cs1 = CustomSet([1, 3])\n", "            cs2 = CustomSet([2, 3])\n", "            union!(cs1, cs2)\n", "            cs1 == CustomSet([3, 2, 1])\n", "        end\n", "    end\n", "    @testset \"not in-place\" begin\n", "        @test isempty(union(CustomSet([]), CustomSet([])))\n", "        @test union(CustomSet([]), CustomSet([2])) == CustomSet([2])\n", "        @test union(CustomSet([1, 3]), CustomSet([])) == CustomSet([1, 3])\n", "        @test union(CustomSet([1, 3]), CustomSet([2, 3])) == CustomSet([3, 2, 1])\n", "    end\n", "end\n", "\n", "# language specific tests\n", "@testset \"implements correct abstract type\" begin\n", "    @test CustomSet <: Base.AbstractSet\n", "end\n", "\n", "@testset \"length\" begin\n", "    @test length(CustomSet([])) == 0\n", "    @test length(CustomSet([1, 2, 3])) == 3\n", "end\n", "\n", "@testset \"iterable\" begin\n", "    @test begin\n", "        cs1 = CustomSet([1, 2, 3, 4])\n", "        cs2 = CustomSet([])\n", "        for element in cs1\n", "            push!(cs2, element)\n", "        end\n", "        cs1 == cs2\n", "    end\n", "end\n", "\n", "@testset \"copy\" begin\n", "    @test begin\n", "        cs1 = CustomSet([1, 2, 3])\n", "        cs2 = copy(cs1)\n", "        push!(cs1, 4)\n", "        cs2 == CustomSet([1, 2, 3])\n", "    end\n", "end"]
        },
        {
            "cell_type": "markdown",
            "metadata": {},
            "source": [
                "## Prepare submission\n",
                "To submit your exercise, you need to save your solution in a file called `custom-set.jl` before using the CLI.\n",
                "You can either create it manually or use the following functions, which will automatically write every notebook cell that starts with `# submit` to the file `custom-set.jl`.\n"
            ]
        },
        {
            "cell_type": "code",
            "execution_count": null,
            "metadata": {},
            "outputs": [],
            "source": [
                "# using Pkg; Pkg.add(\"Exercism\")\n",
                "# using Exercism\n",
                "# Exercism.create_submission(\"custom-set\")"
            ]
        }
    ],
    "metadata": {
        "kernelspec": {
            "display_name": "Julia 1.3.0",
            "language": "julia",
            "name": "julia-1.3"
        },
        "language_info": {
            "file_extension": ".jl",
            "mimetype": "application/julia",
            "name": "julia",
            "version": "1.3.0"
        }
    },
    "nbformat": 4,
    "nbformat_minor": 2
}
