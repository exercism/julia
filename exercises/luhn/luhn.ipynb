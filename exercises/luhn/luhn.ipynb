{
    "cells": [
        {
            "cell_type": "markdown",
            "metadata": {},
            "source": ["# Luhn\n", "\n", "Given a number determine whether or not it is valid per the Luhn formula.\n", "\n", "The [Luhn algorithm](https://en.wikipedia.org/wiki/Luhn_algorithm) is\n", "a simple checksum formula used to validate a variety of identification\n", "numbers, such as credit card numbers and Canadian Social Insurance\n", "Numbers.\n", "\n", "The task is to check if a given string is valid.\n", "\n", "Validating a Number\n", "------\n", "\n", "Strings of length 1 or less are not valid. Spaces are allowed in the input,\n", "but they should be stripped before checking. All other non-digit characters\n", "are disallowed.\n", "\n", "## Example 1: valid credit card number\n", "\n", "```text\n", "4539 3195 0343 6467\n", "```\n", "\n", "The first step of the Luhn algorithm is to double every second digit,\n", "starting from the right. We will be doubling\n", "\n", "```text\n", "4_3_ 3_9_ 0_4_ 6_6_\n", "```\n", "\n", "If doubling the number results in a number greater than 9 then subtract 9\n", "from the product. The results of our doubling:\n", "\n", "```text\n", "8569 6195 0383 3437\n", "```\n", "\n", "Then sum all of the digits:\n", "\n", "```text\n", "8+5+6+9+6+1+9+5+0+3+8+3+3+4+3+7 = 80\n", "```\n", "\n", "If the sum is evenly divisible by 10, then the number is valid. This number is valid!\n", "\n", "## Example 2: invalid credit card number\n", "\n", "```text\n", "8273 1232 7352 0569\n", "```\n", "\n", "Double the second digits, starting from the right\n", "\n", "```text\n", "7253 2262 5312 0539\n", "```\n", "\n", "Sum the digits\n", "\n", "```text\n", "7+2+5+3+2+2+6+2+5+3+1+2+0+5+3+9 = 57\n", "```\n", "\n", "57 is not evenly divisible by 10, so this number is not valid.\n", "\n", "## Source\n", "\n", "The Luhn Algorithm on Wikipedia [http://en.wikipedia.org/wiki/Luhn_algorithm](http://en.wikipedia.org/wiki/Luhn_algorithm)\n", "\n", "## Version compatibility\n", "This exercise has been tested on Julia versions >=1.0.\n", "\n", "## Submitting Incomplete Solutions\n", "It's possible to submit an incomplete solution so you can see how others have completed the exercise."]
        },
        {
            "cell_type": "markdown",
            "metadata": {},
            "source": ["## Your solution"]
        },
        {
            "cell_type": "code",
            "execution_count": null,
            "metadata": {},
            "outputs": [],
            "source": ["# submit"]
        },
        {
            "cell_type": "markdown",
            "metadata": {},
            "source": ["## Test suite"]
        },
        {
            "cell_type": "code",
            "execution_count": null,
            "metadata": {},
            "outputs": [],
            "source": ["using Test\n", "\n", "# include(\"luhn.jl\")\n", "\n", "@testset \"invalid\" begin\n", "    @testset \"single digit strings can not be valid\" begin\n", "        @test !luhn(\"1\")\n", "    end\n", "\n", "    @testset \"A single zero is invalid\" begin\n", "        @test !luhn(\"0\")\n", "    end\n", "\n", "    @testset \"invalid Canadian SIN\" begin\n", "        @test !luhn(\"055 444 286\")\n", "    end\n", "\n", "    @testset \"invalid credit card\" begin\n", "        @test !luhn(\"8273 1232 7352 0569\")\n", "    end\n", "\n", "    @testset \"valid strings with a non-digit added become invalid\" begin\n", "        @test !luhn(\"046a 454 286\")\n", "    end\n", "\n", "    @testset \"invalid long number with an even remainder\" begin\n", "        @test !luhn(\"1 2345 6789 1234 5678 9012\")\n", "    end\n", "\n", "    @testset \"valid strings with a non-digit added at the end become invalid\" begin\n", "        @test !luhn(\"059a\")\n", "    end\n", "\n", "    @testset \"valid strings with punctuation included become invalid\" begin\n", "        @test !luhn(\"055-444-285\")\n", "    end\n", "\n", "    @testset \"valid strings with symbols included become invalid\" begin\n", "        @test !luhn(\"055# 444\\$ 285\")\n", "    end\n", "\n", "    @testset \"single zero with space is invalid\" begin\n", "        @test !luhn(\" 0\")\n", "    end\n", "\n", "    @testset \"using ascii value for non-doubled non-digit isn't allowed\" begin\n", "        @test !luhn(\"055b 444 285\")\n", "    end\n", "\n", "    @testset \"using ascii value for doubled non-digit isn't allowed\" begin\n", "        @test !luhn(\":9\")\n", "    end\n", "end\n", "\n", "@testset \"valid\" begin\n", "    @testset \"valid Canadian SIN\" begin\n", "        @test luhn(\"055 444 285\")\n", "    end\n", "\n", "    @testset \"a simple valid SIN that remains valid if reversed\" begin\n", "        @test luhn(\"059\")\n", "    end\n", "\n", "    @testset \"a simple valid SIN that becomes invalid if reversed\" begin\n", "        @test luhn(\"59\")\n", "    end\n", "\n", "    @testset \"valid number with an even number of digits\" begin\n", "        @test luhn(\"095 245 88\")\n", "    end\n", "\n", "    @testset \"valid number with an odd number of spaces\" begin\n", "        @test luhn(\"234 567 891 234\")\n", "    end\n", "\n", "    @testset \"more than a single zero is valid\" begin\n", "        @test luhn(\"0000 0\")\n", "    end\n", "\n", "    @testset \"input digit 9 is correctly converted to output digit 9\" begin\n", "        @test luhn(\"091\")\n", "    end\n", "end"]
        },
        {
            "cell_type": "markdown",
            "metadata": {},
            "source": [
                "## Prepare submission\n",
                "To submit your exercise, you need to save your solution in a file called `luhn.jl` before using the CLI.\n",
                "You can either create it manually or use the following functions, which will automatically write every notebook cell that starts with `# submit` to the file `luhn.jl`.\n"
            ]
        },
        {
            "cell_type": "code",
            "execution_count": null,
            "metadata": {},
            "outputs": [],
            "source": [
                "# using Pkg; Pkg.add(\"Exercism\")\n",
                "# using Exercism\n",
                "# Exercism.create_submission(\"luhn\")"
            ]
        }
    ],
    "metadata": {
        "kernelspec": {
            "display_name": "Julia 1.3.0",
            "language": "julia",
            "name": "julia-1.3"
        },
        "language_info": {
            "file_extension": ".jl",
            "mimetype": "application/julia",
            "name": "julia",
            "version": "1.3.0"
        }
    },
    "nbformat": 4,
    "nbformat_minor": 2
}
