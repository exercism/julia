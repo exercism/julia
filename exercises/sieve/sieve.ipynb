{
    "cells": [
        {
            "cell_type": "markdown",
            "metadata": {},
            "source": ["# Sieve\n", "\n", "Use the Sieve of Eratosthenes to find all the primes from 2 up to a given\n", "number.\n", "\n", "The Sieve of Eratosthenes is a simple, ancient algorithm for finding all\n", "prime numbers up to any given limit. It does so by iteratively marking as\n", "composite (i.e. not prime) the multiples of each prime, starting with the\n", "multiples of 2. It does not use any division or remainder operation.\n", "\n", "Create your range, starting at two and continuing up to and including the given limit. (i.e. [2, limit])\n", "\n", "The algorithm consists of repeating the following over and over:\n", "\n", "- take the next available unmarked number in your list (it is prime)\n", "- mark all the multiples of that number (they are not prime)\n", "\n", "Repeat until you have processed each number in your range.\n", "\n", "When the algorithm terminates, all the numbers in the list that have not\n", "been marked are prime.\n", "\n", "The wikipedia article has a useful graphic that explains the algorithm:\n", "https://en.wikipedia.org/wiki/Sieve_of_Eratosthenes\n", "\n", "Notice that this is a very specific algorithm, and the tests don't check\n", "that you've implemented the algorithm, only that you've come up with the\n", "correct list of primes. A good first test is to check that you do not use\n", "division or remainder operations (div, /, mod or % depending on the\n", "language).\n", "\n", "## Source\n", "\n", "Sieve of Eratosthenes at Wikipedia [http://en.wikipedia.org/wiki/Sieve_of_Eratosthenes](http://en.wikipedia.org/wiki/Sieve_of_Eratosthenes)\n", "\n", "## Version compatibility\n", "This exercise has been tested on Julia versions >=1.0.\n", "\n", "## Submitting Incomplete Solutions\n", "It's possible to submit an incomplete solution so you can see how others have completed the exercise."]
        },
        {
            "cell_type": "markdown",
            "metadata": {},
            "source": ["## Your solution"]
        },
        {
            "cell_type": "code",
            "execution_count": null,
            "metadata": {},
            "outputs": [],
            "source": ["# submit\n", "function sieve(limit)\n", "\n", "end"]
        },
        {
            "cell_type": "markdown",
            "metadata": {},
            "source": ["## Test suite"]
        },
        {
            "cell_type": "code",
            "execution_count": null,
            "metadata": {},
            "outputs": [],
            "source": ["using Test\n", "\n", "# include(\"sieve.jl\")\n", "\n", "@testset \"no primes under two\" begin\n", "    @test sieve(1) == []\n", "end\n", "\n", "@testset \"find first prime\" begin\n", "    @test sieve(2) == [2]\n", "end\n", "\n", "@testset \"find primes up to 10\" begin\n", "    @test sieve(10) == [2, 3, 5, 7]\n", "end\n", "\n", "@testset \"limit is prime\" begin\n", "    @test sieve(13) == [2, 3, 5, 7, 11, 13]\n", "end\n", "\n", "@testset \"find primes up to 1000\" begin\n", "    @test sieve(1000) ==  [\n", "        2,   3,   5,   7,   11,  13,  17,  19,  23,  29,  31,  37,  41,\n", "        43,  47,  53,  59,  61,  67,  71,  73,  79,  83,  89,  97,  101,\n", "        103, 107, 109, 113, 127, 131, 137, 139, 149, 151, 157, 163, 167,\n", "        173, 179, 181, 191, 193, 197, 199, 211, 223, 227, 229, 233, 239,\n", "        241, 251, 257, 263, 269, 271, 277, 281, 283, 293, 307, 311, 313,\n", "        317, 331, 337, 347, 349, 353, 359, 367, 373, 379, 383, 389, 397,\n", "        401, 409, 419, 421, 431, 433, 439, 443, 449, 457, 461, 463, 467,\n", "        479, 487, 491, 499, 503, 509, 521, 523, 541, 547, 557, 563, 569,\n", "        571, 577, 587, 593, 599, 601, 607, 613, 617, 619, 631, 641, 643,\n", "        647, 653, 659, 661, 673, 677, 683, 691, 701, 709, 719, 727, 733,\n", "        739, 743, 751, 757, 761, 769, 773, 787, 797, 809, 811, 821, 823,\n", "        827, 829, 839, 853, 857, 859, 863, 877, 881, 883, 887, 907, 911,\n", "        919, 929, 937, 941, 947, 953, 967, 971, 977, 983, 991, 997\n", "      ]\n", "end"]
        },
        {
            "cell_type": "markdown",
            "metadata": {},
            "source": [
                "## Prepare submission\n",
                "To submit your exercise, you need to save your solution in a file called `sieve.jl` before using the CLI.\n",
                "You can either create it manually or use the following functions, which will automatically write every notebook cell that starts with `# submit` to the file `sieve.jl`.\n"
            ]
        },
        {
            "cell_type": "code",
            "execution_count": null,
            "metadata": {},
            "outputs": [],
            "source": [
                "# using Pkg; Pkg.add(\"Exercism\")\n",
                "# using Exercism\n",
                "# Exercism.create_submission(\"sieve\")"
            ]
        }
    ],
    "metadata": {
        "kernelspec": {
            "display_name": "Julia 1.3.0",
            "language": "julia",
            "name": "julia-1.3"
        },
        "language_info": {
            "file_extension": ".jl",
            "mimetype": "application/julia",
            "name": "julia",
            "version": "1.3.0"
        }
    },
    "nbformat": 4,
    "nbformat_minor": 2
}
