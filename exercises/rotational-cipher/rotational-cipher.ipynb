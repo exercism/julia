{
    "cells": [
        {
            "cell_type": "markdown",
            "metadata": {},
            "source": ["# Rotational Cipher\n", "\n", "Create an implementation of the rotational cipher, also sometimes called the Caesar cipher.\n", "\n", "The Caesar cipher is a simple shift cipher that relies on\n", "transposing all the letters in the alphabet using an integer key\n", "between `0` and `26`. Using a key of `0` or `26` will always yield\n", "the same output due to modular arithmetic. The letter is shifted\n", "for as many values as the value of the key.\n", "\n", "The general notation for rotational ciphers is `ROT + <key>`.\n", "The most commonly used rotational cipher is `ROT13`.\n", "\n", "A `ROT13` on the Latin alphabet would be as follows:\n", "\n", "```text\n", "Plain:  abcdefghijklmnopqrstuvwxyz\n", "Cipher: nopqrstuvwxyzabcdefghijklm\n", "```\n", "\n", "It is stronger than the Atbash cipher because it has 27 possible keys, and 25 usable keys.\n", "\n", "Ciphertext is written out in the same formatting as the input including spaces and punctuation.\n", "\n", "## Examples\n", "\n", "- ROT5  `omg` gives `trl`\n", "- ROT0  `c` gives `c`\n", "- ROT26 `Cool` gives `Cool`\n", "- ROT13 `The quick brown fox jumps over the lazy dog.` gives `Gur dhvpx oebja sbk whzcf bire gur ynml qbt.`\n", "- ROT13 `Gur dhvpx oebja sbk whzcf bire gur ynml qbt.` gives `The quick brown fox jumps over the lazy dog.`\n", "\n", "This is a good exercise to experiment with non-standard string literals and metaprogramming.\n", "\n", "A short introduction to non-standard string literals can be found in this [blog post](https://web.archive.org/web/20170625222109/https://iaindunning.com/blog/julia-unicode.html). A detailed metaprogramming guide can be found in the [manual](https://docs.julialang.org/en/v1/manual/metaprogramming/).\n", "\n", "You can extend your solution by adding the functionality described below.\n", "\n", "Bonus A only requires basics as outlined in the blog post. Bonus B requires significantly more knowledge of metaprogramming in Julia.\n", "\n", "## Bonus A\n", "Implement a string literal that acts as `ROT13` on the string:\n", "```julia\n", "R13\"abcdefghijklmnopqrstuvwxyz\" == \"nopqrstuvwxyzabcdefghijklm\"\n", "```\n", "\n", "## Bonus B\n", "Implement string literals `R<i>`, `i = 0, ..., 26`, that shift the string for `i` values:\n", "```julia\n", "R0\"Hello, World!\" == \"Hello, World!\"\n", "R4\"Testing 1 2 3 testing\" == \"Xiwxmrk 1 2 3 xiwxmrk\"\n", "R13\"abcdefghijklmnopqrstuvwxyz\" == \"nopqrstuvwxyzabcdefghijklm\"\n", "```\n", "\n", "## Source\n", "\n", "Wikipedia [https://en.wikipedia.org/wiki/Caesar_cipher](https://en.wikipedia.org/wiki/Caesar_cipher)\n", "\n", "## Version compatibility\n", "This exercise has been tested on Julia versions >=1.0.\n", "\n", "## Submitting Incomplete Solutions\n", "It's possible to submit an incomplete solution so you can see how others have completed the exercise."]
        },
        {
            "cell_type": "markdown",
            "metadata": {},
            "source": ["## Your solution"]
        },
        {
            "cell_type": "code",
            "execution_count": null,
            "metadata": {},
            "outputs": [],
            "source": ["# submit"]
        },
        {
            "cell_type": "markdown",
            "metadata": {},
            "source": ["## Test suite"]
        },
        {
            "cell_type": "code",
            "execution_count": null,
            "metadata": {},
            "outputs": [],
            "source": ["using Test\n", "\n", "# include(\"rotational-cipher.jl\")\n", "\n", "@testset \"rotate function\" begin\n", "    @testset \"rotate by n\" begin\n", "        @testset \"no wrap\" begin\n", "            @test rotate(1, \"a\") == \"b\"\n", "            @test rotate(1, 'a') == 'b'\n", "            @test rotate(13, \"m\") == \"z\"\n", "            @test rotate(13, 'm') == 'z'\n", "        end\n", "        @testset \"wrap around\" begin\n", "            @test rotate(13, \"n\") == \"a\"\n", "            @test rotate(13, 'n') == 'a'\n", "        end\n", "    end\n", "\n", "    @testset \"full rotation\" begin\n", "        @test rotate(26, \"a\") == \"a\"\n", "        @test rotate(26, 'a') == 'a'\n", "        @test rotate(0, \"a\") == \"a\"\n", "        @test rotate(0, 'a') == 'a'\n", "    end\n", "\n", "    @testset \"full strings\" begin\n", "        @test rotate(5, \"OMG\") == \"TRL\"\n", "        @test rotate(5, \"O M G\") == \"T R L\"\n", "        @test rotate(4, \"Testing 1 2 3 testing\") == \"Xiwxmrk 1 2 3 xiwxmrk\"\n", "        @test rotate(21, \"Let's eat, Grandma!\") == \"Gzo'n zvo, Bmviyhv!\"\n", "        @test rotate(13, \"The quick brown fox jumps over the lazy dog.\") == \"Gur dhvpx oebja sbk whzcf bire gur ynml qbt.\"\n", "    end\n", "end\n", "\n", "# # # # # # # # # # # # # # # # # # # # # # # # # # # # # # # # # # # # # # # #\n", "# Additional exercises                                                        #\n", "# # # # # # # # # # # # # # # # # # # # # # # # # # # # # # # # # # # # # # # #\n", "\n", "# Bonus A\n", "if isdefined(Main, Symbol(\"@R13_str\"))\n", "    @eval @testset \"Bonus A: string literal R13\" begin\n", "        @test R13\"The quick brown fox jumps over the lazy dog.\" == \"Gur dhvpx oebja sbk whzcf bire gur ynml qbt.\"\n", "    end\n", "end\n", "\n", "# Bonus B\n", "if isdefined(Main, Symbol(\"@R1_str\"))\n", "    @eval @testset \"Bonus B: string literals\" begin\n", "        @test R5\"OMG\" == \"TRL\"\n", "        @test R4\"Testing 1 2 3 testing\" == \"Xiwxmrk 1 2 3 xiwxmrk\"\n", "        @test R21\"Let's eat, Grandma!\" == \"Gzo'n zvo, Bmviyhv!\"\n", "        @test R13\"The quick brown fox jumps over the lazy dog.\" == \"Gur dhvpx oebja sbk whzcf bire gur ynml qbt.\"\n", "    end\n", "end"]
        },
        {
            "cell_type": "markdown",
            "metadata": {},
            "source": [
                "## Prepare submission\n",
                "To submit your exercise, you need to save your solution in a file called `rotational-cipher.jl` before using the CLI.\n",
                "You can either create it manually or use the following functions, which will automatically write every notebook cell that starts with `# submit` to the file `rotational-cipher.jl`.\n"
            ]
        },
        {
            "cell_type": "code",
            "execution_count": null,
            "metadata": {},
            "outputs": [],
            "source": [
                "# using Pkg; Pkg.add(\"Exercism\")\n",
                "# using Exercism\n",
                "# Exercism.create_submission(\"rotational-cipher\")"
            ]
        }
    ],
    "metadata": {
        "kernelspec": {
            "display_name": "Julia 1.3.0",
            "language": "julia",
            "name": "julia-1.3"
        },
        "language_info": {
            "file_extension": ".jl",
            "mimetype": "application/julia",
            "name": "julia",
            "version": "1.3.0"
        }
    },
    "nbformat": 4,
    "nbformat_minor": 2
}
