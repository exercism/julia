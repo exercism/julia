{
    "cells": [
        {
            "cell_type": "markdown",
            "metadata": {},
            "source": ["# Grains\n", "\n", "Calculate the number of grains of wheat on a chessboard given that the number\n", "on each square doubles.\n", "\n", "There once was a wise servant who saved the life of a prince. The king\n", "promised to pay whatever the servant could dream up. Knowing that the\n", "king loved chess, the servant told the king he would like to have grains\n", "of wheat. One grain on the first square of a chess board, with the number\n", "of grains doubling on each successive square.\n", "\n", "There are 64 squares on a chessboard (where square 1 has one grain, square 2 has two grains, and so on).\n", "\n", "Write code that shows:\n", "- how many grains were on a given square, and\n", "- the total number of grains on the chessboard\n", "\n", "## For bonus points\n", "\n", "Did you get the tests passing and the code clean? If you want to, these\n", "are some additional things you could try:\n", "\n", "- Optimize for speed.\n", "- Optimize for readability.\n", "\n", "Then please share your thoughts in a comment on the submission. Did this\n", "experiment make the code better? Worse? Did you learn anything from it?\n", "\n", "## Source\n", "\n", "JavaRanch Cattle Drive, exercise 6 [http://www.javaranch.com/grains.jsp](http://www.javaranch.com/grains.jsp)\n", "\n", "## Version compatibility\n", "This exercise has been tested on Julia versions >=1.0.\n", "\n", "## Submitting Incomplete Solutions\n", "It's possible to submit an incomplete solution so you can see how others have completed the exercise."]
        },
        {
            "cell_type": "markdown",
            "metadata": {},
            "source": ["## Your solution"]
        },
        {
            "cell_type": "code",
            "execution_count": null,
            "metadata": {},
            "outputs": [],
            "source": ["# submit\n", "\"\"\"Calculate the number of grains on square `square`.\"\"\"\n", "function on_square(square)\n", "\n", "end\n", "\n", "\"\"\"Calculate the total number of grains after square `square`.\"\"\"\n", "function total_after(square)\n", "\n", "end"]
        },
        {
            "cell_type": "markdown",
            "metadata": {},
            "source": ["## Test suite"]
        },
        {
            "cell_type": "code",
            "execution_count": null,
            "metadata": {},
            "outputs": [],
            "source": ["using Test\n", "\n", "# include(\"grains.jl\")\n", "\n", "@testset \"beginning squares\" begin\n", "    @test on_square(1) == 1\n", "    @test on_square(2) == 2\n", "    @test on_square(3) == 4\n", "    @test on_square(4) == 8\n", "    @test on_square(16) == 32768\n", "    @test on_square(32) == 2147483648\n", "    @test total_after(1) == 1\n", "    @test total_after(3) == on_square(1) + on_square(2) + on_square(3)\n", "end\n", "\n", "@testset \"ending squares\" begin\n", "    @test total_after(32) < total_after(64)\n", "    @test on_square(64) == 9223372036854775808\n", "    @test total_after(64) == 18446744073709551615\n", "end\n", "\n", "@testset \"Invalid values\" begin\n", "    @testset \"Zero\" begin\n", "        @test_throws DomainError on_square(0)\n", "        @test_throws DomainError total_after(0)\n", "    end\n", "    \n", "    @testset \"Negative\" begin\n", "        @test_throws DomainError on_square(-1)\n", "        @test_throws DomainError total_after(-1)\n", "    end\n", "    \n", "    @testset \"Greater than 64\" begin\n", "        @test_throws DomainError on_square(65)\n", "        @test_throws DomainError total_after(65)\n", "    end\n", "end"]
        },
        {
            "cell_type": "markdown",
            "metadata": {},
            "source": [
                "## Prepare submission\n",
                "To submit your exercise, you need to save your solution in a file called `grains.jl` before using the CLI.\n",
                "You can either create it manually or use the following functions, which will automatically write every notebook cell that starts with `# submit` to the file `grains.jl`.\n"
            ]
        },
        {
            "cell_type": "code",
            "execution_count": null,
            "metadata": {},
            "outputs": [],
            "source": [
                "# using Pkg; Pkg.add(\"Exercism\")\n",
                "# using Exercism\n",
                "# Exercism.create_submission(\"grains\")"
            ]
        }
    ],
    "metadata": {
        "kernelspec": {
            "display_name": "Julia 1.3.0",
            "language": "julia",
            "name": "julia-1.3"
        },
        "language_info": {
            "file_extension": ".jl",
            "mimetype": "application/julia",
            "name": "julia",
            "version": "1.3.0"
        }
    },
    "nbformat": 4,
    "nbformat_minor": 2
}
