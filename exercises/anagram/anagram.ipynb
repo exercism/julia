{
    "cells": [
        {
            "cell_type": "markdown",
            "metadata": {},
            "source": ["# Anagram\n", "\n", "An anagram is a rearrangement of letters to form a new word.\n", "Given a word and a list of candidates, select the sublist of anagrams of the given word.\n", "\n", "Given `\"listen\"` and a list of candidates like `\"enlists\" \"google\"\n", "\"inlets\" \"banana\"` the program should return a list containing\n", "`\"inlets\"`.\n", "\n", "## Source\n", "\n", "Inspired by the Extreme Startup game [https://github.com/rchatley/extreme_startup](https://github.com/rchatley/extreme_startup)\n", "\n", "## Version compatibility\n", "This exercise has been tested on Julia versions >=1.0.\n", "\n", "## Submitting Incomplete Solutions\n", "It's possible to submit an incomplete solution so you can see how others have completed the exercise."]
        },
        {
            "cell_type": "markdown",
            "metadata": {},
            "source": ["## Your solution"]
        },
        {
            "cell_type": "code",
            "execution_count": null,
            "metadata": {},
            "outputs": [],
            "source": ["# submit\n", "function detect_anagrams(subject, candidates)\n", "\n", "end"]
        },
        {
            "cell_type": "markdown",
            "metadata": {},
            "source": ["## Test suite"]
        },
        {
            "cell_type": "code",
            "execution_count": null,
            "metadata": {},
            "outputs": [],
            "source": ["using Test\n", "\n", "# include(\"anagram.jl\")\n", "\n", "@testset \"no matches\" begin\n", "    @test detect_anagrams(\"diaper\", [\"hello\", \"world\", \"zombies\", \"pants\"]) == []\n", "end\n", "\n", "@testset \"detects simple anagram\" begin\n", "    @test detect_anagrams(\"ant\", [\"tan\", \"stand\", \"at\"]) == [\"tan\"]\n", "end\n", "\n", "@testset \"does not detect false positives\" begin\n", "    @test detect_anagrams(\"galea\", [\"eagle\"]) == []\n", "end\n", "\n", "@testset \"detects two anagrams\" begin\n", "    @test detect_anagrams(\"master\", [\"stream\", \"pigeon\", \"maters\"]) == [\"stream\", \"maters\"]\n", "end\n", "\n", "@testset \"does not detect anagram subsets\" begin\n", "    @test detect_anagrams(\"good\", [\"dog\", \"goody\"]) == []\n", "end\n", "\n", "@testset \"detects anagram\" begin\n", "    @test detect_anagrams(\"listen\", [\"enlists\", \"google\", \"inlets\", \"banana\"]) == [\"inlets\"]\n", "end\n", "\n", "@testset \"detects three anagrams\" begin\n", "    @test detect_anagrams(\"allergy\", [\"gallery\", \"ballerina\", \"regally\", \"clergy\", \"largely\", \"leading\"]) == [\"gallery\", \"regally\", \"largely\"]\n", "end\n", "\n", "@testset \"detects multiple anagrams with different case\" begin\n", "    @test detect_anagrams(\"nose\", [\"Eons\", \"ONES\"]) == [\"Eons\", \"ONES\"]\n", "end\n", "\n", "@testset \"does not detect identical words\" begin\n", "    @test detect_anagrams(\"corn\", [\"corn\", \"dark\", \"Corn\", \"rank\", \"CORN\", \"cron\", \"park\"]) == [\"cron\"]\n", "end\n", "\n", "@testset \"does not detect non-anagrams with identical checksum\" begin\n", "    @test detect_anagrams(\"mass\", [\"last\"]) == []\n", "end\n", "\n", "@testset \"detects anagrams case-insensitively\" begin\n", "    @test detect_anagrams(\"Orchestra\", [\"cashregister\", \"Carthorse\", \"radishes\"]) == [\"Carthorse\"]\n", "end\n", "\n", "@testset \"detects anagrams using case-insensitive subject\" begin\n", "    @test detect_anagrams(\"Orchestra\", [\"cashregister\", \"carthorse\", \"radishes\"]) == [\"carthorse\"]\n", "end\n", "\n", "@testset \"detects anagrams using case-insensitive possible matches\" begin\n", "    @test detect_anagrams(\"orchestra\", [\"cashregister\", \"Carthorse\", \"radishes\"]) == [\"Carthorse\"]\n", "end\n", "\n", "@testset \"does not detect an anagram if the original word is repeated\" begin\n", "    @test detect_anagrams(\"go\", [\"go Go GO\"]) == []\n", "end\n", "\n", "@testset \"does not detect a word as its own anagram\" begin\n", "    @test detect_anagrams(\"banana\", [\"Banana\"]) == []\n", "end\n", "\n", "@testset \"does not detect a anagram if the original word is repeated\" begin\n", "    @test detect_anagrams(\"go\", [\"go Go GO\"]) == []\n", "end\n", "\n", "@testset \"anagrams must use all letters exactly once\" begin\n", "    @test detect_anagrams(\"tapper\", [\"patter\"]) == []\n", "end\n", "\n", "@testset \"words are not anagrams of themselves (case-insensitive)\" begin\n", "    @test detect_anagrams(\"BANANA\", [\"BANANA\", \"Banana\", \"banana\"]) == []\n", "end\n", "\n", "@testset \"words other than themselves can be anagrams\" begin\n", "    @test detect_anagrams(\"LISTEN\", [\"Listen\", \"Silent\", \"LISTEN\"]) == [\"Silent\"]\n", "end\n", "\n", "@testset \"capital word is not own anagram\" begin\n", "    @test detect_anagrams(\"BANANA\", [\"Banana\"]) == []\n", "end"]
        },
        {
            "cell_type": "markdown",
            "metadata": {},
            "source": [
                "## Prepare submission\n",
                "To submit your exercise, you need to save your solution in a file called `anagram.jl` before using the CLI.\n",
                "You can either create it manually or use the following functions, which will automatically write every notebook cell that starts with `# submit` to the file `anagram.jl`.\n"
            ]
        },
        {
            "cell_type": "code",
            "execution_count": null,
            "metadata": {},
            "outputs": [],
            "source": [
                "# using Pkg; Pkg.add(\"Exercism\")\n",
                "# using Exercism\n",
                "# Exercism.create_submission(\"anagram\")"
            ]
        }
    ],
    "metadata": {
        "kernelspec": {
            "display_name": "Julia 1.3.0",
            "language": "julia",
            "name": "julia-1.3"
        },
        "language_info": {
            "file_extension": ".jl",
            "mimetype": "application/julia",
            "name": "julia",
            "version": "1.3.0"
        }
    },
    "nbformat": 4,
    "nbformat_minor": 2
}
