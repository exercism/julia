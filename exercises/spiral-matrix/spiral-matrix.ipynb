{
    "cells": [
        {
            "cell_type": "markdown",
            "metadata": {},
            "source": ["# Spiral Matrix\n", "\n", "Given the size, return a square matrix of numbers in spiral order.\n", "\n", "The matrix should be filled with natural numbers, starting from 1\n", "in the top-left corner, increasing in an inward, clockwise spiral order,\n", "like these examples:\n", "\n", "###### Spiral matrix of size 3\n", "\n", "```text\n", "1 2 3\n", "8 9 4\n", "7 6 5\n", "```\n", "\n", "###### Spiral matrix of size 4\n", "\n", "```text\n", " 1  2  3 4\n", "12 13 14 5\n", "11 16 15 6\n", "10  9  8 7\n", "```\n", "\n", "## Source\n", "\n", "Reddit r/dailyprogrammer challenge #320 [Easy] Spiral Ascension. [https://www.reddit.com/r/dailyprogrammer/comments/6i60lr/20170619_challenge_320_easy_spiral_ascension/](https://www.reddit.com/r/dailyprogrammer/comments/6i60lr/20170619_challenge_320_easy_spiral_ascension/)\n", "\n", "## Version compatibility\n", "This exercise has been tested on Julia versions >=1.0.\n", "\n", "## Submitting Incomplete Solutions\n", "It's possible to submit an incomplete solution so you can see how others have completed the exercise."]
        },
        {
            "cell_type": "markdown",
            "metadata": {},
            "source": ["## Your solution"]
        },
        {
            "cell_type": "code",
            "execution_count": null,
            "metadata": {},
            "outputs": [],
            "source": ["# submit\n", "function spiral_matrix(n)\n", "\n", "end"]
        },
        {
            "cell_type": "markdown",
            "metadata": {},
            "source": ["## Test suite"]
        },
        {
            "cell_type": "code",
            "execution_count": null,
            "metadata": {},
            "outputs": [],
            "source": ["using Test\n", "\n", "# include(\"spiral-matrix.jl\")\n", "\n", "\n", "@testset \"Different valid values\" begin\n", "    @testset \"Empty spiral\" begin\n", "        @test spiral_matrix(0) == Matrix{Int}(undef,0,0)\n", "    end\n", "    @testset \"Trivial spiral\" begin\n", "        @test spiral_matrix(1) == reshape([1],(1,1))\n", "    end\n", "    @testset \"Spiral of size 2\" begin\n", "        @test spiral_matrix(2) == [1 2; 4 3]\n", "    end\n", "    @testset \"Spiral of size 3\" begin\n", "        @test spiral_matrix(3) == [1 2 3; 8 9 4; 7 6 5]\n", "    end\n", "    @testset \"Spiral of size 4\" begin\n", "        @test spiral_matrix(4) == [1 2 3 4; 12 13 14 5; 11 16 15 6; 10 9 8 7]\n", "    end\n", "    @testset \"Spiral of size 5\" begin\n", "        @test spiral_matrix(5) == [1 2 3 4 5; 16 17 18 19 6; 15 24 25 20 7; 14 23 22 21 8; 13 12 11 10 9]\n", "    end\n", "end"]
        },
        {
            "cell_type": "markdown",
            "metadata": {},
            "source": [
                "## Prepare submission\n",
                "To submit your exercise, you need to save your solution in a file called `spiral-matrix.jl` before using the CLI.\n",
                "You can either create it manually or use the following functions, which will automatically write every notebook cell that starts with `# submit` to the file `spiral-matrix.jl`.\n"
            ]
        },
        {
            "cell_type": "code",
            "execution_count": null,
            "metadata": {},
            "outputs": [],
            "source": [
                "# using Pkg; Pkg.add(\"Exercism\")\n",
                "# using Exercism\n",
                "# Exercism.create_submission(\"spiral-matrix\")"
            ]
        }
    ],
    "metadata": {
        "kernelspec": {
            "display_name": "Julia 1.3.0",
            "language": "julia",
            "name": "julia-1.3"
        },
        "language_info": {
            "file_extension": ".jl",
            "mimetype": "application/julia",
            "name": "julia",
            "version": "1.3.0"
        }
    },
    "nbformat": 4,
    "nbformat_minor": 2
}
