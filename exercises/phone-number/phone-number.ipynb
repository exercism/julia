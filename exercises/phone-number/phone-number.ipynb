{
    "cells": [
        {
            "cell_type": "markdown",
            "metadata": {},
            "source": ["# Phone Number\n", "\n", "Clean up user-entered phone numbers so that they can be sent SMS messages.\n", "\n", "The **North American Numbering Plan (NANP)** is a telephone numbering system used by many countries in North America like the United States, Canada or Bermuda. All NANP-countries share the same international country code: `1`.\n", "\n", "NANP numbers are ten-digit numbers consisting of a three-digit Numbering Plan Area code, commonly known as *area code*, followed by a seven-digit local number. The first three digits of the local number represent the *exchange code*, followed by the unique four-digit number which is the *subscriber number*.\n", "\n", "The format is usually represented as\n", "\n", "```text\n", "(NXX)-NXX-XXXX\n", "```\n", "\n", "where `N` is any digit from 2 through 9 and `X` is any digit from 0 through 9.\n", "\n", "Your task is to clean up differently formatted telephone numbers by removing punctuation and the country code (1) if present.\n", "\n", "For example, the inputs\n", "- `+1 (613)-995-0253`\n", "- `613-995-0253`\n", "- `1 613 995 0253`\n", "- `613.995.0253`\n", "\n", "should all produce the output\n", "\n", "`6139950253`\n", "\n", "**Note:** As this exercise only deals with telephone numbers used in NANP-countries, only 1 is considered a valid country code.\n", "\n", "## Source\n", "\n", "Event Manager by JumpstartLab [http://tutorials.jumpstartlab.com/projects/eventmanager.html](http://tutorials.jumpstartlab.com/projects/eventmanager.html)\n", "\n", "## Version compatibility\n", "This exercise has been tested on Julia versions >=1.0.\n", "\n", "## Submitting Incomplete Solutions\n", "It's possible to submit an incomplete solution so you can see how others have completed the exercise."]
        },
        {
            "cell_type": "markdown",
            "metadata": {},
            "source": ["## Your solution"]
        },
        {
            "cell_type": "code",
            "execution_count": null,
            "metadata": {},
            "outputs": [],
            "source": ["# submit\n", "function clean(phone_number)\n", "    \n", "end"]
        },
        {
            "cell_type": "markdown",
            "metadata": {},
            "source": ["## Test suite"]
        },
        {
            "cell_type": "code",
            "execution_count": null,
            "metadata": {},
            "outputs": [],
            "source": ["using Test\n", "\n", "# include(\"phone-number.jl\")\n", "\n", "# Julia 1.0 compat\n", "if VERSION < v\"1.1\"\n", "    @eval isnothing(::Any) = false\n", "    @eval isnothing(::Nothing) = true\n", "end\n", "\n", "# Tests adapted from `problem-specifications//canonical-data.json` @ v1.2.0\n", "# Returns the cleaned phone number as a digit string if given number is valid,\n", "# else returns `nothing`.\n", "\n", "const expected_number = \"2234567890\"\n", "const valid_10digit_num = (\n", "        \"(223) 456-7890\",\n", "        \"223.456.7890\",\n", "        \"223 456   7890   \",\n", ")\n", "const valid_11digit_num = (\n", "        \"12234567890\",\n", "        \"  1 223 456 7890 \",\n", "        \"+1 (223) 456-7890\",\n", ")\n", "const invalid_num = (\n", "        \"123456789\",\n", "        \"1223456789\",\n", "        \"22234567890\",\n", "        \"321234567890\",\n", "        \"223-abc-7890\",\n", "        \"223-@:!-7890\",\n", "        \"(023) 456-7890\",\n", "        \"(123) 456-7890\",\n", "        \"(223) 056-7890\",\n", "        \"(223) 156-7890\",\n", "        \"1 (023) 456-7890\",\n", "        \"1 (123) 456-7890\",\n", "        \"1 (223) 056-7890\",\n", "        \"1 (223) 156-7890\",\n", ")\n", "\n", "@testset \"clean 10-digit number\" begin\n", "    @testset \"$number\" for number in valid_10digit_num\n", "        @test clean(number) == expected_number\n", "    end\n", "end\n", "\n", "@testset \"clean 11-digit number starting with 1\" begin\n", "    @testset \"$number\" for number in valid_11digit_num\n", "        @test clean(number) == expected_number\n", "    end\n", "end\n", "\n", "@testset \"detect invalid number\" begin\n", "    @testset \"$number\" for number in invalid_num\n", "        @test isnothing(clean(number))\n", "    end\n", "end"]
        },
        {
            "cell_type": "markdown",
            "metadata": {},
            "source": [
                "## Prepare submission\n",
                "To submit your exercise, you need to save your solution in a file called `phone-number.jl` before using the CLI.\n",
                "You can either create it manually or use the following functions, which will automatically write every notebook cell that starts with `# submit` to the file `phone-number.jl`.\n"
            ]
        },
        {
            "cell_type": "code",
            "execution_count": null,
            "metadata": {},
            "outputs": [],
            "source": [
                "# using Pkg; Pkg.add(\"Exercism\")\n",
                "# using Exercism\n",
                "# Exercism.create_submission(\"phone-number\")"
            ]
        }
    ],
    "metadata": {
        "kernelspec": {
            "display_name": "Julia 1.3.0",
            "language": "julia",
            "name": "julia-1.3"
        },
        "language_info": {
            "file_extension": ".jl",
            "mimetype": "application/julia",
            "name": "julia",
            "version": "1.3.0"
        }
    },
    "nbformat": 4,
    "nbformat_minor": 2
}
