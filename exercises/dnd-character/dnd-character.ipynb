{
    "cells": [
        {
            "cell_type": "markdown",
            "metadata": {},
            "source": ["# D&D Character\n", "\n", "For a game of [Dungeons & Dragons][DND], each player starts by generating a\n", "character they can play with. This character has, among other things, six\n", "abilities; strength, dexterity, constitution, intelligence, wisdom and\n", "charisma. These six abilities have scores that are determined randomly. You\n", "do this by rolling four 6-sided dice and record the sum of the largest three\n", "dice. You do this six times, once for each ability.\n", "\n", "Your character's initial hitpoints are 10 + your character's constitution\n", "modifier. You find your character's constitution modifier by subtracting 10\n", "from your character's constitution, divide by 2 and round down.\n", "\n", "Write a random character generator that follows the rules above.\n", "\n", "For example, the six throws of four dice may look like:\n", "\n", "* 5, 3, 1, 6: You discard the 1 and sum 5 + 3 + 6 = 14, which you assign to strength.\n", "* 3, 2, 5, 3: You discard the 2 and sum 3 + 5 + 3 = 11, which you assign to dexterity.\n", "* 1, 1, 1, 1: You discard the 1 and sum 1 + 1 + 1 = 3, which you assign to constitution.\n", "* 2, 1, 6, 6: You discard the 1 and sum 2 + 6 + 6 = 14, which you assign to intelligence.\n", "* 3, 5, 3, 4: You discard the 3 and sum 5 + 3 + 4 = 12, which you assign to wisdom.\n", "* 6, 6, 6, 6: You discard the 6 and sum 6 + 6 + 6 = 18, which you assign to charisma.\n", "\n", "Because constitution is 3, the constitution modifier is -4 and the hitpoints are 6.\n", "\n", "## Notes\n", "\n", "Most programming languages feature (pseudo-)random generators, but few\n", "programming languages are designed to roll dice. One such language is [Troll].\n", "\n", "[DND]: https://en.wikipedia.org/wiki/Dungeons_%26_Dragons\n", "[Troll]: http://hjemmesider.diku.dk/~torbenm/Troll/\n", "\n", "## Source\n", "\n", "Simon Shine, Erik Schierboom [https://github.com/exercism/problem-specifications/issues/616#issuecomment-437358945](https://github.com/exercism/problem-specifications/issues/616#issuecomment-437358945)\n", "\n", "## Version compatibility\n", "This exercise has been tested on Julia versions >=1.0.\n", "\n", "## Submitting Incomplete Solutions\n", "It's possible to submit an incomplete solution so you can see how others have completed the exercise."]
        },
        {
            "cell_type": "markdown",
            "metadata": {},
            "source": ["## Your solution"]
        },
        {
            "cell_type": "code",
            "execution_count": null,
            "metadata": {},
            "outputs": [],
            "source": ["# submit\n", "function modifier(ability)\n", "\n", "end\n", "\n", "function ability()\n", "\n", "end\n", "\n", "mutable struct DNDCharacter\n", "\n", "end"]
        },
        {
            "cell_type": "markdown",
            "metadata": {},
            "source": ["## Test suite"]
        },
        {
            "cell_type": "code",
            "execution_count": null,
            "metadata": {},
            "outputs": [],
            "source": ["using Test\n", "\n", "# include(\"dnd-character.jl\")\n", "\n", "function ischaracter(c)\n", "    c.strength >= 3         && c.strength <= 18 &&\n", "        c.dexterity >= 3    && c.dexterity <= 18 &&\n", "        c.constitution >= 3 && c.constitution <= 18 &&\n", "        c.intelligence >= 3 && c.intelligence <= 18 &&\n", "        c.wisdom >= 3       && c.wisdom <= 18 &&\n", "        c.charisma >= 3     && c.charisma <= 18 &&\n", "        c.hitpoints == 10 + modifier(c.constitution)\n", "end\n", "\n", "@testset \"ability modifier\" begin\n", "    @test modifier(3) == -4\n", "    @test modifier(4) == -3\n", "    @test modifier(5) == -3\n", "    @test modifier(6) == -2\n", "    @test modifier(7) == -2\n", "    @test modifier(8) == -1\n", "    @test modifier(9) == -1\n", "    @test modifier(10) == 0\n", "    @test modifier(11) == 0\n", "    @test modifier(12) == 1\n", "    @test modifier(13) == 1\n", "    @test modifier(14) == 2\n", "    @test modifier(15) == 2\n", "    @test modifier(16) == 3\n", "    @test modifier(17) == 3\n", "    @test modifier(18) == 4\n", "end\n", "\n", "@testset \"random ability is within range\" begin\n", "    abil = ability()\n", "    @test abil >= 3 && abil <= 18\n", "end\n", "\n", "@testset \"random character is valid\" begin\n", "    characters = DNDCharacter[]\n", "\n", "    for i=1:10\n", "        c = DNDCharacter()\n", "        @testset \"random character is valid and unique in history\" begin\n", "            @test ischaracter(c)\n", "            @test !in(c, characters)\n", "        end\n", "\n", "        push!(characters, c)\n", "    end\n", "end"]
        },
        {
            "cell_type": "markdown",
            "metadata": {},
            "source": [
                "## Prepare submission\n",
                "To submit your exercise, you need to save your solution in a file called `dnd-character.jl` before using the CLI.\n",
                "You can either create it manually or use the following functions, which will automatically write every notebook cell that starts with `# submit` to the file `dnd-character.jl`.\n"
            ]
        },
        {
            "cell_type": "code",
            "execution_count": null,
            "metadata": {},
            "outputs": [],
            "source": [
                "# using Pkg; Pkg.add(\"Exercism\")\n",
                "# using Exercism\n",
                "# Exercism.create_submission(\"dnd-character\")"
            ]
        }
    ],
    "metadata": {
        "kernelspec": {
            "display_name": "Julia 1.3.0",
            "language": "julia",
            "name": "julia-1.3"
        },
        "language_info": {
            "file_extension": ".jl",
            "mimetype": "application/julia",
            "name": "julia",
            "version": "1.3.0"
        }
    },
    "nbformat": 4,
    "nbformat_minor": 2
}
