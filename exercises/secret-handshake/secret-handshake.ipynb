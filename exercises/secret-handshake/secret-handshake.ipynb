{
    "cells": [
        {
            "cell_type": "markdown",
            "metadata": {},
            "source": ["# Secret Handshake\n", "\n", "> There are 10 types of people in the world: Those who understand\n", "> binary, and those who don't.\n", "\n", "You and your fellow cohort of those in the \"know\" when it comes to\n", "binary decide to come up with a secret \"handshake\".\n", "\n", "```text\n", "1 = wink\n", "10 = double blink\n", "100 = close your eyes\n", "1000 = jump\n", "\n", "\n", "10000 = Reverse the order of the operations in the secret handshake.\n", "```\n", "\n", "Given a decimal number, convert it to the appropriate sequence of events for a secret handshake.\n", "\n", "Here's a couple of examples:\n", "\n", "Given the input 3, the function would return the array\n", "[\"wink\", \"double blink\"] because 3 is 11 in binary.\n", "\n", "Given the input 19, the function would return the array\n", "[\"double blink\", \"wink\"] because 19 is 10011 in binary.\n", "Notice that the addition of 16 (10000 in binary)\n", "has caused the array to be reversed.\n", "\n", "## Source\n", "\n", "Bert, in Mary Poppins [http://www.imdb.com/title/tt0058331/quotes/qt0437047](http://www.imdb.com/title/tt0058331/quotes/qt0437047)\n", "\n", "## Version compatibility\n", "This exercise has been tested on Julia versions >=1.0.\n", "\n", "## Submitting Incomplete Solutions\n", "It's possible to submit an incomplete solution so you can see how others have completed the exercise."]
        },
        {
            "cell_type": "markdown",
            "metadata": {},
            "source": ["## Your solution"]
        },
        {
            "cell_type": "code",
            "execution_count": null,
            "metadata": {},
            "outputs": [],
            "source": ["# submit\n", "function secret_handshake(code)\n", "\n", "end"]
        },
        {
            "cell_type": "markdown",
            "metadata": {},
            "source": ["## Test suite"]
        },
        {
            "cell_type": "code",
            "execution_count": null,
            "metadata": {},
            "outputs": [],
            "source": ["using Test\n", "\n", "# include(\"secret-handshake.jl\")\n", "\n", "@testset \"wink for 1\" begin\n", "    @test secret_handshake(1) == [\"wink\"]\n", "end\n", "\n", "@testset \"double blink for 10\" begin\n", "    @test secret_handshake(2) == [\"double blink\"]\n", "end\n", "\n", "@testset \"close your eyes for 100\" begin\n", "    @test secret_handshake(4) == [\"close your eyes\"]\n", "end\n", "\n", "@testset \"jump for 1000\" begin\n", "    @test secret_handshake(8) == [\"jump\"]\n", "end\n", "\n", "@testset \"combine two actions\" begin\n", "    @test secret_handshake(3) == [\"wink\", \"double blink\"]\n", "end\n", "\n", "@testset \"reverse two actions\" begin\n", "    @test secret_handshake(19) == [\"double blink\", \"wink\"]\n", "end\n", "\n", "@testset \"reversing one action gives the same action\" begin\n", "    @test secret_handshake(24) == [\"jump\"]\n", "end\n", "\n", "@testset \"reversing no actions still gives no actions\" begin\n", "    @test secret_handshake(16) == []\n", "end\n", "\n", "@testset \"all possible actions\" begin\n", "    @test secret_handshake(15) == [\"wink\", \"double blink\", \"close your eyes\", \"jump\"]\n", "end\n", "\n", "@testset \"reverse all possible actions\" begin\n", "    @test secret_handshake(31) == [\"jump\", \"close your eyes\", \"double blink\", \"wink\"]\n", "end\n", "\n", "@testset \"do nothing for zero\" begin\n", "    @test secret_handshake(0) == []\n", "end\n", "\n", "@testset \"do nothing if lower 5 bits not set\" begin\n", "    @test secret_handshake(32) == []\n", "end"]
        },
        {
            "cell_type": "markdown",
            "metadata": {},
            "source": [
                "## Prepare submission\n",
                "To submit your exercise, you need to save your solution in a file called `secret-handshake.jl` before using the CLI.\n",
                "You can either create it manually or use the following functions, which will automatically write every notebook cell that starts with `# submit` to the file `secret-handshake.jl`.\n"
            ]
        },
        {
            "cell_type": "code",
            "execution_count": null,
            "metadata": {},
            "outputs": [],
            "source": [
                "# using Pkg; Pkg.add(\"Exercism\")\n",
                "# using Exercism\n",
                "# Exercism.create_submission(\"secret-handshake\")"
            ]
        }
    ],
    "metadata": {
        "kernelspec": {
            "display_name": "Julia 1.3.0",
            "language": "julia",
            "name": "julia-1.3"
        },
        "language_info": {
            "file_extension": ".jl",
            "mimetype": "application/julia",
            "name": "julia",
            "version": "1.3.0"
        }
    },
    "nbformat": 4,
    "nbformat_minor": 2
}
